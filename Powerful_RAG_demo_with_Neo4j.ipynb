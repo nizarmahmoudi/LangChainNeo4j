{
  "nbformat": 4,
  "nbformat_minor": 0,
  "metadata": {
    "colab": {
      "provenance": [],
      "gpuType": "T4",
      "include_colab_link": true
    },
    "kernelspec": {
      "name": "python3",
      "display_name": "Python 3"
    },
    "language_info": {
      "name": "python"
    },
    "accelerator": "GPU",
    "widgets": {
      "application/vnd.jupyter.widget-state+json": {
        "2a112d5af5ce489883470d9dc42fe6bf": {
          "model_module": "yfiles-jupyter-graphs",
          "model_name": "GraphModel",
          "model_module_version": "^1.7.1",
          "state": {
            "_context_pane_mapping": [
              {
                "id": "Neighborhood",
                "title": "Neighborhood"
              },
              {
                "id": "Data",
                "title": "Data"
              },
              {
                "id": "Search",
                "title": "Search"
              },
              {
                "id": "About",
                "title": "About"
              }
            ],
            "_data_importer": "neo4j",
            "_directed": true,
            "_dom_classes": [],
            "_edges": [
              {
                "id": 1152922604118474800,
                "start": 1,
                "end": 2,
                "properties": {
                  "label": "RULED"
                },
                "label": "RULED",
                "color": "#607D8B",
                "thickness_factor": 1,
                "directed": true
              },
              {
                "id": 1155174403932160000,
                "start": 1,
                "end": 3,
                "properties": {
                  "label": "RULED"
                },
                "label": "RULED",
                "color": "#607D8B",
                "thickness_factor": 1,
                "directed": true
              },
              {
                "id": 1152923703630102500,
                "start": 1,
                "end": 4,
                "properties": {
                  "label": "BELONGS_TO"
                },
                "label": "BELONGS_TO",
                "color": "#673AB7",
                "thickness_factor": 1,
                "directed": true
              },
              {
                "id": 1152924803141730300,
                "start": 1,
                "end": 5,
                "properties": {
                  "label": "CHILD_OF"
                },
                "label": "CHILD_OF",
                "color": "#CDDC39",
                "thickness_factor": 1,
                "directed": true
              },
              {
                "id": 1155176602955415600,
                "start": 1,
                "end": 6,
                "properties": {
                  "label": "CHILD_OF"
                },
                "label": "CHILD_OF",
                "color": "#CDDC39",
                "thickness_factor": 1,
                "directed": true
              },
              {
                "id": 1152925902653358000,
                "start": 1,
                "end": 7,
                "properties": {
                  "label": "HALF-SISTER_OF"
                },
                "label": "HALF-SISTER_OF",
                "color": "#9E9E9E",
                "thickness_factor": 1,
                "directed": true
              },
              {
                "id": 1155177702467043300,
                "start": 1,
                "end": 9,
                "properties": {
                  "label": "HALF-SISTER_OF"
                },
                "label": "HALF-SISTER_OF",
                "color": "#9E9E9E",
                "thickness_factor": 1,
                "directed": true
              },
              {
                "id": 1152927002164985900,
                "start": 1,
                "end": 8,
                "properties": {
                  "label": "IGNORED_CLAIMS_OF"
                },
                "label": "IGNORED_CLAIMS_OF",
                "color": "#9C27B0",
                "thickness_factor": 1,
                "directed": true
              },
              {
                "id": 1152928101676613600,
                "start": 1,
                "end": 10,
                "properties": {
                  "label": "DEPENDS_ON"
                },
                "label": "DEPENDS_ON",
                "color": "#2196F3",
                "thickness_factor": 1,
                "directed": true
              },
              {
                "id": 1152929201188241400,
                "start": 1,
                "end": 11,
                "properties": {
                  "label": "CREATED"
                },
                "label": "CREATED",
                "color": "#4CAF50",
                "thickness_factor": 1,
                "directed": true
              },
              {
                "id": 1152930300699869200,
                "start": 1,
                "end": 14,
                "properties": {
                  "label": "MANOEUVRING_BETWEEN"
                },
                "label": "MANOEUVRING_BETWEEN",
                "color": "#F44336",
                "thickness_factor": 1,
                "directed": true
              },
              {
                "id": 1155182100513554400,
                "start": 1,
                "end": 15,
                "properties": {
                  "label": "MANOEUVRING_BETWEEN"
                },
                "label": "MANOEUVRING_BETWEEN",
                "color": "#F44336",
                "thickness_factor": 1,
                "directed": true
              },
              {
                "id": 1152931400211497000,
                "start": 1,
                "end": 12,
                "properties": {
                  "label": "SUCCEEDED_BY"
                },
                "label": "SUCCEEDED_BY",
                "color": "#607D8B",
                "thickness_factor": 1,
                "directed": true
              },
              {
                "id": 1152932499723124700,
                "start": 1,
                "end": 13,
                "properties": {
                  "label": "MOTHER_OF"
                },
                "label": "MOTHER_OF",
                "color": "#673AB7",
                "thickness_factor": 1,
                "directed": true
              },
              {
                "id": 6917576306641076000,
                "start": 1,
                "end": 12,
                "properties": {
                  "label": "SUCCESSOR"
                },
                "label": "SUCCESSOR",
                "color": "#CDDC39",
                "thickness_factor": 1,
                "directed": true
              },
              {
                "id": 1157472383234211800,
                "start": 5,
                "end": 1,
                "properties": {
                  "label": "SUCCESSOR"
                },
                "label": "SUCCESSOR",
                "color": "#CDDC39",
                "thickness_factor": 1,
                "directed": true
              },
              {
                "id": 1152968783606841300,
                "start": 5,
                "end": 7,
                "properties": {
                  "label": "SUCCESSOR"
                },
                "label": "SUCCESSOR",
                "color": "#CDDC39",
                "thickness_factor": 1,
                "directed": true
              },
              {
                "id": 1155220583420526600,
                "start": 5,
                "end": 62,
                "properties": {
                  "label": "SUCCESSOR"
                },
                "label": "SUCCESSOR",
                "color": "#CDDC39",
                "thickness_factor": 1,
                "directed": true
              },
              {
                "id": 1159724183047897000,
                "start": 5,
                "end": 63,
                "properties": {
                  "label": "SUCCESSOR"
                },
                "label": "SUCCESSOR",
                "color": "#CDDC39",
                "thickness_factor": 1,
                "directed": true
              },
              {
                "id": 1161975982861582300,
                "start": 5,
                "end": 64,
                "properties": {
                  "label": "SUCCESSOR"
                },
                "label": "SUCCESSOR",
                "color": "#CDDC39",
                "thickness_factor": 1,
                "directed": true
              },
              {
                "id": 1164227782675267600,
                "start": 5,
                "end": 65,
                "properties": {
                  "label": "SUCCESSOR"
                },
                "label": "SUCCESSOR",
                "color": "#CDDC39",
                "thickness_factor": 1,
                "directed": true
              },
              {
                "id": 1166479582488952800,
                "start": 5,
                "end": 66,
                "properties": {
                  "label": "SUCCESSOR"
                },
                "label": "SUCCESSOR",
                "color": "#CDDC39",
                "thickness_factor": 1,
                "directed": true
              },
              {
                "id": 1152956688978935800,
                "start": 13,
                "end": 73,
                "properties": {
                  "label": "MOTHER"
                },
                "label": "MOTHER",
                "color": "#9E9E9E",
                "thickness_factor": 1,
                "directed": true
              },
              {
                "id": 1152974281164980200,
                "start": 13,
                "end": 73,
                "properties": {
                  "label": "PARENT"
                },
                "label": "PARENT",
                "color": "#9C27B0",
                "thickness_factor": 1,
                "directed": true
              },
              {
                "id": 1152975380676608000,
                "start": 13,
                "end": 17,
                "properties": {
                  "label": "AMBASSADOR"
                },
                "label": "AMBASSADOR",
                "color": "#2196F3",
                "thickness_factor": 1,
                "directed": true
              },
              {
                "id": 1152976480188235800,
                "start": 13,
                "end": 73,
                "properties": {
                  "label": "ROMAN_CATHOLIC"
                },
                "label": "ROMAN_CATHOLIC",
                "color": "#4CAF50",
                "thickness_factor": 1,
                "directed": true
              },
              {
                "id": 1152977579699863600,
                "start": 13,
                "end": 73,
                "properties": {
                  "label": "EXECUTED"
                },
                "label": "EXECUTED",
                "color": "#F44336",
                "thickness_factor": 1,
                "directed": true
              },
              {
                "id": 1152924803141730300,
                "start": 17,
                "end": 25,
                "properties": {
                  "label": "CHILD_OF"
                },
                "label": "CHILD_OF",
                "color": "#CDDC39",
                "thickness_factor": 1,
                "directed": true
              },
              {
                "id": 1152932499723124700,
                "start": 17,
                "end": 26,
                "properties": {
                  "label": "MOTHER_OF"
                },
                "label": "MOTHER_OF",
                "color": "#673AB7",
                "thickness_factor": 1,
                "directed": true
              },
              {
                "id": 1152933599234752500,
                "start": 17,
                "end": 15,
                "properties": {
                  "label": "RULED_OVER"
                },
                "label": "RULED_OVER",
                "color": "#607D8B",
                "thickness_factor": 1,
                "directed": true
              },
              {
                "id": 1157438298373750800,
                "start": 17,
                "end": 3,
                "properties": {
                  "label": "SUPPORTED"
                },
                "label": "SUPPORTED",
                "color": "#673AB7",
                "thickness_factor": 1,
                "directed": true
              },
              {
                "id": 1155186498560065500,
                "start": 17,
                "end": 14,
                "properties": {
                  "label": "SUPPORTED"
                },
                "label": "SUPPORTED",
                "color": "#673AB7",
                "thickness_factor": 1,
                "directed": true
              },
              {
                "id": 1152934698746380300,
                "start": 17,
                "end": 18,
                "properties": {
                  "label": "SUPPORTED"
                },
                "label": "SUPPORTED",
                "color": "#673AB7",
                "thickness_factor": 1,
                "directed": true
              },
              {
                "id": 1159690098187436000,
                "start": 17,
                "end": 19,
                "properties": {
                  "label": "SUPPORTED"
                },
                "label": "SUPPORTED",
                "color": "#673AB7",
                "thickness_factor": 1,
                "directed": true
              },
              {
                "id": 1161941898001121300,
                "start": 17,
                "end": 20,
                "properties": {
                  "label": "SUPPORTED"
                },
                "label": "SUPPORTED",
                "color": "#673AB7",
                "thickness_factor": 1,
                "directed": true
              },
              {
                "id": 1164193697814806500,
                "start": 17,
                "end": 21,
                "properties": {
                  "label": "SUPPORTED"
                },
                "label": "SUPPORTED",
                "color": "#673AB7",
                "thickness_factor": 1,
                "directed": true
              },
              {
                "id": 1166445497628491800,
                "start": 17,
                "end": 22,
                "properties": {
                  "label": "SUPPORTED"
                },
                "label": "SUPPORTED",
                "color": "#673AB7",
                "thickness_factor": 1,
                "directed": true
              },
              {
                "id": 1152935798258008000,
                "start": 17,
                "end": 23,
                "properties": {
                  "label": "DEFEATED"
                },
                "label": "DEFEATED",
                "color": "#CDDC39",
                "thickness_factor": 1,
                "directed": true
              },
              {
                "id": 1152936897769635800,
                "start": 17,
                "end": 24,
                "properties": {
                  "label": "BORN_AT"
                },
                "label": "BORN_AT",
                "color": "#9E9E9E",
                "thickness_factor": 1,
                "directed": true
              },
              {
                "id": 6917562012989915000,
                "start": 17,
                "end": 47,
                "properties": {
                  "label": "BIRTH"
                },
                "label": "BIRTH",
                "color": "#9C27B0",
                "thickness_factor": 1,
                "directed": true
              },
              {
                "id": 6917562012989915000,
                "start": 17,
                "end": 48,
                "properties": {
                  "label": "BIRTH"
                },
                "label": "BIRTH",
                "color": "#9C27B0",
                "thickness_factor": 1,
                "directed": true
              },
              {
                "id": 6917563112501543000,
                "start": 17,
                "end": 49,
                "properties": {
                  "label": "FATHER"
                },
                "label": "FATHER",
                "color": "#2196F3",
                "thickness_factor": 1,
                "directed": true
              },
              {
                "id": 6917564212013171000,
                "start": 17,
                "end": 50,
                "properties": {
                  "label": "MOTHER"
                },
                "label": "MOTHER",
                "color": "#9E9E9E",
                "thickness_factor": 1,
                "directed": true
              },
              {
                "id": 6917573008106193000,
                "start": 17,
                "end": 53,
                "properties": {
                  "label": "TITLE_GRANTED"
                },
                "label": "TITLE_GRANTED",
                "color": "#4CAF50",
                "thickness_factor": 1,
                "directed": true
              },
              {
                "id": 1152937997281263600,
                "start": 28,
                "end": 29,
                "properties": {
                  "label": "HELD_TITLE"
                },
                "label": "HELD_TITLE",
                "color": "#F44336",
                "thickness_factor": 1,
                "directed": true
              },
              {
                "id": 1152939096792891400,
                "start": 28,
                "end": 30,
                "properties": {
                  "label": "DAUGHTER_OF"
                },
                "label": "DAUGHTER_OF",
                "color": "#607D8B",
                "thickness_factor": 1,
                "directed": true
              },
              {
                "id": 1155190896606576600,
                "start": 28,
                "end": 31,
                "properties": {
                  "label": "DAUGHTER_OF"
                },
                "label": "DAUGHTER_OF",
                "color": "#607D8B",
                "thickness_factor": 1,
                "directed": true
              },
              {
                "id": 1152940196304519200,
                "start": 28,
                "end": 32,
                "properties": {
                  "label": "RELATED_TO"
                },
                "label": "RELATED_TO",
                "color": "#673AB7",
                "thickness_factor": 1,
                "directed": true
              },
              {
                "id": 1155191996118204400,
                "start": 28,
                "end": 33,
                "properties": {
                  "label": "RELATED_TO"
                },
                "label": "RELATED_TO",
                "color": "#673AB7",
                "thickness_factor": 1,
                "directed": true
              },
              {
                "id": 1152941295816147000,
                "start": 28,
                "end": 34,
                "properties": {
                  "label": "SEIZED_THRONE_FROM"
                },
                "label": "SEIZED_THRONE_FROM",
                "color": "#CDDC39",
                "thickness_factor": 1,
                "directed": true
              }
            ],
            "_graph_layout": {},
            "_highlight": [],
            "_license": {},
            "_model_module": "yfiles-jupyter-graphs",
            "_model_module_version": "^1.7.1",
            "_model_name": "GraphModel",
            "_neighborhood": {},
            "_nodes": [
              {
                "id": 1,
                "properties": {
                  "id": "Elizabeth I",
                  "label": "__Entity__:Person"
                },
                "color": "#2196F3",
                "styles": {},
                "label": "Elizabeth I",
                "scale_factor": 1,
                "type": "#2196F3",
                "size": [
                  55,
                  55
                ],
                "position": [
                  0,
                  0
                ]
              },
              {
                "id": 2,
                "properties": {
                  "id": "England",
                  "label": "Country:__Entity__"
                },
                "color": "#4CAF50",
                "styles": {},
                "label": "England",
                "scale_factor": 1,
                "type": "#4CAF50",
                "size": [
                  55,
                  55
                ],
                "position": [
                  0,
                  0
                ]
              },
              {
                "id": 3,
                "properties": {
                  "id": "Ireland",
                  "label": "Country:__Entity__"
                },
                "color": "#4CAF50",
                "styles": {},
                "label": "Ireland",
                "scale_factor": 1,
                "type": "#4CAF50",
                "size": [
                  55,
                  55
                ],
                "position": [
                  0,
                  0
                ]
              },
              {
                "id": 4,
                "properties": {
                  "id": "House Of Tudor",
                  "label": "Royal family:__Entity__"
                },
                "color": "#F44336",
                "styles": {},
                "label": "House Of Tudor",
                "scale_factor": 1,
                "type": "#F44336",
                "size": [
                  55,
                  55
                ],
                "position": [
                  0,
                  0
                ]
              },
              {
                "id": 5,
                "properties": {
                  "id": "Henry Viii",
                  "label": "__Entity__:Person"
                },
                "color": "#2196F3",
                "styles": {},
                "label": "Henry Viii",
                "scale_factor": 1,
                "type": "#2196F3",
                "size": [
                  55,
                  55
                ],
                "position": [
                  0,
                  0
                ]
              },
              {
                "id": 6,
                "properties": {
                  "id": "Anne Boleyn",
                  "label": "__Entity__:Person"
                },
                "color": "#2196F3",
                "styles": {},
                "label": "Anne Boleyn",
                "scale_factor": 1,
                "type": "#2196F3",
                "size": [
                  55,
                  55
                ],
                "position": [
                  0,
                  0
                ]
              },
              {
                "id": 7,
                "properties": {
                  "id": "Edward Vi",
                  "label": "__Entity__:Person"
                },
                "color": "#2196F3",
                "styles": {},
                "label": "Edward Vi",
                "scale_factor": 1,
                "type": "#2196F3",
                "size": [
                  55,
                  55
                ],
                "position": [
                  0,
                  0
                ]
              },
              {
                "id": 9,
                "properties": {
                  "id": "Mary",
                  "label": "__Entity__:Person"
                },
                "color": "#2196F3",
                "styles": {},
                "label": "Mary",
                "scale_factor": 1,
                "type": "#2196F3",
                "size": [
                  55,
                  55
                ],
                "position": [
                  0,
                  0
                ]
              },
              {
                "id": 8,
                "properties": {
                  "id": "Lady Jane Grey",
                  "label": "__Entity__:Person"
                },
                "color": "#2196F3",
                "styles": {},
                "label": "Lady Jane Grey",
                "scale_factor": 1,
                "type": "#2196F3",
                "size": [
                  55,
                  55
                ],
                "position": [
                  0,
                  0
                ]
              },
              {
                "id": 10,
                "properties": {
                  "id": "William Cecil",
                  "label": "__Entity__:Person"
                },
                "color": "#2196F3",
                "styles": {},
                "label": "William Cecil",
                "scale_factor": 1,
                "type": "#2196F3",
                "size": [
                  55,
                  55
                ],
                "position": [
                  0,
                  0
                ]
              },
              {
                "id": 11,
                "properties": {
                  "id": "Baron Burghley",
                  "label": "__Entity__:Person"
                },
                "color": "#2196F3",
                "styles": {},
                "label": "Baron Burghley",
                "scale_factor": 1,
                "type": "#2196F3",
                "size": [
                  55,
                  55
                ],
                "position": [
                  0,
                  0
                ]
              },
              {
                "id": 14,
                "properties": {
                  "id": "France",
                  "label": "Country:__Entity__"
                },
                "color": "#4CAF50",
                "styles": {},
                "label": "France",
                "scale_factor": 1,
                "type": "#4CAF50",
                "size": [
                  55,
                  55
                ],
                "position": [
                  0,
                  0
                ]
              },
              {
                "id": 15,
                "properties": {
                  "id": "Spain",
                  "label": "Country:__Entity__"
                },
                "color": "#4CAF50",
                "styles": {},
                "label": "Spain",
                "scale_factor": 1,
                "type": "#4CAF50",
                "size": [
                  55,
                  55
                ],
                "position": [
                  0,
                  0
                ]
              },
              {
                "id": 12,
                "properties": {
                  "id": "James Vi Of Scotland",
                  "label": "__Entity__:Person"
                },
                "color": "#2196F3",
                "styles": {},
                "label": "James Vi Of Scotland",
                "scale_factor": 1,
                "type": "#2196F3",
                "size": [
                  55,
                  55
                ],
                "position": [
                  0,
                  0
                ]
              },
              {
                "id": 13,
                "properties": {
                  "id": "Mary, Queen Of Scots",
                  "label": "__Entity__:Person"
                },
                "color": "#2196F3",
                "styles": {},
                "label": "Mary, Queen Of Scots",
                "scale_factor": 1,
                "type": "#2196F3",
                "size": [
                  55,
                  55
                ],
                "position": [
                  0,
                  0
                ]
              },
              {
                "id": 62,
                "properties": {
                  "id": "Mary I",
                  "label": "__Entity__:Person"
                },
                "color": "#2196F3",
                "styles": {},
                "label": "Mary I",
                "scale_factor": 1,
                "type": "#2196F3",
                "size": [
                  55,
                  55
                ],
                "position": [
                  0,
                  0
                ]
              },
              {
                "id": 63,
                "properties": {
                  "id": "Jane Grey",
                  "label": "__Entity__:Person"
                },
                "color": "#2196F3",
                "styles": {},
                "label": "Jane Grey",
                "scale_factor": 1,
                "type": "#2196F3",
                "size": [
                  55,
                  55
                ],
                "position": [
                  0,
                  0
                ]
              },
              {
                "id": 64,
                "properties": {
                  "id": "Katherine Grey",
                  "label": "__Entity__:Person"
                },
                "color": "#2196F3",
                "styles": {},
                "label": "Katherine Grey",
                "scale_factor": 1,
                "type": "#2196F3",
                "size": [
                  55,
                  55
                ],
                "position": [
                  0,
                  0
                ]
              },
              {
                "id": 65,
                "properties": {
                  "id": "Mary Grey",
                  "label": "__Entity__:Person"
                },
                "color": "#2196F3",
                "styles": {},
                "label": "Mary Grey",
                "scale_factor": 1,
                "type": "#2196F3",
                "size": [
                  55,
                  55
                ],
                "position": [
                  0,
                  0
                ]
              },
              {
                "id": 66,
                "properties": {
                  "id": "Margaret Clifford",
                  "label": "__Entity__:Person"
                },
                "color": "#2196F3",
                "styles": {},
                "label": "Margaret Clifford",
                "scale_factor": 1,
                "type": "#2196F3",
                "size": [
                  55,
                  55
                ],
                "position": [
                  0,
                  0
                ]
              },
              {
                "id": 73,
                "properties": {
                  "id": "James Vi",
                  "label": "__Entity__:Person"
                },
                "color": "#2196F3",
                "styles": {},
                "label": "James Vi",
                "scale_factor": 1,
                "type": "#2196F3",
                "size": [
                  55,
                  55
                ],
                "position": [
                  0,
                  0
                ]
              },
              {
                "id": 17,
                "properties": {
                  "id": "Elizabeth",
                  "label": "__Entity__:Person"
                },
                "color": "#2196F3",
                "styles": {},
                "label": "Elizabeth",
                "scale_factor": 1,
                "type": "#2196F3",
                "size": [
                  55,
                  55
                ],
                "position": [
                  0,
                  0
                ]
              },
              {
                "id": 25,
                "properties": {
                  "id": "Henry Viii Of England",
                  "label": "__Entity__:Person"
                },
                "color": "#2196F3",
                "styles": {},
                "label": "Henry Viii Of England",
                "scale_factor": 1,
                "type": "#2196F3",
                "size": [
                  55,
                  55
                ],
                "position": [
                  0,
                  0
                ]
              },
              {
                "id": 26,
                "properties": {
                  "id": "Anne Bol",
                  "label": "__Entity__:Person"
                },
                "color": "#2196F3",
                "styles": {},
                "label": "Anne Bol",
                "scale_factor": 1,
                "type": "#2196F3",
                "size": [
                  55,
                  55
                ],
                "position": [
                  0,
                  0
                ]
              },
              {
                "id": 18,
                "properties": {
                  "id": "Netherlands",
                  "label": "Country:__Entity__"
                },
                "color": "#4CAF50",
                "styles": {},
                "label": "Netherlands",
                "scale_factor": 1,
                "type": "#4CAF50",
                "size": [
                  55,
                  55
                ],
                "position": [
                  0,
                  0
                ]
              },
              {
                "id": 19,
                "properties": {
                  "id": "William Shakespeare",
                  "label": "Playwright:__Entity__"
                },
                "color": "#607D8B",
                "styles": {},
                "label": "William Shakespeare",
                "scale_factor": 1,
                "type": "#607D8B",
                "size": [
                  55,
                  55
                ],
                "position": [
                  0,
                  0
                ]
              },
              {
                "id": 20,
                "properties": {
                  "id": "Christopher Marlowe",
                  "label": "Playwright:__Entity__"
                },
                "color": "#607D8B",
                "styles": {},
                "label": "Christopher Marlowe",
                "scale_factor": 1,
                "type": "#607D8B",
                "size": [
                  55,
                  55
                ],
                "position": [
                  0,
                  0
                ]
              },
              {
                "id": 21,
                "properties": {
                  "id": "Francis Drake",
                  "label": "Maritime adventurer:__Entity__"
                },
                "color": "#673AB7",
                "styles": {},
                "label": "Francis Drake",
                "scale_factor": 1,
                "type": "#673AB7",
                "size": [
                  55,
                  55
                ],
                "position": [
                  0,
                  0
                ]
              },
              {
                "id": 22,
                "properties": {
                  "id": "Walter Raleigh",
                  "label": "Maritime adventurer:__Entity__"
                },
                "color": "#673AB7",
                "styles": {},
                "label": "Walter Raleigh",
                "scale_factor": 1,
                "type": "#673AB7",
                "size": [
                  55,
                  55
                ],
                "position": [
                  0,
                  0
                ]
              },
              {
                "id": 23,
                "properties": {
                  "id": "Spanish Armada",
                  "label": "__Entity__:Event"
                },
                "color": "#CDDC39",
                "styles": {},
                "label": "Spanish Armada",
                "scale_factor": 1,
                "type": "#CDDC39",
                "size": [
                  55,
                  55
                ],
                "position": [
                  0,
                  0
                ]
              },
              {
                "id": 24,
                "properties": {
                  "id": "Greenwich Palace",
                  "label": "Place:__Entity__"
                },
                "color": "#9E9E9E",
                "styles": {},
                "label": "Greenwich Palace",
                "scale_factor": 1,
                "type": "#9E9E9E",
                "size": [
                  55,
                  55
                ],
                "position": [
                  0,
                  0
                ]
              },
              {
                "id": 47,
                "properties": {
                  "id": "Kolomenskoye",
                  "label": "Place:__Entity__"
                },
                "color": "#9E9E9E",
                "styles": {},
                "label": "Kolomenskoye",
                "scale_factor": 1,
                "type": "#9E9E9E",
                "size": [
                  55,
                  55
                ],
                "position": [
                  0,
                  0
                ]
              },
              {
                "id": 48,
                "properties": {
                  "id": "Moscow",
                  "label": "City:__Entity__"
                },
                "color": "#9C27B0",
                "styles": {},
                "label": "Moscow",
                "scale_factor": 1,
                "type": "#9C27B0",
                "size": [
                  55,
                  55
                ],
                "position": [
                  0,
                  0
                ]
              },
              {
                "id": 49,
                "properties": {
                  "id": "Peter The Great",
                  "label": "__Entity__:Person"
                },
                "color": "#2196F3",
                "styles": {},
                "label": "Peter The Great",
                "scale_factor": 1,
                "type": "#2196F3",
                "size": [
                  55,
                  55
                ],
                "position": [
                  0,
                  0
                ]
              },
              {
                "id": 50,
                "properties": {
                  "id": "Catherine",
                  "label": "__Entity__:Person"
                },
                "color": "#2196F3",
                "styles": {},
                "label": "Catherine",
                "scale_factor": 1,
                "type": "#2196F3",
                "size": [
                  55,
                  55
                ],
                "position": [
                  0,
                  0
                ]
              },
              {
                "id": 53,
                "properties": {
                  "id": "Tsarevna",
                  "label": "Title:__Entity__"
                },
                "color": "#2196F3",
                "styles": {},
                "label": "Tsarevna",
                "scale_factor": 1,
                "type": "#2196F3",
                "size": [
                  55,
                  55
                ],
                "position": [
                  0,
                  0
                ]
              },
              {
                "id": 28,
                "properties": {
                  "id": "Elizabeth Petrovna",
                  "label": "__Entity__:Person"
                },
                "color": "#2196F3",
                "styles": {},
                "label": "Elizabeth Petrovna",
                "scale_factor": 1,
                "type": "#2196F3",
                "size": [
                  55,
                  55
                ],
                "position": [
                  0,
                  0
                ]
              },
              {
                "id": 29,
                "properties": {
                  "id": "Empress Of Russia",
                  "label": "Title:__Entity__"
                },
                "color": "#2196F3",
                "styles": {},
                "label": "Empress Of Russia",
                "scale_factor": 1,
                "type": "#2196F3",
                "size": [
                  55,
                  55
                ],
                "position": [
                  0,
                  0
                ]
              },
              {
                "id": 30,
                "properties": {
                  "id": "Tsar Peter The Great",
                  "label": "Monarch:__Entity__"
                },
                "color": "#4CAF50",
                "styles": {},
                "label": "Tsar Peter The Great",
                "scale_factor": 1,
                "type": "#4CAF50",
                "size": [
                  55,
                  55
                ],
                "position": [
                  0,
                  0
                ]
              },
              {
                "id": 31,
                "properties": {
                  "id": "Catherine I Of Russia",
                  "label": "Monarch:__Entity__"
                },
                "color": "#4CAF50",
                "styles": {},
                "label": "Catherine I Of Russia",
                "scale_factor": 1,
                "type": "#4CAF50",
                "size": [
                  55,
                  55
                ],
                "position": [
                  0,
                  0
                ]
              },
              {
                "id": 32,
                "properties": {
                  "id": "Peter Ii",
                  "label": "Monarch:__Entity__"
                },
                "color": "#4CAF50",
                "styles": {},
                "label": "Peter Ii",
                "scale_factor": 1,
                "type": "#4CAF50",
                "size": [
                  55,
                  55
                ],
                "position": [
                  0,
                  0
                ]
              },
              {
                "id": 33,
                "properties": {
                  "id": "Anna",
                  "label": "Monarch:__Entity__:Person"
                },
                "color": "#F44336",
                "styles": {},
                "label": "Anna",
                "scale_factor": 1,
                "type": "#F44336",
                "size": [
                  55,
                  55
                ],
                "position": [
                  0,
                  0
                ]
              },
              {
                "id": 34,
                "properties": {
                  "id": "Ivan Vi",
                  "label": "Monarch:__Entity__"
                },
                "color": "#4CAF50",
                "styles": {},
                "label": "Ivan Vi",
                "scale_factor": 1,
                "type": "#4CAF50",
                "size": [
                  55,
                  55
                ],
                "position": [
                  0,
                  0
                ]
              }
            ],
            "_overview": {
              "enabled": null,
              "overview_set": false
            },
            "_selected_graph": [
              [],
              []
            ],
            "_sidebar": {
              "enabled": true,
              "start_with": ""
            },
            "_view_count": null,
            "_view_module": "yfiles-jupyter-graphs",
            "_view_module_version": "^1.7.1",
            "_view_name": "GraphView",
            "layout": "IPY_MODEL_88ae565e453f4ea5bddb67854630f0bb",
            "tabbable": null,
            "tooltip": null
          }
        },
        "88ae565e453f4ea5bddb67854630f0bb": {
          "model_module": "@jupyter-widgets/base",
          "model_name": "LayoutModel",
          "model_module_version": "2.0.0",
          "state": {
            "_model_module": "@jupyter-widgets/base",
            "_model_module_version": "2.0.0",
            "_model_name": "LayoutModel",
            "_view_count": null,
            "_view_module": "@jupyter-widgets/base",
            "_view_module_version": "2.0.0",
            "_view_name": "LayoutView",
            "align_content": null,
            "align_items": null,
            "align_self": null,
            "border_bottom": null,
            "border_left": null,
            "border_right": null,
            "border_top": null,
            "bottom": null,
            "display": null,
            "flex": null,
            "flex_flow": null,
            "grid_area": null,
            "grid_auto_columns": null,
            "grid_auto_flow": null,
            "grid_auto_rows": null,
            "grid_column": null,
            "grid_gap": null,
            "grid_row": null,
            "grid_template_areas": null,
            "grid_template_columns": null,
            "grid_template_rows": null,
            "height": "800px",
            "justify_content": null,
            "justify_items": null,
            "left": null,
            "margin": null,
            "max_height": null,
            "max_width": null,
            "min_height": null,
            "min_width": null,
            "object_fit": null,
            "object_position": null,
            "order": null,
            "overflow": null,
            "padding": null,
            "right": null,
            "top": null,
            "visibility": null,
            "width": "100%"
          }
        },
        "eb192432c9b3470f86aa697402caae42": {
          "model_module": "@jupyter-widgets/base",
          "model_name": "LayoutModel",
          "model_module_version": "2.0.0",
          "state": {
            "_model_module": "@jupyter-widgets/base",
            "_model_module_version": "2.0.0",
            "_model_name": "LayoutModel",
            "_view_count": null,
            "_view_module": "@jupyter-widgets/base",
            "_view_module_version": "2.0.0",
            "_view_name": "LayoutView",
            "align_content": null,
            "align_items": null,
            "align_self": null,
            "border_bottom": null,
            "border_left": null,
            "border_right": null,
            "border_top": null,
            "bottom": null,
            "display": null,
            "flex": null,
            "flex_flow": null,
            "grid_area": null,
            "grid_auto_columns": null,
            "grid_auto_flow": null,
            "grid_auto_rows": null,
            "grid_column": null,
            "grid_gap": null,
            "grid_row": null,
            "grid_template_areas": null,
            "grid_template_columns": null,
            "grid_template_rows": null,
            "height": "800px",
            "justify_content": null,
            "justify_items": null,
            "left": null,
            "margin": null,
            "max_height": null,
            "max_width": null,
            "min_height": null,
            "min_width": null,
            "object_fit": null,
            "object_position": null,
            "order": null,
            "overflow": null,
            "padding": null,
            "right": null,
            "top": null,
            "visibility": null,
            "width": "100%"
          }
        }
      }
    }
  },
  "cells": [
    {
      "cell_type": "markdown",
      "metadata": {
        "id": "view-in-github",
        "colab_type": "text"
      },
      "source": [
        "<a href=\"https://colab.research.google.com/github/nizarmahmoudi/LangChainNeo4j/blob/main/Powerful_RAG_demo_with_Neo4j.ipynb\" target=\"_parent\"><img src=\"https://colab.research.google.com/assets/colab-badge.svg\" alt=\"Open In Colab\"/></a>"
      ]
    },
    {
      "cell_type": "code",
      "execution_count": null,
      "metadata": {
        "colab": {
          "base_uri": "https://localhost:8080/"
        },
        "id": "TuwDTZlwdYs9",
        "outputId": "2431340e-d108-4718-e2a4-be17921e01c2"
      },
      "outputs": [
        {
          "output_type": "stream",
          "name": "stdout",
          "text": [
            "Tue Jun 11 08:42:10 2024       \n",
            "+---------------------------------------------------------------------------------------+\n",
            "| NVIDIA-SMI 535.104.05             Driver Version: 535.104.05   CUDA Version: 12.2     |\n",
            "|-----------------------------------------+----------------------+----------------------+\n",
            "| GPU  Name                 Persistence-M | Bus-Id        Disp.A | Volatile Uncorr. ECC |\n",
            "| Fan  Temp   Perf          Pwr:Usage/Cap |         Memory-Usage | GPU-Util  Compute M. |\n",
            "|                                         |                      |               MIG M. |\n",
            "|=========================================+======================+======================|\n",
            "|   0  Tesla T4                       Off | 00000000:00:04.0 Off |                    0 |\n",
            "| N/A   52C    P8              12W /  70W |      0MiB / 15360MiB |      0%      Default |\n",
            "|                                         |                      |                  N/A |\n",
            "+-----------------------------------------+----------------------+----------------------+\n",
            "                                                                                         \n",
            "+---------------------------------------------------------------------------------------+\n",
            "| Processes:                                                                            |\n",
            "|  GPU   GI   CI        PID   Type   Process name                            GPU Memory |\n",
            "|        ID   ID                                                             Usage      |\n",
            "|=======================================================================================|\n",
            "|  No running processes found                                                           |\n",
            "+---------------------------------------------------------------------------------------+\n"
          ]
        }
      ],
      "source": [
        "!nvidia-smi"
      ]
    },
    {
      "cell_type": "code",
      "source": [
        "%pip install --upgrade --quiet  langchain langchain-community langchain-openai langchain-experimental neo4j wikipedia tiktoken yfiles_jupyter_graphs"
      ],
      "metadata": {
        "colab": {
          "base_uri": "https://localhost:8080/"
        },
        "id": "gNqc7oDXdjhB",
        "outputId": "26801012-2c5f-43b8-df3b-d5f611d35df8"
      },
      "execution_count": null,
      "outputs": [
        {
          "output_type": "stream",
          "name": "stdout",
          "text": [
            "\u001b[2K     \u001b[90m━━━━━━━━━━━━━━━━━━━━━━━━━━━━━━━━━━━━━━━━\u001b[0m \u001b[32m974.0/974.0 kB\u001b[0m \u001b[31m16.7 MB/s\u001b[0m eta \u001b[36m0:00:00\u001b[0m\n",
            "\u001b[2K     \u001b[90m━━━━━━━━━━━━━━━━━━━━━━━━━━━━━━━━━━━━━━━━\u001b[0m \u001b[32m2.2/2.2 MB\u001b[0m \u001b[31m59.3 MB/s\u001b[0m eta \u001b[36m0:00:00\u001b[0m\n",
            "\u001b[2K     \u001b[90m━━━━━━━━━━━━━━━━━━━━━━━━━━━━━━━━━━━━━━━━\u001b[0m \u001b[32m199.7/199.7 kB\u001b[0m \u001b[31m19.9 MB/s\u001b[0m eta \u001b[36m0:00:00\u001b[0m\n",
            "\u001b[2K     \u001b[90m━━━━━━━━━━━━━━━━━━━━━━━━━━━━━━━━━━━━━━━━\u001b[0m \u001b[32m203.0/203.0 kB\u001b[0m \u001b[31m22.0 MB/s\u001b[0m eta \u001b[36m0:00:00\u001b[0m\n",
            "\u001b[?25h  Installing build dependencies ... \u001b[?25l\u001b[?25hdone\n",
            "  Getting requirements to build wheel ... \u001b[?25l\u001b[?25hdone\n",
            "  Installing backend dependencies ... \u001b[?25l\u001b[?25hdone\n",
            "  Preparing metadata (pyproject.toml) ... \u001b[?25l\u001b[?25hdone\n",
            "  Preparing metadata (setup.py) ... \u001b[?25l\u001b[?25hdone\n",
            "\u001b[2K     \u001b[90m━━━━━━━━━━━━━━━━━━━━━━━━━━━━━━━━━━━━━━━━\u001b[0m \u001b[32m1.1/1.1 MB\u001b[0m \u001b[31m67.8 MB/s\u001b[0m eta \u001b[36m0:00:00\u001b[0m\n",
            "\u001b[2K     \u001b[90m━━━━━━━━━━━━━━━━━━━━━━━━━━━━━━━━━━━━━━━━\u001b[0m \u001b[32m15.5/15.5 MB\u001b[0m \u001b[31m93.1 MB/s\u001b[0m eta \u001b[36m0:00:00\u001b[0m\n",
            "\u001b[2K     \u001b[90m━━━━━━━━━━━━━━━━━━━━━━━━━━━━━━━━━━━━━━━━\u001b[0m \u001b[32m314.7/314.7 kB\u001b[0m \u001b[31m41.2 MB/s\u001b[0m eta \u001b[36m0:00:00\u001b[0m\n",
            "\u001b[2K     \u001b[90m━━━━━━━━━━━━━━━━━━━━━━━━━━━━━━━━━━━━━━━━\u001b[0m \u001b[32m124.9/124.9 kB\u001b[0m \u001b[31m18.6 MB/s\u001b[0m eta \u001b[36m0:00:00\u001b[0m\n",
            "\u001b[2K     \u001b[90m━━━━━━━━━━━━━━━━━━━━━━━━━━━━━━━━━━━━━━━━\u001b[0m \u001b[32m325.5/325.5 kB\u001b[0m \u001b[31m34.6 MB/s\u001b[0m eta \u001b[36m0:00:00\u001b[0m\n",
            "\u001b[2K     \u001b[90m━━━━━━━━━━━━━━━━━━━━━━━━━━━━━━━━━━━━━━━━\u001b[0m \u001b[32m139.4/139.4 kB\u001b[0m \u001b[31m20.0 MB/s\u001b[0m eta \u001b[36m0:00:00\u001b[0m\n",
            "\u001b[2K     \u001b[90m━━━━━━━━━━━━━━━━━━━━━━━━━━━━━━━━━━━━━━━━\u001b[0m \u001b[32m49.2/49.2 kB\u001b[0m \u001b[31m6.3 MB/s\u001b[0m eta \u001b[36m0:00:00\u001b[0m\n",
            "\u001b[2K     \u001b[90m━━━━━━━━━━━━━━━━━━━━━━━━━━━━━━━━━━━━━━━━\u001b[0m \u001b[32m2.3/2.3 MB\u001b[0m \u001b[31m96.5 MB/s\u001b[0m eta \u001b[36m0:00:00\u001b[0m\n",
            "\u001b[2K     \u001b[90m━━━━━━━━━━━━━━━━━━━━━━━━━━━━━━━━━━━━━━━━\u001b[0m \u001b[32m53.0/53.0 kB\u001b[0m \u001b[31m6.9 MB/s\u001b[0m eta \u001b[36m0:00:00\u001b[0m\n",
            "\u001b[2K     \u001b[90m━━━━━━━━━━━━━━━━━━━━━━━━━━━━━━━━━━━━━━━━\u001b[0m \u001b[32m142.7/142.7 kB\u001b[0m \u001b[31m19.4 MB/s\u001b[0m eta \u001b[36m0:00:00\u001b[0m\n",
            "\u001b[2K     \u001b[90m━━━━━━━━━━━━━━━━━━━━━━━━━━━━━━━━━━━━━━━━\u001b[0m \u001b[32m75.6/75.6 kB\u001b[0m \u001b[31m10.4 MB/s\u001b[0m eta \u001b[36m0:00:00\u001b[0m\n",
            "\u001b[2K     \u001b[90m━━━━━━━━━━━━━━━━━━━━━━━━━━━━━━━━━━━━━━━━\u001b[0m \u001b[32m77.9/77.9 kB\u001b[0m \u001b[31m12.4 MB/s\u001b[0m eta \u001b[36m0:00:00\u001b[0m\n",
            "\u001b[2K     \u001b[90m━━━━━━━━━━━━━━━━━━━━━━━━━━━━━━━━━━━━━━━━\u001b[0m \u001b[32m58.3/58.3 kB\u001b[0m \u001b[31m9.2 MB/s\u001b[0m eta \u001b[36m0:00:00\u001b[0m\n",
            "\u001b[2K     \u001b[90m━━━━━━━━━━━━━━━━━━━━━━━━━━━━━━━━━━━━━━━━\u001b[0m \u001b[32m1.6/1.6 MB\u001b[0m \u001b[31m86.0 MB/s\u001b[0m eta \u001b[36m0:00:00\u001b[0m\n",
            "\u001b[?25h  Building wheel for neo4j (pyproject.toml) ... \u001b[?25l\u001b[?25hdone\n",
            "  Building wheel for wikipedia (setup.py) ... \u001b[?25l\u001b[?25hdone\n"
          ]
        }
      ]
    },
    {
      "cell_type": "code",
      "source": [
        "from langchain_core.runnables import (\n",
        "    RunnableBranch,\n",
        "    RunnableLambda,\n",
        "    RunnableParallel,\n",
        "    RunnablePassthrough\n",
        ")"
      ],
      "metadata": {
        "id": "rYH3K6Y5eK1T"
      },
      "execution_count": null,
      "outputs": []
    },
    {
      "cell_type": "code",
      "source": [
        "from langchain_core.prompts import ChatPromptTemplate\n",
        "from langchain_core.prompts.prompt import PromptTemplate"
      ],
      "metadata": {
        "id": "AAetyn6EeKye"
      },
      "execution_count": null,
      "outputs": []
    },
    {
      "cell_type": "code",
      "source": [
        "from google.colab import userdata\n",
        "OPENAI_API_KEY=userdata.get('OPENAI_API_KEY')"
      ],
      "metadata": {
        "id": "JFS9qWjoezNf"
      },
      "execution_count": null,
      "outputs": []
    },
    {
      "cell_type": "code",
      "source": [
        "OPENAI_API_KEY"
      ],
      "metadata": {
        "id": "7loUZjbXfOYq"
      },
      "execution_count": null,
      "outputs": []
    },
    {
      "cell_type": "code",
      "source": [
        "from typing import Tuple, List, Optional"
      ],
      "metadata": {
        "id": "SSSR7nV5fOVs"
      },
      "execution_count": null,
      "outputs": []
    },
    {
      "cell_type": "code",
      "source": [
        "from langchain_core.messages import AIMessage, HumanMessage\n",
        "from langchain_core.output_parsers import StrOutputParser\n",
        "from langchain_core.runnables import ConfigurableField\n",
        "from yfiles_jupyter_graphs import GraphWidget\n",
        "from neo4j import GraphDatabase\n",
        "import os"
      ],
      "metadata": {
        "id": "pcRfRelFfkcI"
      },
      "execution_count": null,
      "outputs": []
    },
    {
      "cell_type": "code",
      "source": [
        "try:\n",
        "  import google.colab\n",
        "  from google.colab import output\n",
        "  output.enable_custom_widget_manager()\n",
        "except:\n",
        "  pass"
      ],
      "metadata": {
        "id": "pi6hKs6Rf4n1"
      },
      "execution_count": null,
      "outputs": []
    },
    {
      "cell_type": "code",
      "source": [
        "from langchain_community.vectorstores import Neo4jVector"
      ],
      "metadata": {
        "id": "AiqAOBDrf7Jq"
      },
      "execution_count": null,
      "outputs": []
    },
    {
      "cell_type": "code",
      "source": [
        "NEO4J_URI= \"neo4j+s://60d9e1a9.databases.neo4j.io\"\n",
        "NEO4J_USERNAME= \"neo4j\"\n",
        "NEO4J_PASSWORD= \"ia0HP_RvF9-lOpNJbdf_Mh54c28tfnnOPWNMoztxVUA\""
      ],
      "metadata": {
        "id": "7FILDPi1f7Fh"
      },
      "execution_count": null,
      "outputs": []
    },
    {
      "cell_type": "code",
      "source": [
        "os.environ[\"OPENAI_API_KEY\"] = OPENAI_API_KEY\n",
        "os.environ[\"NEO4J_URI\"] = NEO4J_URI\n",
        "os.environ[\"NEO4J_USERNAME\"] = NEO4J_USERNAME\n",
        "os.environ[\"NEO4J_PASSWORD\"] = NEO4J_PASSWORD"
      ],
      "metadata": {
        "id": "5v2deMBvf7Co"
      },
      "execution_count": null,
      "outputs": []
    },
    {
      "cell_type": "code",
      "source": [
        "from langchain_community.graphs import Neo4jGraph"
      ],
      "metadata": {
        "id": "STZIw69Pf7AI"
      },
      "execution_count": null,
      "outputs": []
    },
    {
      "cell_type": "code",
      "source": [
        "graph = Neo4jGraph()"
      ],
      "metadata": {
        "id": "nCD_fBZDgpxH"
      },
      "execution_count": null,
      "outputs": []
    },
    {
      "cell_type": "code",
      "source": [
        "from langchain.document_loaders import WikipediaLoader\n",
        "raw_documents = WikipediaLoader(query = \"Elizabeth I\").load()"
      ],
      "metadata": {
        "colab": {
          "base_uri": "https://localhost:8080/"
        },
        "id": "ns-Msjtngpuw",
        "outputId": "855a587f-9825-4ec6-e8fc-ca6686e190f6"
      },
      "execution_count": null,
      "outputs": [
        {
          "output_type": "stream",
          "name": "stderr",
          "text": [
            "/usr/local/lib/python3.10/dist-packages/wikipedia/wikipedia.py:389: GuessedAtParserWarning: No parser was explicitly specified, so I'm using the best available HTML parser for this system (\"lxml\"). This usually isn't a problem, but if you run this code on another system, or in a different virtual environment, it may use a different parser and behave differently.\n",
            "\n",
            "The code that caused this warning is on line 389 of the file /usr/local/lib/python3.10/dist-packages/wikipedia/wikipedia.py. To get rid of this warning, pass the additional argument 'features=\"lxml\"' to the BeautifulSoup constructor.\n",
            "\n",
            "  lis = BeautifulSoup(html).find_all('li')\n"
          ]
        }
      ]
    },
    {
      "cell_type": "code",
      "source": [
        "raw_documents"
      ],
      "metadata": {
        "colab": {
          "base_uri": "https://localhost:8080/"
        },
        "id": "jLNoMyEugpsP",
        "outputId": "80555036-dc44-4905-abc1-30a0ccf96b8d"
      },
      "execution_count": null,
      "outputs": [
        {
          "output_type": "execute_result",
          "data": {
            "text/plain": [
              "[Document(page_content='Elizabeth I (7 September 1533 – 24 March 1603) was Queen of England and Ireland from 17 November 1558 until her death in 1603. She was the last monarch of the House of Tudor.\\nElizabeth was the only surviving child of Henry VIII and Anne Boleyn, his second wife, who was executed when Elizabeth was two years old. Anne\\'s marriage to Henry was annulled, and Elizabeth was declared illegitimate. Henry restored her to the line of succession when she was 10, via the Third Succession Act 1543. After Henry\\'s death in 1547, Elizabeth\\'s younger half-brother Edward VI ruled until his own death in 1553, bequeathing the crown to a Protestant cousin, Lady Jane Grey, and ignoring the claims of his two half-sisters, the Catholic Mary and the younger Elizabeth, in spite of statutes to the contrary. Edward\\'s will was set aside within weeks of his death and Mary became queen, deposing and executing Jane. During Mary\\'s reign, Elizabeth was imprisoned for nearly a year on suspicion of supporting Protestant rebels.\\nUpon her half-sister\\'s death in 1558, Elizabeth succeeded to the throne and set out to rule by good counsel. She depended heavily on a group of trusted advisers led by William Cecil, whom she created Baron Burghley. One of her first actions as queen was the establishment of an English Protestant church, of which she became the supreme governor. This era, later named the Elizabethan Religious Settlement, would evolve into the Church of England. It was expected that Elizabeth would marry and produce an heir; however, despite numerous courtships, she never did, and because of this she is sometimes referred to as the \"Virgin Queen\". She was eventually succeeded by her first cousin twice removed, James VI of Scotland, the son of Mary, Queen of Scots.\\nIn government, Elizabeth was more moderate than her father and siblings had been. One of her mottoes was video et taceo (\"I see and keep silent\"). In religion, she was relatively tolerant and avoided systematic persecution. After the pope declared her illegitimate in 1570, which in theory released English Catholics from allegiance to her, several conspiracies threatened her life, all of which were defeated with the help of her ministers\\' secret service, run by Sir Francis Walsingham. Elizabeth was cautious in foreign affairs, manoeuvring between the major powers of France and Spain. She half-heartedly supported a number of ineffective, poorly resourced military campaigns in the Netherlands, France, and Ireland. By the mid-1580s, England could no longer avoid war with Spain.\\nAs she grew older, Elizabeth became celebrated for her virginity. A cult of personality grew around her which was celebrated in the portraits, pageants, and literature of the day. Elizabeth\\'s reign became known as the Elizabethan era. The period is famous for the flourishing of English drama, led by playwrights such as William Shakespeare and Christopher Marlowe, the prowess of English maritime adventurers, such as Francis Drake and Walter Raleigh, and for the defeat of the Spanish Armada. Some historians depict Elizabeth as a short-tempered, sometimes indecisive ruler, who enjoyed more than her fair share of luck. Towards the end of her reign, a series of economic and military problems weakened her popularity. Elizabeth is acknowledged as a charismatic performer (\"Gloriana\") and a dogged survivor (\"Good Queen Bess\") in an era when government was ramshackle and limited, and when monarchs in neighbouring countries faced internal problems that jeopardised their thrones. After the short, disastrous reigns of her half-siblings, her 44 years on the throne provided welcome stability for the kingdom and helped to forge a sense of national identity.\\n\\n\\n== Early life ==\\n\\nElizabeth was born at Greenwich Palace on 7 September 1533 and was named after her grandmothers, Elizabeth of York and Lady Elizabeth Howard. She was the second child of Henry VIII of England born in wedlock to survive infancy. Her mother was Henry\\'s second wife, Anne Bol', metadata={'title': 'Elizabeth I', 'summary': 'Elizabeth I (7 September 1533 – 24 March 1603) was Queen of England and Ireland from 17 November 1558 until her death in 1603. She was the last monarch of the House of Tudor.\\nElizabeth was the only surviving child of Henry VIII and Anne Boleyn, his second wife, who was executed when Elizabeth was two years old. Anne\\'s marriage to Henry was annulled, and Elizabeth was declared illegitimate. Henry restored her to the line of succession when she was 10, via the Third Succession Act 1543. After Henry\\'s death in 1547, Elizabeth\\'s younger half-brother Edward VI ruled until his own death in 1553, bequeathing the crown to a Protestant cousin, Lady Jane Grey, and ignoring the claims of his two half-sisters, the Catholic Mary and the younger Elizabeth, in spite of statutes to the contrary. Edward\\'s will was set aside within weeks of his death and Mary became queen, deposing and executing Jane. During Mary\\'s reign, Elizabeth was imprisoned for nearly a year on suspicion of supporting Protestant rebels.\\nUpon her half-sister\\'s death in 1558, Elizabeth succeeded to the throne and set out to rule by good counsel. She depended heavily on a group of trusted advisers led by William Cecil, whom she created Baron Burghley. One of her first actions as queen was the establishment of an English Protestant church, of which she became the supreme governor. This era, later named the Elizabethan Religious Settlement, would evolve into the Church of England. It was expected that Elizabeth would marry and produce an heir; however, despite numerous courtships, she never did, and because of this she is sometimes referred to as the \"Virgin Queen\". She was eventually succeeded by her first cousin twice removed, James VI of Scotland, the son of Mary, Queen of Scots.\\nIn government, Elizabeth was more moderate than her father and siblings had been. One of her mottoes was video et taceo (\"I see and keep silent\"). In religion, she was relatively tolerant and avoided systematic persecution. After the pope declared her illegitimate in 1570, which in theory released English Catholics from allegiance to her, several conspiracies threatened her life, all of which were defeated with the help of her ministers\\' secret service, run by Sir Francis Walsingham. Elizabeth was cautious in foreign affairs, manoeuvring between the major powers of France and Spain. She half-heartedly supported a number of ineffective, poorly resourced military campaigns in the Netherlands, France, and Ireland. By the mid-1580s, England could no longer avoid war with Spain.\\nAs she grew older, Elizabeth became celebrated for her virginity. A cult of personality grew around her which was celebrated in the portraits, pageants, and literature of the day. Elizabeth\\'s reign became known as the Elizabethan era. The period is famous for the flourishing of English drama, led by playwrights such as William Shakespeare and Christopher Marlowe, the prowess of English maritime adventurers, such as Francis Drake and Walter Raleigh, and for the defeat of the Spanish Armada. Some historians depict Elizabeth as a short-tempered, sometimes indecisive ruler, who enjoyed more than her fair share of luck. Towards the end of her reign, a series of economic and military problems weakened her popularity. Elizabeth is acknowledged as a charismatic performer (\"Gloriana\") and a dogged survivor (\"Good Queen Bess\") in an era when government was ramshackle and limited, and when monarchs in neighbouring countries faced internal problems that jeopardised their thrones. After the short, disastrous reigns of her half-siblings, her 44 years on the throne provided welcome stability for the kingdom and helped to forge a sense of national identity.\\n\\n', 'source': 'https://en.wikipedia.org/wiki/Elizabeth_I'}),\n",
              " Document(page_content='Elizabeth or Elizaveta Petrovna (Russian: Елизаве́та Петро́вна; 29 December [O.S. 18 December] 1709 – 5 January [O.S. 25 December] 1762) was Empress of Russia from 1741 until her death in 1762. She remains one of the most popular Russian monarchs because of her decision not to execute a single person during her reign, her numerous construction projects, and her strong opposition to Prussian policies.\\nThe second-eldest daughter of Tsar Peter the Great (r.\\u20091682–1725), Elizabeth lived through the confused successions of her father\\'s descendants following her half-brother Alexei\\'s death in 1718. The throne first passed to her mother Catherine I of Russia (r.\\u20091725–1727), then to her nephew Peter II, who died in 1730 and was succeeded by Elizabeth\\'s first cousin Anna (r.\\u20091730–1740). After the brief rule of Anna\\'s infant great-nephew, Ivan VI, Elizabeth seized the throne with the military\\'s support and declared her own nephew, the future Peter III, her heir.\\nDuring her reign Elizabeth continued the policies of her father and brought about a remarkable Age of Enlightenment in Russia. Her domestic policies allowed the nobles to gain dominance in local government while shortening their terms of service to the state. She encouraged Mikhail Lomonosov\\'s foundation of the University of Moscow, the highest-ranking Russian educational institution. Her court became one of the most splendid in all Europe, especially regarding architecture: she modernised Russia\\'s roads, encouraged Ivan Shuvalov\\'s foundation of the Imperial Academy of Arts, and financed grandiose Baroque projects of her favourite architect, Bartolomeo Rastrelli, particularly in Peterhof Palace. The Winter Palace and the Smolny Cathedral in Saint Petersburg are among the chief monuments of her reign.\\nElizabeth led the Russian Empire during the two major European conflicts of her time: the War of Austrian Succession (1740–1748) and the Seven Years\\' War (1756–1763). She and diplomat Aleksey Bestuzhev-Ryumin solved the first event by forming an alliance with Austria and France, but indirectly caused the second. Russian troops enjoyed several victories against Prussia and briefly occupied Berlin, but when Frederick the Great was finally considering surrender in January 1762, the Russian Empress died. She was the last agnatic member of the House of Romanov to reign over the Russian Empire.\\n\\n\\n== Early life ==\\n\\n\\n=== Childhood and teenage years ===\\n\\nElizabeth was born at Kolomenskoye, near Moscow, Russia, on 18 December 1709 (O.S.). Her parents were Peter the Great, Tsar of Russia and Catherine. Catherine was the daughter of Samuel Skowroński, a subject of Grand Duchy of Lithuania. Although no documentary record exists, her parents were said to have married secretly at the Cathedral of the Holy Trinity in Saint Petersburg at some point between 23 October and 1 December 1707. Their official marriage was at Saint Isaac\\'s Cathedral in Saint Petersburg on 9 February 1712. On this day, the two children previously born to the couple (Anna and Elizabeth) were legitimised by their father and given the title of Tsarevna (\"princess\") on 6 March 1711. Of the twelve children born to Peter and Catherine (five sons and seven daughters), only the sisters survived to adulthood. They had one older surviving sibling, crown prince Alexei Petrovich, who was Peter\\'s son by his first wife, noblewoman Eudoxia Lopukhina.\\nAs a child, Elizabeth was the favourite of her father, whom she resembled both physically and temperamentally. Even though he adored his daughter, Peter did not devote time or attention to her education; having both a son and grandson from his first marriage to a noblewoman, he did not anticipate that a daughter born to his former maid might one day inherit the Russian throne, which had until that point never been occupied by a woman; as such, it was left to Catherine to raise the girls, a task met with considerable difficulty due to her own lack of education. Despite this, Elizabeth was still ', metadata={'title': 'Elizabeth of Russia', 'summary': \"Elizabeth or Elizaveta Petrovna (Russian: Елизаве́та Петро́вна; 29 December [O.S. 18 December] 1709 – 5 January [O.S. 25 December] 1762) was Empress of Russia from 1741 until her death in 1762. She remains one of the most popular Russian monarchs because of her decision not to execute a single person during her reign, her numerous construction projects, and her strong opposition to Prussian policies.\\nThe second-eldest daughter of Tsar Peter the Great (r.\\u20091682–1725), Elizabeth lived through the confused successions of her father's descendants following her half-brother Alexei's death in 1718. The throne first passed to her mother Catherine I of Russia (r.\\u20091725–1727), then to her nephew Peter II, who died in 1730 and was succeeded by Elizabeth's first cousin Anna (r.\\u20091730–1740). After the brief rule of Anna's infant great-nephew, Ivan VI, Elizabeth seized the throne with the military's support and declared her own nephew, the future Peter III, her heir.\\nDuring her reign Elizabeth continued the policies of her father and brought about a remarkable Age of Enlightenment in Russia. Her domestic policies allowed the nobles to gain dominance in local government while shortening their terms of service to the state. She encouraged Mikhail Lomonosov's foundation of the University of Moscow, the highest-ranking Russian educational institution. Her court became one of the most splendid in all Europe, especially regarding architecture: she modernised Russia's roads, encouraged Ivan Shuvalov's foundation of the Imperial Academy of Arts, and financed grandiose Baroque projects of her favourite architect, Bartolomeo Rastrelli, particularly in Peterhof Palace. The Winter Palace and the Smolny Cathedral in Saint Petersburg are among the chief monuments of her reign.\\nElizabeth led the Russian Empire during the two major European conflicts of her time: the War of Austrian Succession (1740–1748) and the Seven Years' War (1756–1763). She and diplomat Aleksey Bestuzhev-Ryumin solved the first event by forming an alliance with Austria and France, but indirectly caused the second. Russian troops enjoyed several victories against Prussia and briefly occupied Berlin, but when Frederick the Great was finally considering surrender in January 1762, the Russian Empress died. She was the last agnatic member of the House of Romanov to reign over the Russian Empire.\", 'source': 'https://en.wikipedia.org/wiki/Elizabeth_of_Russia'}),\n",
              " Document(page_content='The succession to the childless Elizabeth I was an open question from her accession in 1558 to her death in 1603, when the crown passed to James VI of Scotland. While the accession of James went smoothly, the succession had been the subject of much debate for decades. In some scholarly views, it was a major political factor of the entire reign, even if not so voiced. Separate aspects have acquired their own nomenclature: the \"Norfolk conspiracy\", Patrick Collinson\\'s \"Elizabethan exclusion crisis\", and the \"Secret Correspondence\".\\nThe topics of debate remained obscured by uncertainty.\\nElizabeth I avoided establishing the order of succession in any form, presumably because she feared for her own life once a successor was named.  She was also concerned with England forming a productive relationship with Scotland, whose Catholic and Presbyterian strongholds were resistant to female leadership. Catholic women who would be submissive to the Pope and not to English constitutional law were rejected.\\nHenry VIII\\'s will had named one male and seven females living at his death in 1547 as the line of succession: (1) his son Edward VI, (2) Mary I, (3) Elizabeth I, (4) Jane Grey, (5) Katherine Grey, (6) Mary Grey, and (7) Margaret Clifford. Elizabeth had outlived all of them.\\nA number of authorities considered that the legal position hinged on documents such as the statute De natis ultra mare of Edward III, and the will of Henry VIII. There were different opinions about the application of these documents. Political, religious and military matters came to predominate later in Elizabeth\\'s reign, in the context of the Anglo-Spanish War.\\n\\n\\n== Cognatic descent from Henry VII ==\\nDescent from the two daughters of Henry VII who reached adulthood, Margaret and Mary, was the first and main issue in the succession. \\n\\n\\n=== Lennox claim ===\\nMary I of England had died without managing to have her preferred successor and first cousin, Margaret Douglas, Countess of Lennox, nominated by parliament. Margaret Douglas was a daughter of Margaret Tudor, and lived to 1578, but became a marginal figure in discussions of the succession to Elizabeth I, who at no point clarified the dynastic issues of the Tudor line. When in 1565 Margaret Douglas\\'s elder son Henry Stuart, Lord Darnley, married Mary, Queen of Scots, the \"Lennox claim\" was generally regarded as consolidated into the \"Stuart claim\".\\n\\n\\n=== Stuart claimants ===\\nJames VI was the son of two grandchildren of Margaret Tudor. Arbella Stuart, the most serious other contender by the late 16th century, was the daughter of Margaret Douglas, Countess of Lennox\\'s younger son Charles Stuart, 1st Earl of Lennox.\\nJames VI\\'s mother, Mary, Queen of Scots, was considered a plausible successor to the English throne. At the beginning of Elizabeth\\'s reign she sent ambassadors to England when a parliament was summoned, anticipating a role for parliament in settling the succession in her favour. Mary was a Roman Catholic, and her proximity to the succession was a factor in plotting, making her position a political problem for the English government, eventually resolved by judicial means. She was executed in 1587. In that year Mary\\'s son James reached the age of twenty-one, while Arbella was only twelve.\\n\\n\\n=== Suffolk claimants ===\\nWhile the Stuart line of James and Arbella would have had political support, by 1600 the descendants of Mary Tudor were theoretically relevant, and on legal grounds could not be discounted. Frances Grey, Duchess of Suffolk, and Eleanor Clifford, Countess of Cumberland, both had children who were in the line of succession. Frances and Eleanor were Mary Tudor\\'s daughters by her second husband, Charles Brandon, 1st Duke of Suffolk. Frances married Henry Grey, 1st Duke of Suffolk, and they had three daughters, Lady Jane Grey (1537–1554), Lady Catherine Grey (1540–1568), and Lady Mary Grey (1545–1578). Of these, the two youngest lived into Queen Elizabeth\\'s reign.\\nCatherine\\'s first marriage to the youthful', metadata={'title': 'Succession to Elizabeth I', 'summary': 'The succession to the childless Elizabeth I was an open question from her accession in 1558 to her death in 1603, when the crown passed to James VI of Scotland. While the accession of James went smoothly, the succession had been the subject of much debate for decades. In some scholarly views, it was a major political factor of the entire reign, even if not so voiced. Separate aspects have acquired their own nomenclature: the \"Norfolk conspiracy\", Patrick Collinson\\'s \"Elizabethan exclusion crisis\", and the \"Secret Correspondence\".\\nThe topics of debate remained obscured by uncertainty.\\nElizabeth I avoided establishing the order of succession in any form, presumably because she feared for her own life once a successor was named.  She was also concerned with England forming a productive relationship with Scotland, whose Catholic and Presbyterian strongholds were resistant to female leadership. Catholic women who would be submissive to the Pope and not to English constitutional law were rejected.\\nHenry VIII\\'s will had named one male and seven females living at his death in 1547 as the line of succession: (1) his son Edward VI, (2) Mary I, (3) Elizabeth I, (4) Jane Grey, (5) Katherine Grey, (6) Mary Grey, and (7) Margaret Clifford. Elizabeth had outlived all of them.\\nA number of authorities considered that the legal position hinged on documents such as the statute De natis ultra mare of Edward III, and the will of Henry VIII. There were different opinions about the application of these documents. Political, religious and military matters came to predominate later in Elizabeth\\'s reign, in the context of the Anglo-Spanish War.\\n\\n', 'source': 'https://en.wikipedia.org/wiki/Succession_to_Elizabeth_I'}),\n",
              " Document(page_content=\"The House of Tudor () was an English and Welsh dynasty that held the throne of England from 1485 to 1603. They descended from the Tudors of Penmynydd, a Welsh noble family, and Catherine of Valois. The Tudor monarchs ruled the Kingdom of England and the Lordship of Ireland (later the Kingdom of Ireland) for 118 years with five monarchs: Henry VII, Henry VIII, Edward VI, Mary I and Elizabeth I. The Tudors succeeded the House of Plantagenet as rulers of the Kingdom of England, and were succeeded by the Scottish House of Stuart. The first Tudor monarch, Henry VII, descended through his mother from the House of Beaufort, a legitimised branch of the English royal House of Lancaster, a cadet house of the Plantagenets. The Tudor family rose to power and started the Tudor period in the wake of the Wars of the Roses (1455–1487), which left the main House of Lancaster (with which the Tudors were aligned) extinct in the male line.\\nHenry VII (a descendant of Edward III, and the son of Edmund Tudor, a half-brother of Henry VI) succeeded in presenting himself as a candidate not only for traditional Lancastrian supporters, but also for discontented supporters of their rival Plantagenet cadet House of York, and he took the throne by right of conquest. Following his victory at the Battle of Bosworth Field (22 August 1485), he reinforced his position in 1486 by fulfilling his 1483 vow to marry Elizabeth of York, daughter of King Edward IV and the heiress of the Yorkist claim to the throne, thus symbolically uniting the former warring factions of Lancaster and York under the new dynasty (represented by the Tudor rose). The Tudors extended their power beyond modern England, achieving the full union of England and the Principality of Wales in 1542 (Laws in Wales Acts 1535 and 1542), and successfully asserting English authority over the Kingdom of Ireland (proclaimed by the Crown of Ireland Act 1542). They also maintained the nominal English claim to the Kingdom of France; although none of them made substance of it, Henry VIII fought wars with France primarily as a matter of international alliances but also asserting claim to the title. After him, his daughter Mary I lost control of all territory in France permanently with the Siege of Calais in 1558.\\nIn total, the Tudor monarchs ruled their domains for 117 years. Henry VIII (r.\\u20091509–1547) was the only son of Henry VII to live to the age of maturity, and he proved a dominant ruler. Issues around royal succession (including marriage and the succession rights of women) became major political themes during the Tudor era, as did the English Reformation in religion, impacting the future of the Crown. Elizabeth I was the longest serving Tudor monarch at 44 years, and her reign known as the Elizabethan Era provided a period of stability after the short, troubled reigns of her siblings.  When Elizabeth I died childless, her cousin of the Scottish House of Stuart succeeded her, in the Union of the Crowns of 24 March 1603. The first Stuart to become King of England (r.\\u20091603–1625), James VI and I, was a great-grandson of Henry VII's daughter Margaret Tudor, who in 1503 had married James IV of Scotland in accordance with the 1502 Treaty of Perpetual Peace.\\n\\n\\n== Ascent to the throne ==\\nThe Tudors descended from King Edward III on Henry VII's mother's side from John Beaufort, 1st Earl of Somerset, one of the illegitimate children of the 14th century English prince John of Gaunt, the third surviving son of Edward III. Beaufort's mother was Gaunt's long-term mistress, Katherine Swynford.\\nThe descendants of an illegitimate child of English royalty would normally have no claim on the throne, although Gaunt and Swynford eventually married in 1396, when John Beaufort was 25. The church then retroactively declared the Beauforts legitimate by way of a papal bull the same year, confirmed by an Act of Parliament in 1397. A subsequent proclamation by John of Gaunt's son by his first wife Blanche of Lancaster, King Henry IV\", metadata={'title': 'House of Tudor', 'summary': \"The House of Tudor () was an English and Welsh dynasty that held the throne of England from 1485 to 1603. They descended from the Tudors of Penmynydd, a Welsh noble family, and Catherine of Valois. The Tudor monarchs ruled the Kingdom of England and the Lordship of Ireland (later the Kingdom of Ireland) for 118 years with five monarchs: Henry VII, Henry VIII, Edward VI, Mary I and Elizabeth I. The Tudors succeeded the House of Plantagenet as rulers of the Kingdom of England, and were succeeded by the Scottish House of Stuart. The first Tudor monarch, Henry VII, descended through his mother from the House of Beaufort, a legitimised branch of the English royal House of Lancaster, a cadet house of the Plantagenets. The Tudor family rose to power and started the Tudor period in the wake of the Wars of the Roses (1455–1487), which left the main House of Lancaster (with which the Tudors were aligned) extinct in the male line.\\nHenry VII (a descendant of Edward III, and the son of Edmund Tudor, a half-brother of Henry VI) succeeded in presenting himself as a candidate not only for traditional Lancastrian supporters, but also for discontented supporters of their rival Plantagenet cadet House of York, and he took the throne by right of conquest. Following his victory at the Battle of Bosworth Field (22 August 1485), he reinforced his position in 1486 by fulfilling his 1483 vow to marry Elizabeth of York, daughter of King Edward IV and the heiress of the Yorkist claim to the throne, thus symbolically uniting the former warring factions of Lancaster and York under the new dynasty (represented by the Tudor rose). The Tudors extended their power beyond modern England, achieving the full union of England and the Principality of Wales in 1542 (Laws in Wales Acts 1535 and 1542), and successfully asserting English authority over the Kingdom of Ireland (proclaimed by the Crown of Ireland Act 1542). They also maintained the nominal English claim to the Kingdom of France; although none of them made substance of it, Henry VIII fought wars with France primarily as a matter of international alliances but also asserting claim to the title. After him, his daughter Mary I lost control of all territory in France permanently with the Siege of Calais in 1558.\\nIn total, the Tudor monarchs ruled their domains for 117 years. Henry VIII (r.\\u20091509–1547) was the only son of Henry VII to live to the age of maturity, and he proved a dominant ruler. Issues around royal succession (including marriage and the succession rights of women) became major political themes during the Tudor era, as did the English Reformation in religion, impacting the future of the Crown. Elizabeth I was the longest serving Tudor monarch at 44 years, and her reign known as the Elizabethan Era provided a period of stability after the short, troubled reigns of her siblings.  When Elizabeth I died childless, her cousin of the Scottish House of Stuart succeeded her, in the Union of the Crowns of 24 March 1603. The first Stuart to become King of England (r.\\u20091603–1625), James VI and I, was a great-grandson of Henry VII's daughter Margaret Tudor, who in 1503 had married James IV of Scotland in accordance with the 1502 Treaty of Perpetual Peace.\", 'source': 'https://en.wikipedia.org/wiki/House_of_Tudor'}),\n",
              " Document(page_content='The portraiture of Queen Elizabeth I (1533–1603) spans the evolution of English royal portraits in the early modern period (1400/1500-1800), from the earliest representations of simple likenesses to the later complex imagery used to convey the power and aspirations of the state, as well as of the monarch at its head.\\nEven the earliest portraits of Elizabeth I contain symbolic objects such as roses and prayer books that would have carried meaning to viewers of her day. Later portraits of Elizabeth layer the iconography of empire—globes, crowns, swords and columns—and representations of virginity and purity, such as moons and pearls, with classical allusions, to present a complex \"story\" that conveyed to Elizabethan era viewers the majesty and significance of the \\'Virgin Queen\\'.\\n\\n\\n== Overview ==\\n\\n\\n=== Portraiture in Tudor England ===\\n\\nTwo portraiture traditions had arisen in the Tudor court since the days of Elizabeth\\'s father, Henry VIII. The portrait miniature developed from the illuminated manuscript tradition. These small personal images were almost invariably painted from life over the space of a few days in watercolours on vellum, stiffened by being glued to a playing card. Panel paintings in oils on prepared wood surfaces were based on preparatory drawings and were usually executed at life size, as were oil paintings on canvas.\\nUnlike her contemporaries in France, Elizabeth never granted rights to produce her portrait to a single artist, although Nicholas Hilliard was appointed her official limner, or miniaturist and goldsmith. George Gower, a fashionable court portraitist created Serjeant Painter in 1581, was responsible for approving all portraits of the queen created by other artists from 1581 until his death in 1596.\\nElizabeth sat for a number of artists over the years, including Hilliard, Cornelis Ketel, Federico Zuccaro or Zuccari, Isaac Oliver, and most likely to Gower and Marcus Gheeraerts the Younger. Portraits were commissioned by the government as gifts to foreign monarchs and to show to prospective suitors. Courtiers commissioned heavily symbolic paintings to demonstrate their devotion to the queen, and the fashionable long galleries of later Elizabethan country houses were filled with sets of portraits. The studios of Tudor artists produced images of Elizabeth working from approved \"face patterns\", or approved drawings of the queen, to meet this growing demand for her image, an important symbol of loyalty and reverence for the crown in times of turbulence.\\n\\n\\n=== European context ===\\n\\nBy far the most impressive models of portraiture available to English portraitists were the many portraits by Hans Holbein the Younger, the outstanding Northern portraitist of the first half of the 16th century, who had made two lengthy visits to England, and had been Henry VIII\\'s court artist. Holbein had accustomed the English court to the full-length life-size portrait, although none of his originals now survive. His great dynastic mural at Whitehall Palace, destroyed in 1698, and perhaps other original large portraits, would have been familiar to Elizabethan artists.\\nBoth Holbein and his great Italian contemporary Titian had combined great psychological penetration with a sufficiently majestic impression to satisfy their royal patrons. By his second visit, Holbein had already begun to move away from a strictly realist depiction; in his Jane Seymour, \"the figure is no longer seen as displacing with its bulk a recognizable section of space: it approaches rather to a flat pattern, made alive by a bounding and vital outline\". This tendency was to be taken much further by the later portraits of Elizabeth, where \"Likeness of feature and an interest in form and volume have gradually been abandoned in favour of an effect of splendid majesty obtained by decorative pattern, and the forms have been flattened accordingly\".\\n\\nTitian continued to paint royal portraits, especially of Philip II of Spain, until the 1570s, but in sharply reduce', metadata={'title': 'Portraiture of Elizabeth I', 'summary': 'The portraiture of Queen Elizabeth I (1533–1603) spans the evolution of English royal portraits in the early modern period (1400/1500-1800), from the earliest representations of simple likenesses to the later complex imagery used to convey the power and aspirations of the state, as well as of the monarch at its head.\\nEven the earliest portraits of Elizabeth I contain symbolic objects such as roses and prayer books that would have carried meaning to viewers of her day. Later portraits of Elizabeth layer the iconography of empire—globes, crowns, swords and columns—and representations of virginity and purity, such as moons and pearls, with classical allusions, to present a complex \"story\" that conveyed to Elizabethan era viewers the majesty and significance of the \\'Virgin Queen\\'.', 'source': 'https://en.wikipedia.org/wiki/Portraiture_of_Elizabeth_I'}),\n",
              " Document(page_content='James VI and I (James Charles Stuart; 19 June 1566 – 27 March 1625) was King of Scotland as James VI from 24 July 1567 and King of England and Ireland as James I from the union of the Scottish and English crowns on 24 March 1603 until his death in 1625. Although he long tried to get both countries to adopt a closer political union, the kingdoms of Scotland and England remained sovereign states, with their own parliaments, judiciaries, and laws, ruled by James in personal union. He was the longest-reigning monarch of the Kingdom of Scotland.\\nJames was the son of Mary, Queen of Scots, and a great-great-grandson of Henry VII, King of England and Lord of Ireland, and thus a potential successor to all three thrones. He acceded to the Scottish throne at the age of thirteen months, after his mother was forced to abdicate in his favour. Four regents governed during his minority, which ended officially in 1578, though he did not gain full control of his government until 1583. In 1589, he married Anne of Denmark. Three of their children survived to adulthood: Henry Frederick, Elizabeth, and Charles. In 1603, James succeeded his cousin Elizabeth I, the last Tudor monarch of England and Ireland, who died childless. He continued to reign in all three kingdoms for 22 years, a period known as the Jacobean era, until his death in 1625. After the Union of the Crowns, he based himself in England (the largest of the three realms) from 1603, returning to Scotland only once, in 1617, and styled himself \"King of Great Britain and Ireland\". He was an advocate of a single parliament for England and Scotland. In his reign, the Plantation of Ulster and English colonisation of the Americas began.\\nAt 57 years and 246 days, James\\'s reign in Scotland was the longest of any Scottish monarch. He achieved most of his aims in Scotland but faced great difficulties in England, including the Gunpowder Plot in 1605 and conflicts with the English Parliament. Under James, the \"Golden Age\" of Elizabethan literature and drama continued, with writers such as William Shakespeare, John Donne, Ben Jonson, and Francis Bacon contributing to a flourishing literary culture. James was a prolific writer, authoring works such as Daemonologie (1597), The True Law of Free Monarchies (1598), and Basilikon Doron (1599). He sponsored the translation of the Bible into English (later named after him, the Authorized King James Version), and the 1604 revision of the Book of Common Prayer. Anthony Weldon claimed that James had been termed \"the wisest fool in Christendom\", an epithet associated with his character ever since. Since the latter half of the 20th century, historians have tended to revise James\\'s reputation and treat him as a serious and thoughtful monarch. He was strongly committed to a peace policy, and tried to avoid involvement in religious wars, especially the Thirty Years\\' War that devastated much of Central Europe. He tried but failed to prevent the rise of hawkish elements in the English Parliament who wanted war with Spain. He was succeeded by his second son, Charles I.\\n\\n\\n== Childhood ==\\n\\n\\n=== Birth ===\\n\\nJames was the only son of Mary, Queen of Scots, and her second husband, Henry Stuart, Lord Darnley. Mary and Darnley were great-grandchildren of Henry VII of England through Margaret Tudor, the older sister of Henry VIII. Mary\\'s rule over Scotland was insecure, and she and her husband, being Roman Catholics, faced a rebellion by Protestant noblemen. During Mary\\'s and Darnley\\'s difficult marriage, Darnley secretly allied himself with the rebels and conspired in the murder of the queen\\'s private secretary, David Rizzio, just three months before James\\'s birth.\\nJames was born on 19 June 1566 at Edinburgh Castle, and as the eldest son and heir apparent of the monarch automatically became Duke of Rothesay and Prince and Great Steward of Scotland. Five days later, an English diplomat Henry Killigrew saw the queen, who had not fully recovered and could only speak faintly. The b', metadata={'title': 'James VI and I', 'summary': 'James VI and I (James Charles Stuart; 19 June 1566 – 27 March 1625) was King of Scotland as James VI from 24 July 1567 and King of England and Ireland as James I from the union of the Scottish and English crowns on 24 March 1603 until his death in 1625. Although he long tried to get both countries to adopt a closer political union, the kingdoms of Scotland and England remained sovereign states, with their own parliaments, judiciaries, and laws, ruled by James in personal union. He was the longest-reigning monarch of the Kingdom of Scotland.\\nJames was the son of Mary, Queen of Scots, and a great-great-grandson of Henry VII, King of England and Lord of Ireland, and thus a potential successor to all three thrones. He acceded to the Scottish throne at the age of thirteen months, after his mother was forced to abdicate in his favour. Four regents governed during his minority, which ended officially in 1578, though he did not gain full control of his government until 1583. In 1589, he married Anne of Denmark. Three of their children survived to adulthood: Henry Frederick, Elizabeth, and Charles. In 1603, James succeeded his cousin Elizabeth I, the last Tudor monarch of England and Ireland, who died childless. He continued to reign in all three kingdoms for 22 years, a period known as the Jacobean era, until his death in 1625. After the Union of the Crowns, he based himself in England (the largest of the three realms) from 1603, returning to Scotland only once, in 1617, and styled himself \"King of Great Britain and Ireland\". He was an advocate of a single parliament for England and Scotland. In his reign, the Plantation of Ulster and English colonisation of the Americas began.\\nAt 57 years and 246 days, James\\'s reign in Scotland was the longest of any Scottish monarch. He achieved most of his aims in Scotland but faced great difficulties in England, including the Gunpowder Plot in 1605 and conflicts with the English Parliament. Under James, the \"Golden Age\" of Elizabethan literature and drama continued, with writers such as William Shakespeare, John Donne, Ben Jonson, and Francis Bacon contributing to a flourishing literary culture. James was a prolific writer, authoring works such as Daemonologie (1597), The True Law of Free Monarchies (1598), and Basilikon Doron (1599). He sponsored the translation of the Bible into English (later named after him, the Authorized King James Version), and the 1604 revision of the Book of Common Prayer. Anthony Weldon claimed that James had been termed \"the wisest fool in Christendom\", an epithet associated with his character ever since. Since the latter half of the 20th century, historians have tended to revise James\\'s reputation and treat him as a serious and thoughtful monarch. He was strongly committed to a peace policy, and tried to avoid involvement in religious wars, especially the Thirty Years\\' War that devastated much of Central Europe. He tried but failed to prevent the rise of hawkish elements in the English Parliament who wanted war with Spain. He was succeeded by his second son, Charles I.\\n\\n', 'source': 'https://en.wikipedia.org/wiki/James_VI_and_I'}),\n",
              " Document(page_content='Mary I (18 February 1516 – 17 November 1558), also known as Mary Tudor, and as \"Bloody Mary\" by her Protestant opponents, was Queen of England and Ireland from July 1553 and Queen of Spain and the Habsburg dominions as the wife of King Philip II from January 1556 until her death in 1558. She is best known for her vigorous attempt to reverse the English Reformation, which had begun during the reign of her father, King Henry VIII. Her attempt to restore to the Church the property confiscated in the previous two reigns was largely thwarted by Parliament, but during her five-year reign, Mary had over 280 religious dissenters burned at the stake in the Marian persecutions.\\nMary was the only surviving child of Henry VIII by his first wife, Catherine of Aragon. She was declared illegitimate and barred from the line of succession following the annulment of her parents\\' marriage in 1533, though she would later be restored via the Third Succession Act 1543. Her younger half-brother, Edward VI, succeeded their father in 1547 at the age of nine. When Edward became terminally ill in 1553, he attempted to remove Mary from the line of succession because he supposed, correctly, that she would reverse the Protestant reforms that had taken place during his reign. Upon his death, leading politicians proclaimed Mary\\'s and Edward\\'s Protestant cousin, Lady Jane Grey, as queen instead. Mary speedily assembled a force in East Anglia and deposed Jane, who was eventually beheaded. Mary was—excluding the disputed reigns of Jane and the Empress Matilda—the first queen regnant of England. In July 1554, Mary married Prince Philip of Spain, becoming queen consort of Habsburg Spain on his accession in 1556.\\nAfter Mary\\'s death in 1558, her re-establishment of Roman Catholicism was reversed by her younger half-sister and successor, Elizabeth I.\\n\\n\\n== Birth and family ==\\nMary was born on 18 February 1516 at the Palace of Placentia in Greenwich, England. She was the only child of King Henry VIII and his first wife, Catherine of Aragon, to survive infancy. Before Mary, her mother had three miscarriages and stillbirths and one short-lived son, Henry, Duke of Cornwall.  \\nMary was baptised into the Catholic faith at the Church of the Observant Friars in Greenwich three days after her birth. Her godparents included Lord Chancellor Thomas Wolsey; her great-aunt Catherine, Countess of Devon; and Agnes Howard, Duchess of Norfolk. Henry VIII\\'s first cousin once removed, Margaret Pole, Countess of Salisbury, stood sponsor for Mary\\'s confirmation, which was conducted immediately after the baptism. The following year, Mary became a godmother herself when she was named as one of the sponsors of her cousin Frances Brandon. In 1520, the Countess of Salisbury was appointed Mary\\'s governess. Sir John Hussey (later Lord Hussey) was her chamberlain from 1530, and his wife Lady Anne, daughter of George Grey, 2nd Earl of Kent, was one of Mary\\'s attendants.\\n\\n\\n== Childhood ==\\n\\nMary was a precocious child. In July 1520, when scarcely four and a half years old, she entertained a visiting French delegation with a performance on the virginals (a type of harpsichord). A great part of her early education came from her mother, who consulted the Spanish humanist Juan Luis Vives for advice and commissioned him to write De Institutione Feminae Christianae, a treatise on the education of girls. By the age of nine, Mary could read and write Latin. She studied French, Spanish, music, dance, and perhaps Greek. Henry VIII doted on his daughter and boasted to the Venetian ambassador Sebastian Giustiniani that Mary never cried. Mary had a fair complexion with pale blue eyes and red or reddish-golden hair, traits very similar to those of her parents. She was ruddy-cheeked, a trait she inherited from her father.\\nDespite his affection for Mary, Henry was deeply disappointed that his marriage had produced no sons. By the time Mary was nine years old, it was apparent that Henry and Catherine would have no m', metadata={'title': 'Mary I of England', 'summary': 'Mary I (18 February 1516 – 17 November 1558), also known as Mary Tudor, and as \"Bloody Mary\" by her Protestant opponents, was Queen of England and Ireland from July 1553 and Queen of Spain and the Habsburg dominions as the wife of King Philip II from January 1556 until her death in 1558. She is best known for her vigorous attempt to reverse the English Reformation, which had begun during the reign of her father, King Henry VIII. Her attempt to restore to the Church the property confiscated in the previous two reigns was largely thwarted by Parliament, but during her five-year reign, Mary had over 280 religious dissenters burned at the stake in the Marian persecutions.\\nMary was the only surviving child of Henry VIII by his first wife, Catherine of Aragon. She was declared illegitimate and barred from the line of succession following the annulment of her parents\\' marriage in 1533, though she would later be restored via the Third Succession Act 1543. Her younger half-brother, Edward VI, succeeded their father in 1547 at the age of nine. When Edward became terminally ill in 1553, he attempted to remove Mary from the line of succession because he supposed, correctly, that she would reverse the Protestant reforms that had taken place during his reign. Upon his death, leading politicians proclaimed Mary\\'s and Edward\\'s Protestant cousin, Lady Jane Grey, as queen instead. Mary speedily assembled a force in East Anglia and deposed Jane, who was eventually beheaded. Mary was—excluding the disputed reigns of Jane and the Empress Matilda—the first queen regnant of England. In July 1554, Mary married Prince Philip of Spain, becoming queen consort of Habsburg Spain on his accession in 1556.\\nAfter Mary\\'s death in 1558, her re-establishment of Roman Catholicism was reversed by her younger half-sister and successor, Elizabeth I.\\n\\n', 'source': 'https://en.wikipedia.org/wiki/Mary_I_of_England'}),\n",
              " Document(page_content='The coronation of Elizabeth I as Queen of England and Ireland took place at Westminster Abbey, London, on 15 January 1559. Elizabeth I had ascended the throne at the age of 25 upon the death of her half-sister, Mary I, on 17 November 1558. Mary had reversed the Protestant Reformation which had been started by her two predecessors, so this was the last coronation in Great Britain to be conducted under the authority of the Catholic Church. Historians view Elizabeth\\'s coronation as a statement of her intention to restore England to Protestantism, but to allow the continuation of some Catholic customs, a compromise known as the Elizabethan Settlement.\\n\\n\\n== Background ==\\nThe reign of Elizabeth I\\'s father, Henry VIII, was one of great political and social change. Religious upheaval in continental Europe and Henry\\'s dispute with the Pope over his marital difficulties led Henry to break from the Catholic Church and to establish the Church of England. Henry VIII was succeeded by his son Edward VI, under whom the Protestant reforms continued. However, Edward\\'s early death in 1553 led to the accession of Henry\\'s daughter Mary I. She returned England to Catholicism, burning at the stake some 300 Protestants as heretics and forcing others into exile. The Protestant-minded Elizabeth outwardly conformed with Mary, but became the focus of opposition to the increasingly unpopular government. Mary became ill in May 1558 and formally recognised Elizabeth as her heir presumptive on 6 November. Elizabeth was at Hatfield House to the north of London when she was informed of Mary\\'s death on 17 November.\\n\\n\\n== Preparations ==\\nElizabeth I\\'s first surviving state paper is dated 17 November 1558, the day of her accession, and is a memorandum for the appointment of \"Commissioners for the Coronation\"; a month later five had been selected, with Sir Richard Sackville taking charge. The date of Sunday 15 January 1559 was set: not, as in previous coronations, an appropriate Christian holy day but, following the advice of her court astrologer, Dr John Dee, one on which the stars and planets would be in favourable positions. The brief time between accession and coronation was also a product of Elizabeth\\'s concern over her legal status; the First Succession Act of 1533 and the Second Succession Act of 1536 had declared both Mary and Elizabeth to be bastards and excluded them from the line of succession. Although the Third Succession Act of 1543/44 had restored their place in the succession, it had not restored their legitimacy. Elizabeth consulted Sir Nicholas Bacon, the Lord Keeper of the Great Seal, who warned against attempting to repeal the Succession Acts and the tangle of legislation relating to them. Instead, he advised that following her coronation, Elizabeth\\'s right to rule would be beyond question since \"the English laws have long since pronounced, That the Crowne once worn quite taketh away all Defects whatsoever\".\\nCoronation festivities at that time consisted of four parts: the vigil procession to the Tower of London where the monarch would spend one or more nights in vigil; on the day before the coronation, the royal entry procession through the streets of the City of London to the Palace of Westminster; the coronation service itself in Westminster Abbey, and finally the coronation banquet in Westminster Hall. Although the religious ceremony at Westminster Abbey was theoretically the main event, Elizabeth was aware that it was the elaborate processions through London which would secure the new queen\\'s popularity with her subjects: not a foregone conclusion given that she was an unmarried woman, that her claim to the throne rested on her executed mother and that there was likely to be a further period of religious upheaval. The queen spent some £16,000 of her own money on the coronation, while the aldermen, livery companies and merchants of the City contributed a very substantial amount; exactly how much is unknown. Unusually, the foreign merchants of', metadata={'title': 'Coronation of Elizabeth I', 'summary': \"The coronation of Elizabeth I as Queen of England and Ireland took place at Westminster Abbey, London, on 15 January 1559. Elizabeth I had ascended the throne at the age of 25 upon the death of her half-sister, Mary I, on 17 November 1558. Mary had reversed the Protestant Reformation which had been started by her two predecessors, so this was the last coronation in Great Britain to be conducted under the authority of the Catholic Church. Historians view Elizabeth's coronation as a statement of her intention to restore England to Protestantism, but to allow the continuation of some Catholic customs, a compromise known as the Elizabethan Settlement.\", 'source': 'https://en.wikipedia.org/wiki/Coronation_of_Elizabeth_I'}),\n",
              " Document(page_content='Elizabeth Stuart (19 August 1596 – 13 February 1662) was Electress of the Palatinate and briefly Queen of Bohemia as the wife of Frederick V of the Palatinate. The couple\\'s selection for the crown by the nobles of Bohemia was part of the political and religious turmoil setting off the Thirty Years\\' War. Since her husband\\'s reign in Bohemia lasted over one winter, she is called \"the Winter Queen\" (German: Die Winterkönigin, Czech: Zimní královna).\\nPrincess Elizabeth was the only surviving daughter of James VI and I, King of Scotland, England, and Ireland, and his queen, Anne of Denmark; she was the elder sister of Charles I. Born in Scotland, she was named in honour of her father\\'s predecessor and cousin in England, Elizabeth I.  During Elizabeth Stuart\\'s childhood, unbeknownst to her, part of the failed Gunpowder Plot was a scheme to replace her father with her on the throne, and forcibly raise her as a Catholic.  \\nHer father later arranged for her marriage to the Protestant Frederick V, a senior prince of the Holy Roman Empire.  They were married in the Chapel Royal in the Palace of Whitehall, and then left for his lands in Germany. Their marriage proved successful, but after they left Bohemia they spent years in exile in The Hague, while the Thirty Years\\' War continued.  In her widowhood, she eventually returned to England, at the end of her own life, during the Stuart Restoration of her nephew, and is buried in Westminster Abbey. \\nWith the demise of Elizabeth\\'s great-niece, Anne, Queen of Great Britain, the last Stuart monarch in 1714, Elizabeth\\'s grandson by her daughter Sophia of Hanover succeeded to the British throne as George I, initiating the rule of the House of Hanover.\\n\\n\\n== Early life ==\\n\\nElizabeth was born at Dunfermline Palace, Fife, on 19 August 1596 at 2 o\\'clock in the morning. King James rode to the bedside from Callendar, where he was attending the wedding of the Earl of Orkney. At the time of her birth, her father was King of Scotland, but not yet King of England. Named in honour of Elizabeth I of England, her godmother, the young Elizabeth was christened on 28 November 1596 in the Chapel Royal at Holyroodhouse, and was then proclaimed by the heralds as \"Lady Elizabeth\". During her early life in Scotland, Elizabeth was brought up at Linlithgow Palace, where she was placed in the care of Lord Livingstone and his wife, Eleanor Hay. A couple of years later the king\\'s second daughter, Margaret, was placed in their care as well. Elizabeth \"did not pay particular attention to this younger sister\", as even at this young age her affections were with her brother, Henry.\\n\\n\\n=== Move to England ===\\nWhen Queen Elizabeth I of England died in 1603, Elizabeth Stuart\\'s father, James, succeeded as King of England and Ireland. The Countess of Kildare was appointed the princess\\'s governess. Along with her elder brother, Henry, Elizabeth made the journey southward to England with her mother \"in a triumphal progress of perpetual entertainment\". On her father\\'s birthday, 19 June, Elizabeth danced at Worksop Manor with Robert Cecil\\'s son.\\nElizabeth remained at court for a few weeks, but \"there is no evidence that she was present at her parents\\' coronation\" on 25 July 1603. It seems likely that by this time the royal children already had been removed to Oatlands, an old Tudor hunting lodge near Weybridge. There was plague in London, and Prince Henry and Princess Elizabeth were moved to Winchester. Anne of Denmark produced a masque to welcome them. On 19 October 1603 \"an order was issued under the privy seal announcing that the King had thought fit to commit the keeping and education of the Lady Elizabeth to the Lord Harrington [sic] and his wife\".\\nUnder the care of Lord and Lady Harington at Coombe Abbey, Elizabeth met Anne Dudley, with whom she was to strike up a lifelong friendship. On 3 April 1604, Princess Elizabeth and her ladies rode from Coombe Abbey to Coventry. The Mayor and Aldermen met her at \"Jabet\\'s Ash on Stoke-green\".', metadata={'title': 'Elizabeth Stuart, Queen of Bohemia', 'summary': 'Elizabeth Stuart (19 August 1596 – 13 February 1662) was Electress of the Palatinate and briefly Queen of Bohemia as the wife of Frederick V of the Palatinate. The couple\\'s selection for the crown by the nobles of Bohemia was part of the political and religious turmoil setting off the Thirty Years\\' War. Since her husband\\'s reign in Bohemia lasted over one winter, she is called \"the Winter Queen\" (German: Die Winterkönigin, Czech: Zimní královna).\\nPrincess Elizabeth was the only surviving daughter of James VI and I, King of Scotland, England, and Ireland, and his queen, Anne of Denmark; she was the elder sister of Charles I. Born in Scotland, she was named in honour of her father\\'s predecessor and cousin in England, Elizabeth I.  During Elizabeth Stuart\\'s childhood, unbeknownst to her, part of the failed Gunpowder Plot was a scheme to replace her father with her on the throne, and forcibly raise her as a Catholic.  \\nHer father later arranged for her marriage to the Protestant Frederick V, a senior prince of the Holy Roman Empire.  They were married in the Chapel Royal in the Palace of Whitehall, and then left for his lands in Germany. Their marriage proved successful, but after they left Bohemia they spent years in exile in The Hague, while the Thirty Years\\' War continued.  In her widowhood, she eventually returned to England, at the end of her own life, during the Stuart Restoration of her nephew, and is buried in Westminster Abbey. \\nWith the demise of Elizabeth\\'s great-niece, Anne, Queen of Great Britain, the last Stuart monarch in 1714, Elizabeth\\'s grandson by her daughter Sophia of Hanover succeeded to the British throne as George I, initiating the rule of the House of Hanover.\\n\\n', 'source': 'https://en.wikipedia.org/wiki/Elizabeth_Stuart,_Queen_of_Bohemia'}),\n",
              " Document(page_content=\"Elizabeth is a 1998 British biographical period drama film directed by Shekhar Kapur and written by Michael Hirst. It stars Cate Blanchett in the title role of Elizabeth I of England, with Geoffrey Rush, Christopher Eccleston, Joseph Fiennes, John Gielgud, and Richard Attenborough in supporting roles. The film is based on the early years of Elizabeth's reign, where she is elevated to the throne after the death of her half-sister Mary I, who had imprisoned her. As she establishes herself on the throne, she faces plots and threats to take her down.\\nElizabeth premiered at the 55th Venice International Film Festival on 8 September 1998 and was theatrically released in the United Kingdom on 23 October. The film became a critical and commercial success. Reviewers praised Kapur's direction, costume design, production values and most notably Blanchett's titular performance, bringing her to international recognition, while the film grossed $82 million against its $30 million budget.\\nThe film received three nominations at the 56th Golden Globe Awards, including for the Best Motion Picture – Drama, with Blanchett winning Best Actress. It received twelve nominations at the 52nd British Academy Film Awards, winning five awards, including Outstanding British Film, and Best Actress (for Blanchett). At the 71st Academy Awards, it received seven nominations, including for Best Picture and Best Actress (for Blanchett), winning Best Makeup. In 2007, Blanchett and Rush reprised their roles in Kapur's follow-up film Elizabeth: The Golden Age, which covers the later part of Elizabeth's reign.\\n\\n\\n== Plot ==\\nIn 1558, forty-two year old Catholic Queen Mary I of England, the daughter of Henry VIII and his first wife, Catherine of Aragon, dies, presumably from a cancerous tumor in her womb. Mary's heir presumptive and twenty-five year old half sister, Lady Elizabeth, daughter of Henry and his second wife, Anne Boleyn, was under house arrest for suspected involvement in Thomas Wyatt the Younger's rebellion, is now freed from her imprisonment and crowned as Queen of England.\\nAs briefed by her adviser, Sir William Cecil, Elizabeth inherits a distressed England besieged by debts, crumbling infrastructure, hostile neighbors, and treasonous nobles within her administration, chief among them, Thomas Howard, 4th Duke of Norfolk. Cecil tells Elizabeth that she must marry, produce an heir, and secure her rule. Unimpressed with her suitors, Elizabeth delays her decision and continues her affair with Lord Robert Dudley, her childhood friend. Cecil appoints Francis Walsingham, a Protestant exile returned from France, to act as Elizabeth's bodyguard and adviser.\\nMary of Guise, acting as regent for her young daughter, Mary, Queen of Scots, brings an additional 4,000 French troops to neighboring Scotland. Unfamiliar with military strategy and browbeaten by Norfolk at the war council, Elizabeth orders a military response, which proves disastrous when the professional French soldiers defeat the inexperienced, ill-trained English forces. Walsingham tells Elizabeth that Catholic lords and priests intentionally deprived Elizabeth's army of proper soldiers and used their defeat to argue for Elizabeth's removal. Realizing the depth of the conspiracy against her and her dwindling options, Elizabeth accepts Mary of Guise's conditions to consider marrying her nephew Henry, Duke of Anjou.\\nTo stabilise her rule and heal England's religious divisions, Elizabeth proposes the Act of Uniformity, which unites English Christians under the Church of England and severs their connection to the Vatican. In response to the Act's passage, the Vatican sends a priest to England to aid Norfolk and his cohorts in their growing plot to overthrow Elizabeth. Unaware of the plot, Elizabeth meets Henry of France but ignores his advances in favor of Lord Robert. William Cecil confronts Elizabeth over her indecisiveness about marrying and reveals that Lord Dudley is married. Elizabeth rejects Henry's mar\", metadata={'title': 'Elizabeth (film)', 'summary': \"Elizabeth is a 1998 British biographical period drama film directed by Shekhar Kapur and written by Michael Hirst. It stars Cate Blanchett in the title role of Elizabeth I of England, with Geoffrey Rush, Christopher Eccleston, Joseph Fiennes, John Gielgud, and Richard Attenborough in supporting roles. The film is based on the early years of Elizabeth's reign, where she is elevated to the throne after the death of her half-sister Mary I, who had imprisoned her. As she establishes herself on the throne, she faces plots and threats to take her down.\\nElizabeth premiered at the 55th Venice International Film Festival on 8 September 1998 and was theatrically released in the United Kingdom on 23 October. The film became a critical and commercial success. Reviewers praised Kapur's direction, costume design, production values and most notably Blanchett's titular performance, bringing her to international recognition, while the film grossed $82 million against its $30 million budget.\\nThe film received three nominations at the 56th Golden Globe Awards, including for the Best Motion Picture – Drama, with Blanchett winning Best Actress. It received twelve nominations at the 52nd British Academy Film Awards, winning five awards, including Outstanding British Film, and Best Actress (for Blanchett). At the 71st Academy Awards, it received seven nominations, including for Best Picture and Best Actress (for Blanchett), winning Best Makeup. In 2007, Blanchett and Rush reprised their roles in Kapur's follow-up film Elizabeth: The Golden Age, which covers the later part of Elizabeth's reign.\", 'source': 'https://en.wikipedia.org/wiki/Elizabeth_(film)'}),\n",
              " Document(page_content='Costume and gold and silver plate belonging to Elizabeth I were recorded in several inventories, and other documents including rolls of New Year\\'s Day gifts. Arthur Jefferies Collins published the Jewels and Plate of Queen Elizabeth I: The Inventory of 1574 from manuscripts in 1955. The published inventory describes jewels and silver-plate belonging to Elizabeth with detailed references to other source material. Two inventories of Elizabeth\\'s costume and some of her jewellery were published by Janet Arnold in Queen Elizabeth\\'s Wardrobe Unlocke\\'d (Maney, 1988).\\n\\n\\n== Introduction ==\\nIn 1574 the office of the Jewel House was located in a two-storey building on the south side of the White Tower. This contained the records of the jewels and packing materials for sending jewels to court. The 1574 inventory was made John Astley, Master and Treasurer of the Jewel House. The Master had an annual salary of £50 and was able to exact payments from goldsmiths appointed to work for the Jewel House, and those who transported plate from the House to diplomats. The post was lucrative, but some of the perquisites of the role were exaggerated or overstated by Sir Gilbert Talbot, who was made Master in 1660 and in 1680 wrote a treatise entitled Of the Jewel house. In the inventory the items were listed in categories; below an outline of the main categories is given with some examples of the 1,605 entries.\\nThe sources used by Collins were British Library Harley MS 1560 and Stowe MS 555 (see external links for digitised manuscripts). The manuscripts represent the \"Quenis Majesties juelles plate and other stuff\" in 1574 and additions by gift or purchase over the next 20 years which were kept in the Jewel House at the Tower of London. Collins also collated information from other books and manuscripts to cross-reference information about the objects listed. Gifts of plate to the queen passed from the Privy Chamber to the Jewel House. Some pieces were melted down and others were given as diplomatic gifts. When the queen travelled, the towns she visited often gave her gifts of silver-gilt cups.\\nJanet Arnold published an annotated wardrobe inventory now in the British Library, (Stowe MS 557), consulting also a duplicate copy at the National Archives, and another inventory held by the Folger Shakespeare Library, MS V. b.72. The inventory includes some of the queen\\'s jewels.\\n\\n\\n== Outline of the 1574 inventory of plate ==\\n\\n\\n=== Gold plate ===\\nJuelles of Golde\\nno. 1 The imperial crown of England.\\nno. 2 The sceptre of gold with a dove.\\nno. 3 The globe or round ball (orb) with a cross.\\nno. 4 The queen\\'s crown (intended for a queen consort).\\nno. 5 The queen\\'s sceptre with a dove intended for a queen consort). One sceptre was repaired by Cornelis Hayes for the coronation of Anne Boleyn, and later issued to Dorothy Bulstrode for a masque of Anne of Denmark, and a gold wing was lost.\\nno. 6 A pair of bracelets with six rubies and seven large pearls and five smaller pearls, with red laces.\\nCups and bowls\\n\\nno. 48 The St Agnes cup. A cup of gold with imagery the knop a crown imperial and about border of the cover and the foot a crown garnished with 61 pearls.\\nno. 49 A jewelled gold cup given to James VI of Scotland at the christening of Prince Henry at Stirling Castle on 30 August 1594.\\nno. 75 A cup of \"assaye\" of gold fair wrought and enamelled. Given to Christian IV of Denmark on 5 August 1606.\\nCandlesticks\\nno. 77: Four gold candlesticks for a table with \"H\" and \"R\" enamelled in red. Three were gifts to Henry VIII from Catherine of Aragon.\\nGoblets and jugs\\nSalt cellars\\nno. 83 A salt called the \"Morris Dance\" decorated with precious stones and pearls with 5 morris dancers, a drummer, and a lady. The salt was taken to The Hague in October 1625 by the Duke of Buckingham and pawned.\\nOrange-strainers\\nTrenchers\\nSpoons and forks\\nBasins, ewers and lairs\\nno. 125 A gold basin with the arms of Jane Seymour with gold roses enamelled red and white, and the border of the cover en', metadata={'title': 'Inventory of Elizabeth I', 'summary': \"Costume and gold and silver plate belonging to Elizabeth I were recorded in several inventories, and other documents including rolls of New Year's Day gifts. Arthur Jefferies Collins published the Jewels and Plate of Queen Elizabeth I: The Inventory of 1574 from manuscripts in 1955. The published inventory describes jewels and silver-plate belonging to Elizabeth with detailed references to other source material. Two inventories of Elizabeth's costume and some of her jewellery were published by Janet Arnold in Queen Elizabeth's Wardrobe Unlocke'd (Maney, 1988).\\n\\n\", 'source': 'https://en.wikipedia.org/wiki/Inventory_of_Elizabeth_I'}),\n",
              " Document(page_content='Isabella I (Spanish: Isabel I; 22 April 1451 – 26 November 1504), also called Isabella the Catholic (Spanish: Isabel la Católica), was Queen of Castile and León from 1474 until her death in 1504. She was also Queen of Aragon from 1479 until her death as the wife of King Ferdinand II. Reigning together over a dynastically unified Spain, Isabella and Ferdinand are known as the Catholic Monarchs.\\nAfter a struggle to claim the throne, Isabella reorganized the governmental system, brought the crime rate down, and unburdened the kingdom of the debt, which her half-brother King Henry IV had left behind. Isabella\\'s marriage to Ferdinand in 1469 created the basis of the de facto unification of Spain. Her reforms and those she made with her husband had an influence that extended well beyond the borders of their united kingdoms.\\nIsabella I of Castile and Ferdinand II of Aragon are known for being the first monarchs to be referred to as the \"Queen of Spain\" and \"King of Spain\", respectively. Their actions included completion of the Reconquista, the Alhambra Decree which ordered the mass expulsion of Jews from Spain, initiating the Spanish Inquisition, financing Christopher Columbus\\'s 1492 voyage to the New World, and establishing the Spanish empire, making Spain a major power in Europe and the world and ultimately ushering in the Spanish Golden Age. Together with her husband, Isabella was granted the title of \"Catholic Monarch\" by the Spanish Pope Alexander VI, and was recognized in 1974 as a Servant of God by the Catholic Church.\\n\\n\\n== Life ==\\n\\n\\n=== Early years ===\\nIsabella was born in Madrigal de las Altas Torres to John II of Castile and his second wife, Isabella of Portugal, on 22 April 1451. At the time of Isabella\\'s birth, she was second in line to the throne after her older half-brother Henry IV of Castile. Henry was 26 at that time and married, but childless. Isabella\\'s younger brother Alfonso of Castile was born two years later on 17 November 1453, demoting her position to third in line. When her father died in 1454, her half-brother ascended to the throne as King Henry IV of Castile. Isabella and her brother Alfonso were left in King Henry\\'s care. Isabella, her mother, and Alfonso then moved to Arévalo.\\nThese were times of turmoil for Isabella. The living conditions at their castle in Arévalo were poor, and they suffered from a shortage of money. Although her father arranged in his will for his children to be financially well taken care of, King Henry did not comply with their father\\'s wishes, either from a desire to keep his half-siblings restricted or from ineptitude. Even though her living conditions were difficult, Isabella was instructed in lessons of practical piety and in a deep reverence for religion under the supervision of her mother.\\nWhen the king\\'s wife, Joan of Portugal, was about to give birth to their daughter Joanna, Isabella and her brother Alfonso were summoned to court in Segovia to come under the direct supervision of the king and to finish their education. Alfonso was placed in the care of a tutor while Isabella became part of the queen\\'s household.\\n\\nSome of Isabella\\'s living conditions improved in Segovia. She always had food and clothing and lived in a castle that was adorned with gold and silver. Isabella\\'s basic education consisted of reading, spelling, writing, grammar, history, arithmetic, art, chess, dancing, embroidery, music, and religious instruction. She and her ladies-in-waiting entertained themselves with art, embroidery, and music. She lived a relaxed lifestyle, but she rarely left Segovia since King Henry forbade this. Her half-brother was keeping her from the political turmoil going on in the kingdom, though Isabella had full knowledge of what was going on and of her role in the feuds.\\nAfter a rumor spread that Joanna was not actually the daughter of King Henry but rather of a royal favorite, Beltrán de la Cueva, noblemen confronted King Henry and demanded that the king\\'s younger half-brother ', metadata={'title': 'Isabella I of Castile', 'summary': 'Isabella I (Spanish: Isabel I; 22 April 1451 – 26 November 1504), also called Isabella the Catholic (Spanish: Isabel la Católica), was Queen of Castile and León from 1474 until her death in 1504. She was also Queen of Aragon from 1479 until her death as the wife of King Ferdinand II. Reigning together over a dynastically unified Spain, Isabella and Ferdinand are known as the Catholic Monarchs.\\nAfter a struggle to claim the throne, Isabella reorganized the governmental system, brought the crime rate down, and unburdened the kingdom of the debt, which her half-brother King Henry IV had left behind. Isabella\\'s marriage to Ferdinand in 1469 created the basis of the de facto unification of Spain. Her reforms and those she made with her husband had an influence that extended well beyond the borders of their united kingdoms.\\nIsabella I of Castile and Ferdinand II of Aragon are known for being the first monarchs to be referred to as the \"Queen of Spain\" and \"King of Spain\", respectively. Their actions included completion of the Reconquista, the Alhambra Decree which ordered the mass expulsion of Jews from Spain, initiating the Spanish Inquisition, financing Christopher Columbus\\'s 1492 voyage to the New World, and establishing the Spanish empire, making Spain a major power in Europe and the world and ultimately ushering in the Spanish Golden Age. Together with her husband, Isabella was granted the title of \"Catholic Monarch\" by the Spanish Pope Alexander VI, and was recognized in 1974 as a Servant of God by the Catholic Church.', 'source': 'https://en.wikipedia.org/wiki/Isabella_I_of_Castile'}),\n",
              " Document(page_content='Becoming Elizabeth is a historical drama television series, created by Anya Reiss, that follows the younger years of Queen Elizabeth I, who lived in the 16th century. It premiered on Starz on 12 June 2022 and Channel 4 on 15 June. In October 2022, the series was cancelled.\\n\\n\\n== Plot ==\\nThe series follows the younger years of the only surviving child of Anne Boleyn and Henry VIII, Queen Elizabeth I, who starts out in the story as an orphaned teenager who becomes embroiled in the politics of the English court on her journey towards the crown. Before cancellation, the series covered almost the full reign of her younger half brother, Edward VI.\\n\\n\\n== Cast and characters ==\\nAlicia von Rittberg as Elizabeth Tudor\\nRomola Garai as Mary Tudor\\nJessica Raine as Catherine Parr\\nTom Cullen as Thomas Seymour\\nBella Ramsey as Jane Grey\\nJamie Parker as John Dudley, 1st Duke of Northumberland\\nOliver Zetterström as King Edward VI\\nJohn Heffernan as Edward Seymour, 1st Duke of Somerset\\nJamie Blackley as Lord Robert Dudley\\nJacob Avery as Lord Guildford Dudley\\nAlexandra Gilbreath as Kat Ashley\\nLeo Bill as Henry Grey\\nEkow Quartey as Pedro\\nAlex Macqueen as Stephen Gardiner\\nOlivier Huband as Ambassador Guzman\\nRobert Whitelock as Robert Kett\\nRuby Ashbourne Serkis as Amy Robsart\\n\\n\\n== Episodes ==\\n\\n\\n== Production ==\\n\\n\\n=== Development ===\\nIn December 2019, it was announced Starz had greenlit an 8-episode series focusing on the younger years of Queen Elizabeth I created by Anya Reiss, who would also serve as an executive producer. In October 2022, it was announced that Starz had cancelled the show and there would be no season 2 covering the reign of Mary I.\\n\\n\\n=== Casting ===\\nIn October 2020, Alicia von Rittberg joined the cast of the series. In May 2021, Romola Garai, Jessica Raine, Tom Cullen, Bella Ramsey, Oliver Zetterström, John Heffernan, Jamie Blackley, Jacob Avery, Alexandra Gilbreath, Leo Bill, Ekow Quartey, Alex Macqueen and Oliver Huband joined the cast of the series.\\n\\n\\n=== Filming ===\\nPrincipal photography began in December 2020. In March 2021, production took place at Cardiff Castle.\\n\\n\\n== Reception ==\\nOn the review aggregator website Rotten Tomatoes, 88% of 16 critics\\' reviews are positive, with an average rating of 6.9/10. The website\\'s consensus reads, \"Angsty as a disgruntled teenager and all the better for it, Becoming Elizabeth finds fresh drama in the Tudors by shifting focus onto the royal court\\'s web of spiders.\". Particular praise was given to Romola Garai in her role as Mary Tudor, with many commentating that she stole the show. Metacritic, which uses a weighted average, assigned a score of 73 out of 100 based on 11 critics, indicating \"generally favorable reviews\".\\nThe series was repeated in the UK on Channel 4 from 15 July 2023.\\n\\n\\n== References ==\\n\\n\\n== External links ==\\nBecoming Elizabeth at IMDb', metadata={'title': 'Becoming Elizabeth', 'summary': 'Becoming Elizabeth is a historical drama television series, created by Anya Reiss, that follows the younger years of Queen Elizabeth I, who lived in the 16th century. It premiered on Starz on 12 June 2022 and Channel 4 on 15 June. In October 2022, the series was cancelled.', 'source': 'https://en.wikipedia.org/wiki/Becoming_Elizabeth'}),\n",
              " Document(page_content='Sir Francis Walsingham (c.\\u20091532 – 6 April 1590) was principal secretary to Queen Elizabeth I of England from 20 December 1573 until his death and is popularly remembered as her \"spymaster\".\\nBorn to a well-connected family of gentry, Walsingham attended Cambridge University and travelled in continental Europe before embarking on a career in law at the age of twenty. A committed Protestant, during the reign of the Catholic Queen Mary I of England he joined other expatriates in exile in Switzerland and northern Italy until Mary\\'s death and the accession of her Protestant half-sister, Elizabeth.\\nWalsingham rose from relative obscurity to become one of the small coterie who directed the Elizabethan state, overseeing foreign, domestic and religious policy. He served as English ambassador to France in the early 1570s and witnessed the St. Bartholomew\\'s Day massacre. As principal secretary, he supported exploration, colonization, the development of the navy, and the plantation of Ireland. He worked to bring Scotland and England together. Overall, his foreign policy demonstrated a new understanding of the role of England as a maritime Protestant power with intercontinental trading ties. He oversaw operations that penetrated Spanish military preparation, gathered intelligence from across Europe, disrupted a range of plots against Elizabeth and secured the execution of Mary, Queen of Scots.\\n\\n\\n== Origins and early life ==\\n\\nFrancis Walsingham was born around 1532, probably at Foots Cray, near Chislehurst in Kent, the only son of William Walsingham (died 1534), a successful and well-connected London lawyer who served as a member of the commission appointed to investigate the estates of Cardinal Thomas Wolsey in 1530. William\\'s elder brother was Sir Edmund Walsingham, Lieutenant of the Tower of London.\\nFrancis\\'s mother was Joyce Denny, a daughter of the courtier Sir Edmund Denny of Cheshunt in Hertfordshire, and a sister of the courtier Sir Anthony Denny, the principal Gentleman of the Privy Chamber to King Henry VIII. After the death of her first husband she married the courtier Sir John Carey in 1538. Carey\\'s brother William was the husband of Mary Boleyn, the elder sister of Anne Boleyn, the second wife of King Henry VIII.\\nOf Francis\\'s five siblings, Mary married Sir Walter Mildmay, who was Chancellor of the Exchequer for over 20 years, and Elizabeth married the parliamentarian Peter Wentworth.\\nFrancis Walsingham matriculated at King\\'s College, Cambridge, in 1548 with many other Protestants but as an undergraduate of high social status did not sit for a degree. From 1550 or 1551, he travelled in continental Europe, returning to England by 1552 to enrol at Gray\\'s Inn, one of the qualifying bodies for English lawyers.\\nUpon the death in 1553 of Henry VIII\\'s successor, Edward VI, Edward\\'s Catholic half-sister Mary became queen. Many wealthy Protestants, such as John Foxe and John Cheke, fled England, and Walsingham was among them. He continued his studies in law at the universities of Basel and Padua, where he was elected to the governing body by his fellow students in 1555.\\n\\n\\n== Rise to power ==\\nMary I died in November 1558 and was succeeded by her Protestant half-sister Elizabeth. Walsingham returned to England and through the support of one of his fellow former exiles, Francis Russell, 2nd Earl of Bedford, he was elected to Elizabeth\\'s first parliament as the member for Bossiney, Cornwall, in 1559. At the subsequent election in 1563, he was returned for both Lyme Regis, Dorset, another constituency under Bedford\\'s influence, and Banbury, Oxfordshire. He chose to sit for Lyme Regis. In January 1562 he married Anne, daughter of Sir George Barne, Lord Mayor of London in 1552–3, and widow of wine merchant Alexander Carleill. Anne died two years later leaving her son Christopher Carleill in Walsingham\\'s care. In 1566, Walsingham married Ursula St. Barbe, widow of Sir Richard Worsley, and Walsingham acquired her estates of Appuldurcombe and Cari', metadata={'title': 'Francis Walsingham', 'summary': 'Sir Francis Walsingham (c.\\u20091532 – 6 April 1590) was principal secretary to Queen Elizabeth I of England from 20 December 1573 until his death and is popularly remembered as her \"spymaster\".\\nBorn to a well-connected family of gentry, Walsingham attended Cambridge University and travelled in continental Europe before embarking on a career in law at the age of twenty. A committed Protestant, during the reign of the Catholic Queen Mary I of England he joined other expatriates in exile in Switzerland and northern Italy until Mary\\'s death and the accession of her Protestant half-sister, Elizabeth.\\nWalsingham rose from relative obscurity to become one of the small coterie who directed the Elizabethan state, overseeing foreign, domestic and religious policy. He served as English ambassador to France in the early 1570s and witnessed the St. Bartholomew\\'s Day massacre. As principal secretary, he supported exploration, colonization, the development of the navy, and the plantation of Ireland. He worked to bring Scotland and England together. Overall, his foreign policy demonstrated a new understanding of the role of England as a maritime Protestant power with intercontinental trading ties. He oversaw operations that penetrated Spanish military preparation, gathered intelligence from across Europe, disrupted a range of plots against Elizabeth and secured the execution of Mary, Queen of Scots.', 'source': 'https://en.wikipedia.org/wiki/Francis_Walsingham'}),\n",
              " Document(page_content='Mary, Queen of Scots (8 December 1542 – 8 February 1587), also known as Mary Stuart or Mary I of Scotland, was Queen of Scotland from 14 December 1542 until her forced abdication in 1567.\\nThe only surviving legitimate child of James V of Scotland, Mary was six days old when her father died and she inherited the throne. During her childhood, Scotland was governed by regents, first by the heir to the throne, James Hamilton, Earl of Arran, and then by her mother, Mary of Guise. In 1548, she was betrothed to Francis, the Dauphin of France, and was sent to be brought up in France, where she would be safe from invading English forces during the Rough Wooing. Mary married Francis in 1558, becoming queen consort of France from his accession in 1559 until his death in December 1560. Widowed, Mary returned to Scotland in August 1561. The tense religious and political climate following the Scottish Reformation that Mary encountered on her return to Scotland was further agitated by prominent Scots such as John Knox, who openly questioned whether her subjects had a duty to obey her. The early years of her personal rule were marked by pragmatism, tolerance, and moderation. She issued a proclamation accepting the religious settlement in Scotland as she had found it upon her return, retained advisers such as James Stewart, Earl of Moray (her illegitimate half-brother), and William Maitland of Lethington, and governed as the Catholic monarch of a Protestant kingdom.\\nMary married her half-cousin, Henry Stuart, Lord Darnley, in 1565, and in 1566, they had a son, James. After Darnley orchestrated the murder of Mary\\'s Italian secretary and close friend, David Rizzio, their marriage soured. In February 1567, Darnley\\'s residence was destroyed by an explosion, and he was found murdered in the nearby garden. James Hepburn, 4th Earl of Bothwell, was generally believed to have orchestrated Darnley\\'s death, but he was acquitted of the charge in April 1567, and the following month, he married Mary. Following an uprising against the couple, Mary was imprisoned in Lochleven Castle. On 24 July 1567, she was forced to abdicate in favour of her one-year-old son, James VI. After an unsuccessful attempt to regain the throne, she fled southward seeking the protection of her first cousin once removed, Elizabeth I of England.\\nAs a great-granddaughter of Henry VII of England, Mary had once claimed Elizabeth\\'s throne as her own and was considered the legitimate sovereign of England by many English Catholics, including participants in a rebellion known as the Rising of the North. Perceiving Mary as a threat, Elizabeth had her confined in various castles and manor houses in the interior of England. After eighteen-and-a-half years in captivity, Mary was found guilty of plotting to assassinate Elizabeth in 1586 and was beheaded the following year at Fotheringhay Castle. Mary\\'s life and execution established her in popular culture as a romanticised historical character.\\n\\n\\n== Childhood and early reign ==\\n\\nMary was born on 8 December 1542 at Linlithgow Palace, Scotland, to King James V and his French second wife, Mary of Guise. She was said to have been born prematurely and was the only legitimate child of James to survive him. She was the great-granddaughter of King Henry VII of England through her paternal grandmother, Margaret Tudor. Margaret was Henry VIII\\'s older sister so Mary was Henry VIII\\'s great-niece. On 14 December, six days after her birth, she became Queen of Scotland when her father died, perhaps from the effects of a nervous collapse following the Battle of Solway Moss or from drinking contaminated water while on campaign.\\nA popular tale, first recorded by John Knox, states that James, upon hearing on his deathbed that his wife had given birth to a daughter, ruefully exclaimed, \"It cam wi\\' a lass and it will gang wi\\' a lass!\" His House of Stuart had gained the throne of Scotland in the 14th century via the marriage of Marjorie Bruce, daughter of Robert the B', metadata={'title': 'Mary, Queen of Scots', 'summary': \"Mary, Queen of Scots (8 December 1542 – 8 February 1587), also known as Mary Stuart or Mary I of Scotland, was Queen of Scotland from 14 December 1542 until her forced abdication in 1567.\\nThe only surviving legitimate child of James V of Scotland, Mary was six days old when her father died and she inherited the throne. During her childhood, Scotland was governed by regents, first by the heir to the throne, James Hamilton, Earl of Arran, and then by her mother, Mary of Guise. In 1548, she was betrothed to Francis, the Dauphin of France, and was sent to be brought up in France, where she would be safe from invading English forces during the Rough Wooing. Mary married Francis in 1558, becoming queen consort of France from his accession in 1559 until his death in December 1560. Widowed, Mary returned to Scotland in August 1561. The tense religious and political climate following the Scottish Reformation that Mary encountered on her return to Scotland was further agitated by prominent Scots such as John Knox, who openly questioned whether her subjects had a duty to obey her. The early years of her personal rule were marked by pragmatism, tolerance, and moderation. She issued a proclamation accepting the religious settlement in Scotland as she had found it upon her return, retained advisers such as James Stewart, Earl of Moray (her illegitimate half-brother), and William Maitland of Lethington, and governed as the Catholic monarch of a Protestant kingdom.\\nMary married her half-cousin, Henry Stuart, Lord Darnley, in 1565, and in 1566, they had a son, James. After Darnley orchestrated the murder of Mary's Italian secretary and close friend, David Rizzio, their marriage soured. In February 1567, Darnley's residence was destroyed by an explosion, and he was found murdered in the nearby garden. James Hepburn, 4th Earl of Bothwell, was generally believed to have orchestrated Darnley's death, but he was acquitted of the charge in April 1567, and the following month, he married Mary. Following an uprising against the couple, Mary was imprisoned in Lochleven Castle. On 24 July 1567, she was forced to abdicate in favour of her one-year-old son, James VI. After an unsuccessful attempt to regain the throne, she fled southward seeking the protection of her first cousin once removed, Elizabeth I of England.\\nAs a great-granddaughter of Henry VII of England, Mary had once claimed Elizabeth's throne as her own and was considered the legitimate sovereign of England by many English Catholics, including participants in a rebellion known as the Rising of the North. Perceiving Mary as a threat, Elizabeth had her confined in various castles and manor houses in the interior of England. After eighteen-and-a-half years in captivity, Mary was found guilty of plotting to assassinate Elizabeth in 1586 and was beheaded the following year at Fotheringhay Castle. Mary's life and execution established her in popular culture as a romanticised historical character.\", 'source': 'https://en.wikipedia.org/wiki/Mary,_Queen_of_Scots'}),\n",
              " Document(page_content='HMS Queen Elizabeth is the lead ship of the Queen Elizabeth class of aircraft carriers and the Fleet Flagship of the Royal Navy. Capable of carrying 60 aircraft including fixed wing, rotary wing and autonomous vehicles, she is named in honour of the first HMS Queen Elizabeth, a World War I era super-dreadnought, which in turn was named after Queen Elizabeth I. The carrier Queen Elizabeth carries her namesake ship\\'s honours, as well as her Tudor rose-adorned crest and motto.\\nQueen Elizabeth commenced her sea trials in June 2017, was commissioned on 7 December 2017 and entered service in 2020. Her first seagoing commanding officer was Commodore Jerry Kyd who was appointed in 2014 but did not take command until May 2016, having previously commanded the carriers Ark Royal and Illustrious.\\nThe ship is designed to operate V/STOL aircraft. The air wing will typically consist of F-35B Lightning II multirole fighters and Merlin helicopters for airborne early warning and anti-submarine warfare. The design emphasises flexibility, with accommodation for 250 Royal Marines and the ability to support them with attack helicopters and large troop transports such as Chinooks. She  is based at HMNB Portsmouth.\\nQueen Elizabeth will deploy as the central part of a UK Carrier Strike Group with escorts and support ships in order to deliver carrier-enabled power projection.\\n\\n\\n== Design and construction ==\\nOn 25 July 2007 Defence Secretary Des Browne announced the order for two new carriers. At the time of approval the first carrier was expected to enter service in July 2015 and the budget was £4.085 billion for two ships. The financial crisis led to a political decision in December 2008 to slow production, delaying Queen Elizabeth until May 2016. This added £1.56 billion to the cost. By March 2010 the budget was estimated at £5.9 billion and in November 2013 the contract was renegotiated with a budget of £6.2 billion. The in-service date was further extended to 2020 in the Strategic Defence and Security Review in October 2010.\\nConstruction of Queen Elizabeth began in 2009. The assembly took place in the Firth of Forth at Rosyth Dockyard from nine blocks built in six UK shipyards: BAE Systems Surface Ships in Glasgow, Babcock at Appledore, Babcock at Rosyth, A&P Tyne in Hebburn, BAE at Portsmouth and Cammell Laird (flight decks) at Birkenhead. Two of the lower main blocks, together weighing more than 6,000 tonnes and forming part of the base of the ship, were assembled and joined into one piece on 30 June 2011.\\nOn 16 August 2011, the 8,000-tonne Lower Block 03 of Queen Elizabeth left BAE Systems Surface Ships\\' Govan shipyard in Glasgow on a large ocean-going barge. Travelling 600 miles (970 km) around the northern coast of Scotland, the block arrived at Rosyth on the evening of 20 August 2011.\\nOn 28 October 2012, an 11,000-tonne section of the carrier began a lengthy journey around the south coast of England, avoiding bad weather, from the shipbuilding hall at Govan to the Rosyth dockyard; it arrived on 21 November. The forward island was constructed at BAE Portsmouth and attached on 14 March 2013; the aft island was attached in June 2013. The ski jump was added in November 2013, leaving just the lifts and radar to be lifted into place. By September 2013 Queen Elizabeth was 80% complete internally.\\nThe carrier is three times the size of the Invincible-class, and has the ability to carry approximately three times as many aircraft. Despite this, Queen Elizabeth has marginally fewer crew than the Invincible-class. The ship has two superstructures, or islands, one for navigation and ship\\'s operations and the other for flight control and aerial operations. The islands can take on each other\\'s function if one is incapacitated.\\n\\n\\n=== Naming ceremony ===\\n\\nQueen Elizabeth was christened at Rosyth on 4 July 2014, by Queen Elizabeth II, who said that the warship \"marks a new phase in our naval history\". Instead of smashing the traditional bottle of Champagne on ', metadata={'title': 'HMS Queen Elizabeth (R08)', 'summary': \"HMS Queen Elizabeth is the lead ship of the Queen Elizabeth class of aircraft carriers and the Fleet Flagship of the Royal Navy. Capable of carrying 60 aircraft including fixed wing, rotary wing and autonomous vehicles, she is named in honour of the first HMS Queen Elizabeth, a World War I era super-dreadnought, which in turn was named after Queen Elizabeth I. The carrier Queen Elizabeth carries her namesake ship's honours, as well as her Tudor rose-adorned crest and motto.\\nQueen Elizabeth commenced her sea trials in June 2017, was commissioned on 7 December 2017 and entered service in 2020. Her first seagoing commanding officer was Commodore Jerry Kyd who was appointed in 2014 but did not take command until May 2016, having previously commanded the carriers Ark Royal and Illustrious.\\nThe ship is designed to operate V/STOL aircraft. The air wing will typically consist of F-35B Lightning II multirole fighters and Merlin helicopters for airborne early warning and anti-submarine warfare. The design emphasises flexibility, with accommodation for 250 Royal Marines and the ability to support them with attack helicopters and large troop transports such as Chinooks. She  is based at HMNB Portsmouth.\\nQueen Elizabeth will deploy as the central part of a UK Carrier Strike Group with escorts and support ships in order to deliver carrier-enabled power projection.\", 'source': 'https://en.wikipedia.org/wiki/HMS_Queen_Elizabeth_(R08)'}),\n",
              " Document(page_content='Elizabeth Boleyn, Countess of Wiltshire (born Elizabeth Howard; c. 1480 – 3 April 1538) was an English noblewoman, noted for being the mother of Anne Boleyn and as such the maternal grandmother of Elizabeth I of England. The eldest daughter of Thomas Howard, 2nd Duke of Norfolk and his first wife Elizabeth Tilney, she married Thomas Boleyn sometime in the later 15th century. Elizabeth became Viscountess Rochford in 1525 when her husband was elevated to the peerage, subsequently becoming Countess of Ormond in 1527 and Countess of Wiltshire in 1529.\\n\\n\\n== Family and early life ==\\nElizabeth was born c. 1480 into the wealthy and influential Howard family, as the elder of the two daughters of Sir Thomas Howard, later 2nd Duke of Norfolk, and his first wife Elizabeth Tilney. Her paternal grandfather, Sir John Howard, was created Duke of Norfolk in 1483 by King Richard III.\\nHer family managed to survive the fall of their patron, King Richard III, who was killed at Bosworth in 1485 and supplanted by the victor, King Henry VII, when she was about five years old. Elizabeth became a part of the royal court as a young girl.\\n\\n\\n== Marriage and lady-in-waiting for the royal court ==\\nIt was while she was at court, that she wed Thomas Boleyn, an ambitious young courtier, sometime before 1500, probably in 1498. According to Thomas, his wife was pregnant many times in the next few years but only three children lived to adulthood. The three children were:\\n\\nMary Boleyn, mistress of Henry VIII of England (c. 1499 – 19 July 1543).\\nGeorge Boleyn, Viscount Rochford (c. 1504 – 17 May 1536).\\nAnne Boleyn, Queen consort of Henry VIII of England (c. 1501/7 – 19 May 1536)\\nThe other two boys were Thomas born 1496 and Henry \\'Hal\\' born 1500.  Both died of the sweating sickness plague during the outbreak in 1517.\\nThroughout this time, Elizabeth was a lady-in-waiting at the royal court; first to Elizabeth of York, and then to Catherine of Aragon. Based on later gossip, Elizabeth Boleyn must have been a highly attractive woman. Rumours circulated when Henry was involved with Anne Boleyn that Elizabeth had once been his mistress, with the suggestion even being made that Anne Boleyn might be the daughter of Henry VIII. However, despite recent attempts by one or two historians to rehabilitate this myth, it was denied by Henry and never mentioned in the dispensation he sought in order to make his union with Anne lawful. Most historians believe it is likely that this rumour began by confusing Elizabeth with Henry\\'s more famous mistress Elizabeth Blount, or from the growing unpopularity of the Boleyn family after 1527.\\n\\n\\n== 1519–1536 ==\\n\\nIn 1519, Elizabeth\\'s daughters, Anne and Mary, were living in the French royal court as Ladies-in-waiting to the French Queen consort Claude. According to the papal nuncio in France fifteen years later, the French King Francis I had referred to Mary as \"my English mare\", and later in his life described her as \"a great whore, the most infamous of all\".\\nIn the words of historian M.L. Bruce, both Thomas and Elizabeth \"developed feelings of dislike\" for their daughter Mary. In later years, Mary\\'s romantic involvements would only further strain this relationship. Around 1520, the Boleyns managed to arrange Mary\\'s marriage to William Carey, a respected and popular man at court. It was sometime after the wedding that Mary became mistress to Henry VIII (the exact dates as to when the affair started and ended are unknown), although she never held the title of \"official royal mistress,\" as the post did not exist in England. It has long been rumoured that one or both of Mary Boleyn\\'s children were fathered by Henry and not Carey. Some historians, such as Alison Weir, now question whether Henry Carey was fathered by the King. Few of Henry\\'s mistresses were ever publicly honoured, except Elizabeth Blount, who was mentioned in Parliament and whose son, Henry Fitzroy, was created Duke of Richmond and Somerset in an elaborate public ceremony in 1525. H', metadata={'title': 'Elizabeth Boleyn, Countess of Wiltshire', 'summary': 'Elizabeth Boleyn, Countess of Wiltshire (born Elizabeth Howard; c. 1480 – 3 April 1538) was an English noblewoman, noted for being the mother of Anne Boleyn and as such the maternal grandmother of Elizabeth I of England. The eldest daughter of Thomas Howard, 2nd Duke of Norfolk and his first wife Elizabeth Tilney, she married Thomas Boleyn sometime in the later 15th century. Elizabeth became Viscountess Rochford in 1525 when her husband was elevated to the peerage, subsequently becoming Countess of Ormond in 1527 and Countess of Wiltshire in 1529.', 'source': 'https://en.wikipedia.org/wiki/Elizabeth_Boleyn,_Countess_of_Wiltshire'}),\n",
              " Document(page_content='Elizabeth: The Golden Age is a 2007 biographical historical drama film directed by Shekhar Kapur and produced by Universal Pictures and Working Title Films. It stars Cate Blanchett in the title role and is a loose but fact-based portrayal of events during the latter part of the reign of Elizabeth I, forming a sequel to Kapur\\'s 1998 film Elizabeth. The film co-stars Geoffrey Rush (reprising his role from the previous film), Clive Owen, Jordi Mollà, Abbie Cornish, and Samantha Morton. The screenplay was written by William Nicholson and Michael Hirst, and the music score was composed by Craig Armstrong and A. R. Rahman. Guy Hendrix Dyas was the film\\'s production designer and co-visual effects supervisor, and the costumes were created by Alexandra Byrne. The film was shot at Shepperton Studios and various locations around the United Kingdom.\\nThe film premiered on 9 September 2007 at the Toronto International Film Festival. It opened in wide release in the United States on 12 October 2007, premiered in London on 23 October 2007, and opened wide on 2 November 2007 throughout the rest of the UK and Republic of Ireland. At the 80th Academy Awards, the film won Best Costume Design and Blanchett received a nomination for Best Actress.\\n\\n\\n== Plot ==\\nIn 1585, Catholic Spain, ruled by King Philip II, is the most powerful country in Europe. Seeing that the Catholic plots against Queen Elizabeth\\'s life that occurred from the 1570s onwards had all failed, Pope Sixtus V approached King Philip, who had amassed the most significant naval force in all of Europe and convinced the king to use this naval force to invade and re-Catholicize England. By doing so, Philip, with the pope\\'s blessing, would overthrow Elizabeth and take control of England. Philip agrees and plots to take over England and make his daughter, Isabella, the Queen of England in Elizabeth\\'s place. Meanwhile,  Elizabeth is being pressured by her advisor, Francis Walsingham, to marry; if Elizabeth dies childless, the throne will pass to her first cousin, Mary, Queen of Scots, who is Catholic.\\nEnglish explorer Walter Raleigh is presented at court, having returned from the New World. Queen Elizabeth is attracted to Raleigh, enthralled by his tales of exploration, and asks Elizabeth \"Bess\" Throckmorton, her most favoured lady-in-waiting, to observe him. Bess also finds Raleigh attractive and they begin a secret affair. With tensions strained between England and Spain, Elizabeth seeks guidance from her astrologer, Dr. John Dee.\\nJesuits in London conspire with Philip to assassinate Elizabeth and replace her with Mary of Scots, in what King Philip calls \"The English Enterprise,\" historically known as the Babington Plot. From her imprisonment, Mary sends secret correspondence to the Jesuits, who recruit Anthony Babington to assassinate Elizabeth. Walsingham continues to warn Queen Elizabeth of Spain\\'s rising power and of the Catholic plots against her, but unlike her predecessor and half-sister, Queen Mary, Elizabeth refuses to force her people to share her religious beliefs.\\nWalsingham\\'s Catholic brother, who knows of the plot against Elizabeth, is jailed, leading Walsingham to reveal Spain\\'s plan to Queen Elizabeth, who angrily confronts the Spanish diplomats. The Spanish ambassador feigns ignorance, accuses her of receiving stolen Spanish gold from pirates, and insinuates that she has a sexual relationship with Raleigh. Enraged, Elizabeth throws the Spaniards out of England. Meanwhile, Philip is cutting down the forests of Spain to build the Spanish Armada to invade England. Mary writes letters condoning the plot.\\nBabington storms into a cathedral where Elizabeth is praying and fires a pistol at her, though Elizabeth is unharmed as there was no bullet in the gun. As Elizabeth learns of Mary\\'s involvement in the plot, Walsingham insists Mary be executed to quell any possible revolt. Elizabeth reluctantly agrees. Mary is tried for high treason and beheaded; Walsingham realises this was par', metadata={'title': 'Elizabeth: The Golden Age', 'summary': \"Elizabeth: The Golden Age is a 2007 biographical historical drama film directed by Shekhar Kapur and produced by Universal Pictures and Working Title Films. It stars Cate Blanchett in the title role and is a loose but fact-based portrayal of events during the latter part of the reign of Elizabeth I, forming a sequel to Kapur's 1998 film Elizabeth. The film co-stars Geoffrey Rush (reprising his role from the previous film), Clive Owen, Jordi Mollà, Abbie Cornish, and Samantha Morton. The screenplay was written by William Nicholson and Michael Hirst, and the music score was composed by Craig Armstrong and A. R. Rahman. Guy Hendrix Dyas was the film's production designer and co-visual effects supervisor, and the costumes were created by Alexandra Byrne. The film was shot at Shepperton Studios and various locations around the United Kingdom.\\nThe film premiered on 9 September 2007 at the Toronto International Film Festival. It opened in wide release in the United States on 12 October 2007, premiered in London on 23 October 2007, and opened wide on 2 November 2007 throughout the rest of the UK and Republic of Ireland. At the 80th Academy Awards, the film won Best Costume Design and Blanchett received a nomination for Best Actress.\", 'source': 'https://en.wikipedia.org/wiki/Elizabeth:_The_Golden_Age'}),\n",
              " Document(page_content=\"Katherine Seymour, Countess of Hertford (née Lady Katherine Grey; 25 August 1540 – 26 January 1568) was a younger sister of Lady Jane Grey.\\nA granddaughter of Henry VIII's sister Mary, she emerged as a prospective successor to her cousin, Elizabeth I of England, before incurring Queen Elizabeth's wrath by secretly marrying Edward Seymour, 1st Earl of Hertford. Arrested after the Queen was informed of their clandestine marriage, Katherine (as Lady Hertford) lived in captivity until her death, having borne two sons in the Tower of London.\\n\\n\\n== Family and claim to the throne ==\\nLady Katherine was born on 25 August 1540 at Bradgate Park, near Leicester, the second surviving daughter of Henry Grey, 1st Duke of Suffolk, by his marriage to Lady Frances Brandon. She was the younger sister of Lady Jane Grey and elder sister of Lady Mary Grey. Katherine Grey's maternal grandparents were Charles Brandon, 1st Duke of Suffolk, and Mary Tudor, Dowager Queen of France, youngest surviving daughter of Henry VII and Elizabeth of York.\\nThrough their grandmother, the Grey sisters had a close claim in the line of succession to the English throne. They were preceded in the line of succession only by Henry VIII's three children – Prince Edward, Lady Mary and Lady Elizabeth – and the descendants of Princess Margaret, the elder daughter of Henry VII and Queen Consort of Scotland, after 1542 represented by Mary, Queen of Scots. However, Henry VIII had excluded the Scottish regal line from the English succession in his Will, placing the Grey sisters next-in-line after his own children.\\n\\n\\n== First marriage ==\\nSome time before August 1552, Katherine Grey was betrothed to Henry, Lord Herbert, heir apparent to William Herbert, 1st Earl of Pembroke. In 1553, as King Edward VI was dying, the King and his Chief Minister, John Dudley, 1st Duke of Northumberland, planned to exclude Edward's sister Mary Tudor from the succession in favour of Katherine's elder sister, Lady Jane Grey. According to the Letters Patent of 21 June 1553, Lady Katherine was to be second in the line of succession behind her sister and heirs-male. Lady Jane had been married to Northumberland's son, Lord Guildford Dudley, on 25 May 1553. On the same occasion, Lady Katherine was married to Lord Herbert at Durham House. After the wedding, Katherine (now Lady Herbert) went to live with her husband at Baynard's Castle beside the Thames.  When Lady Jane's accession to the throne failed, Henry's father sought to distance himself from the Grey family by separating his son from Lady Katherine and seeking the annulment of the marriage; this was probably achieved in early 1554, as the union had not been consummated. Meanwhile, her sister (Lady Jane Grey) and her father (the Duke of Suffolk) had been executed in February 1554 after the suppression of Wyatt's Rebellion.\\n\\n\\n== Prospective royal heir under Mary I and Elizabeth I ==\\nDuring the first phase of Queen Mary I's reign, Lady Katherine was senior heir-in-line to the throne as Mary was yet unmarried and her younger sister Elizabeth was regarded as illegitimate. Demoted when Elizabeth was declared heir, Lady Katherine's claim came to the fore again when Queen Elizabeth I acceded to the English throne in November 1558. At one point the Queen was apparently contemplating Lady Katherine Grey as a potential Protestant heir, with rumours of a possible adoption, but any such development was terminated upon Lady Katherine's clandestine marriage to Lord Hertford.\\n\\n\\n== Second marriage ==\\n\\nOne of Lady Katherine's friends, Lady Jane Seymour, daughter of the Duke of Somerset, introduced her brother, Edward Seymour, 1st Earl of Hertford, to Lady Katherine Grey (so restyled after the annulment of her first marriage). Without royal assent, the two were married in December 1560 during a secret ceremony at Lord Hertford's house in Cannon Row, where Lady Jane Seymour was the sole witness.\\nSoon thereafter, the Queen despatched Lord Hertford with Thomas Cecil, eldest s\", metadata={'title': 'Lady Katherine Grey', 'summary': \"Katherine Seymour, Countess of Hertford (née Lady Katherine Grey; 25 August 1540 – 26 January 1568) was a younger sister of Lady Jane Grey.\\nA granddaughter of Henry VIII's sister Mary, she emerged as a prospective successor to her cousin, Elizabeth I of England, before incurring Queen Elizabeth's wrath by secretly marrying Edward Seymour, 1st Earl of Hertford. Arrested after the Queen was informed of their clandestine marriage, Katherine (as Lady Hertford) lived in captivity until her death, having borne two sons in the Tower of London.\", 'source': 'https://en.wikipedia.org/wiki/Lady_Katherine_Grey'}),\n",
              " Document(page_content='Elizabeth, Lady Raleigh (née Throckmorton; 16 April 1565 – c. 1647), was an English courtier, a Gentlewoman of the Privy Chamber to Queen Elizabeth I of England. Her secret marriage to Sir Walter Raleigh precipitated a long period of royal disfavour for both her and her husband.\\n\\n\\n== Life ==\\nElizabeth, known also as \"Bess\", was the daughter of the diplomat Sir Nicholas Throckmorton and Anne Throckmorton (née Carew). Bess and her brother Arthur were courtiers to Elizabeth I. \\nIn her book, The Life of Elizabeth I (1998), British author and historian Alison Weir states Throckmorton and Raleigh\\'s first child was conceived by July 1591, the couple were married \"in great secrecy\" in the autumn of 1591, and their son was born in March 1592. The boy was christened Damerei, after Sir Walter\\'s claimed ancestors, the D\\'Ameries. Damerei is believed to have died during infancy.\\nWeir states that Queen Elizabeth first became aware in May 1592 of the secret marriage and of Damerei\\'s birth, despite Bess and Sir Walter\\'s denials. The couple had married without royal permission, but, significantly, Robert Devereux, 2nd Earl of Essex, was in on the secret and acting as godfather to the Raleighs\\' son. Once the queen found out, she first placed Bess and Raleigh under house arrest, then sent them to the Tower of London, in June 1592. Raleigh was released from the Tower in August 1592 and Bess in December 1592, at which time she joined her husband at Sherborne Castle, his Dorset estate. The couple remained devoted to each other, although, according to Weir, Bess proved to be a domineering wife. Anna Beer, Lady Raleigh\\'s biographer, offers a different perspective, pointing out that due to Raleigh\\'s frequent absences, whether on expeditions, diplomatic duties, or in prison, Bess had to shoulder an unusual level of responsibility for a woman of her time. The Raleighs\\' second son, Walter, was born in 1593 at Sherborne.\\nAfter the Union of Crowns in 1603, many courtiers travelled to Northamptonshire to greet the new queen, Anne of Denmark, and her children, and to seek royal favour. Lord Buckhurst wrote on 21 June 1603 that he and the Lord Keeper Thomas Egerton were travelling \"to do our duties to the Queen, the Prince, and Princess, all the world flying beforehand to see her\". Bess made the same trip, but was disappointed. Sir Robert Crosse wrote that she had persuaded him to make an \"idle journey\" to meet the queen and she had received \"but idle graces\". \\nThe couple\\'s third son was born in January 1605, by which time Raleigh was again a prisoner in the Tower of London. Named Carew, which was both Bess\\'s mother\\'s maiden name and the name of one of Raleigh\\'s brothers, he was christened within the walls of the Tower in the church of St Peter ad Vincula. After Raleigh\\'s execution in 1618, Bess worked tirelessly to re-establish her late husband\\'s reputation and, in 1628, saw a Bill of Restitution restore the Raleigh name \\'in blood\\', which allowed her one surviving son to inherit.\\nBess is said to have had her husband\\'s head embalmed and to have carried it around with her for the rest of her life, although the only documented reference to Raleigh\\'s head is from the day of his execution, when it was noted that Lady Raleigh and her ladies left the scene carrying Sir Walter\\'s head in a red bag. An account from 1740 claims that, after Bess\\'s death, Raleigh\\'s head was returned to his tomb in St Margaret\\'s, Westminster.  \\nThrough both her parents, Bess had connections to Henry VIII. Her father, Nicholas Throckmorton, was the cousin of Henry\\'s sixth wife, Queen Catherine Parr. Anne Carew, Elizabeth\\'s mother, was the daughter of Nicholas Carew and Elizabeth Carew née Bryan. Nicholas had been a close friend of Henry, from childhood until his execution in 1539.\\n\\n\\n== Fictional depictions ==\\nBessie Throckmorton is a major character in Edward German\\'s operetta Merrie England (1902).\\nNorah Lofts in her 1936 fictionalized biography of Walter Raleigh, Here Was a Man, depicted ', metadata={'title': 'Elizabeth Raleigh', 'summary': 'Elizabeth, Lady Raleigh (née Throckmorton; 16 April 1565 – c. 1647), was an English courtier, a Gentlewoman of the Privy Chamber to Queen Elizabeth I of England. Her secret marriage to Sir Walter Raleigh precipitated a long period of royal disfavour for both her and her husband.\\n\\n', 'source': 'https://en.wikipedia.org/wiki/Elizabeth_Raleigh'}),\n",
              " Document(page_content=\"This is a list of the principal government ministers during the reign of Elizabeth I of England, 1558 to 1603. From the outset of her reign, her chief minister was Sir William Cecil, later Lord Burghley. He died in 1598 and was succeeded by his son Sir Robert Cecil.\\n\\nOther important ministers were Sir Francis Knollys and James Windebank.\\n\\n\\n== Sources ==\\n\\nHaydn's Book of Dignities, 1894\", metadata={'title': 'List of ministers to Elizabeth I', 'summary': 'This is a list of the principal government ministers during the reign of Elizabeth I of England, 1558 to 1603. From the outset of her reign, her chief minister was Sir William Cecil, later Lord Burghley. He died in 1598 and was succeeded by his son Sir Robert Cecil.\\n\\nOther important ministers were Sir Francis Knollys and James Windebank.', 'source': 'https://en.wikipedia.org/wiki/List_of_ministers_to_Elizabeth_I'}),\n",
              " Document(page_content='The Elizabethan era is the epoch in the Tudor period of the history of England during the reign of Queen Elizabeth I (1558–1603). Historians often depict it as the golden age in English history. The Roman symbol of Britannia (a female personification of Great Britain) was revived in 1572, and often thereafter, to mark the Elizabethan age as a renaissance that inspired national pride through classical ideals, international expansion, and naval triumph over Spain.\\nThis \"golden age\" represented the apogee of the English Renaissance and saw the flowering of poetry, music and literature. The era is most famous for its theatre, as William Shakespeare and many others composed plays that broke free of England\\'s past style of theatre. It was an age of exploration and expansion abroad, while back at home, the Protestant Reformation became more acceptable to the people, most certainly after the Spanish Armada was repelled. It was also the end of the period when England was a separate realm before its royal union with Scotland.\\nThe Elizabethan age contrasts sharply with the previous and following reigns. It was a brief period of internal peace between the Wars of the Roses in the previous century, the English Reformation, and the religious battles between Protestants and Catholics prior to Elizabeth\\'s reign, and then the later conflict of the English Civil War and the ongoing political battles between parliament and the monarchy that engulfed the remainder of the seventeenth century. The Protestant/Catholic divide was settled, for a time, by the Elizabethan Religious Settlement, and parliament was not yet strong enough to challenge royal absolutism.\\nEngland was also well-off compared to the other nations of Europe. The Italian Renaissance had come to an end following the end of the Italian Wars, which left the Italian Peninsula impoverished. The Kingdom of France was embroiled in the French Wars of Religion (1562–1598). They were (temporarily) settled in 1598 by a policy of tolerating Protestantism with the Edict of Nantes. In part because of this, but also because the English had been expelled from their last outposts on the continent by Spain\\'s tercios, the centuries-long Anglo-French Wars were largely suspended for most of Elizabeth\\'s reign.\\nThe one great rival was Habsburg Spain, with whom England clashed both in Europe and the Americas in skirmishes that exploded into the Anglo-Spanish War of 1585–1604. An attempt by Philip II of Spain to invade England with the Spanish Armada in 1588 was famously defeated. In turn England launched an equally unsuccessful expedition to Spain with the Drake–Norris Expedition of 1589. Three further Spanish Armadas also failed in 1596, 1597 and 1602. The war ended with the Treaty of London the year following Elizabeth\\'s death.\\nEngland during this period had a centralised, well-organised, and effective government, largely a result of the reforms of Henry VII and Henry VIII, as well as Elizabeth\\'s harsh punishments for any dissenters. Economically, the country began to benefit greatly from the new era of trans-Atlantic trade and persistent theft of Spanish and Portuguese treasures, most notably as a result of Francis Drake\\'s circumnavigation.\\nThe term Elizabethan era was already well-established in English and British historical consciousness, long before the accession of Queen Elizabeth II, and generally refers solely to the time of the earlier Queen of this name.\\n\\n\\n== Romance and reality ==\\n\\nThe Victorian era and the early 20th century idealised the Elizabethan era. The Encyclopædia Britannica maintains that \"[T]he long reign of Elizabeth I, 1558–1603, was England\\'s Golden Age... \\'Merry England\\', in love with life, expressed itself in music and literature, in architecture and in adventurous seafaring\". This idealising tendency was shared by Britain and an Anglophilic America. In popular culture, the image of those adventurous Elizabethan seafarers was embodied in the films of Errol Flynn.\\nIn response an', metadata={'title': 'Elizabethan era', 'summary': 'The Elizabethan era is the epoch in the Tudor period of the history of England during the reign of Queen Elizabeth I (1558–1603). Historians often depict it as the golden age in English history. The Roman symbol of Britannia (a female personification of Great Britain) was revived in 1572, and often thereafter, to mark the Elizabethan age as a renaissance that inspired national pride through classical ideals, international expansion, and naval triumph over Spain.\\nThis \"golden age\" represented the apogee of the English Renaissance and saw the flowering of poetry, music and literature. The era is most famous for its theatre, as William Shakespeare and many others composed plays that broke free of England\\'s past style of theatre. It was an age of exploration and expansion abroad, while back at home, the Protestant Reformation became more acceptable to the people, most certainly after the Spanish Armada was repelled. It was also the end of the period when England was a separate realm before its royal union with Scotland.\\nThe Elizabethan age contrasts sharply with the previous and following reigns. It was a brief period of internal peace between the Wars of the Roses in the previous century, the English Reformation, and the religious battles between Protestants and Catholics prior to Elizabeth\\'s reign, and then the later conflict of the English Civil War and the ongoing political battles between parliament and the monarchy that engulfed the remainder of the seventeenth century. The Protestant/Catholic divide was settled, for a time, by the Elizabethan Religious Settlement, and parliament was not yet strong enough to challenge royal absolutism.\\nEngland was also well-off compared to the other nations of Europe. The Italian Renaissance had come to an end following the end of the Italian Wars, which left the Italian Peninsula impoverished. The Kingdom of France was embroiled in the French Wars of Religion (1562–1598). They were (temporarily) settled in 1598 by a policy of tolerating Protestantism with the Edict of Nantes. In part because of this, but also because the English had been expelled from their last outposts on the continent by Spain\\'s tercios, the centuries-long Anglo-French Wars were largely suspended for most of Elizabeth\\'s reign.\\nThe one great rival was Habsburg Spain, with whom England clashed both in Europe and the Americas in skirmishes that exploded into the Anglo-Spanish War of 1585–1604. An attempt by Philip II of Spain to invade England with the Spanish Armada in 1588 was famously defeated. In turn England launched an equally unsuccessful expedition to Spain with the Drake–Norris Expedition of 1589. Three further Spanish Armadas also failed in 1596, 1597 and 1602. The war ended with the Treaty of London the year following Elizabeth\\'s death.\\nEngland during this period had a centralised, well-organised, and effective government, largely a result of the reforms of Henry VII and Henry VIII, as well as Elizabeth\\'s harsh punishments for any dissenters. Economically, the country began to benefit greatly from the new era of trans-Atlantic trade and persistent theft of Spanish and Portuguese treasures, most notably as a result of Francis Drake\\'s circumnavigation.\\nThe term Elizabethan era was already well-established in English and British historical consciousness, long before the accession of Queen Elizabeth II, and generally refers solely to the time of the earlier Queen of this name.', 'source': 'https://en.wikipedia.org/wiki/Elizabethan_era'}),\n",
              " Document(page_content='HMS Queen Elizabeth could refer to one of three ships named in honour of Elizabeth I of England:\\n\\nHMS Queen Elizabeth (1913) was the lead ship of the Queen Elizabeth-class battleships, launched in 1913 and scrapped in 1948\\nHMS Queen Elizabeth was to have been the first of the 1960s planned CVA-01-class aircraft carriers, but the class was never constructed\\nHMS Queen Elizabeth (R08) is the first ship of the Queen Elizabeth-class aircraft carriers, launched in 2014, on sea trials as of June 2017 and commissioned in December 2017\\n\\n\\n== Battle honours ==\\nDardanelles 1915\\nCrete 1941\\nSabang 1944\\nBurma 1944–45\\nEast Indies 1945\\n\\n\\n== See also ==\\nHMS Elizabeth\\n\\n\\n== References ==\\nColledge, J. J.; Warlow, Ben (2006) [1969]. Ships of the Royal Navy: The Complete Record of all Fighting Ships of the Royal Navy (Rev. ed.). London: Chatham Publishing. ISBN 978-1-86176-281-8.', metadata={'title': 'HMS Queen Elizabeth', 'summary': 'HMS Queen Elizabeth could refer to one of three ships named in honour of Elizabeth I of England:\\n\\nHMS Queen Elizabeth (1913) was the lead ship of the Queen Elizabeth-class battleships, launched in 1913 and scrapped in 1948\\nHMS Queen Elizabeth was to have been the first of the 1960s planned CVA-01-class aircraft carriers, but the class was never constructed\\nHMS Queen Elizabeth (R08) is the first ship of the Queen Elizabeth-class aircraft carriers, launched in 2014, on sea trials as of June 2017 and commissioned in December 2017\\n\\n', 'source': 'https://en.wikipedia.org/wiki/HMS_Queen_Elizabeth'})]"
            ]
          },
          "metadata": {},
          "execution_count": 15
        }
      ]
    },
    {
      "cell_type": "code",
      "source": [
        "len(raw_documents)"
      ],
      "metadata": {
        "colab": {
          "base_uri": "https://localhost:8080/"
        },
        "id": "oaA4LKbAgppZ",
        "outputId": "c3d26533-cc70-448f-a8fc-430171478c3c"
      },
      "execution_count": null,
      "outputs": [
        {
          "output_type": "execute_result",
          "data": {
            "text/plain": [
              "23"
            ]
          },
          "metadata": {},
          "execution_count": 16
        }
      ]
    },
    {
      "cell_type": "code",
      "source": [
        "raw_documents[:3]"
      ],
      "metadata": {
        "colab": {
          "base_uri": "https://localhost:8080/"
        },
        "id": "hrM0Uvr9gpmy",
        "outputId": "dbc2c0ae-a883-4a8f-f004-63790b2aee7c"
      },
      "execution_count": null,
      "outputs": [
        {
          "output_type": "execute_result",
          "data": {
            "text/plain": [
              "[Document(page_content='Elizabeth I (7 September 1533 – 24 March 1603) was Queen of England and Ireland from 17 November 1558 until her death in 1603. She was the last monarch of the House of Tudor.\\nElizabeth was the only surviving child of Henry VIII and Anne Boleyn, his second wife, who was executed when Elizabeth was two years old. Anne\\'s marriage to Henry was annulled, and Elizabeth was declared illegitimate. Henry restored her to the line of succession when she was 10, via the Third Succession Act 1543. After Henry\\'s death in 1547, Elizabeth\\'s younger half-brother Edward VI ruled until his own death in 1553, bequeathing the crown to a Protestant cousin, Lady Jane Grey, and ignoring the claims of his two half-sisters, the Catholic Mary and the younger Elizabeth, in spite of statutes to the contrary. Edward\\'s will was set aside within weeks of his death and Mary became queen, deposing and executing Jane. During Mary\\'s reign, Elizabeth was imprisoned for nearly a year on suspicion of supporting Protestant rebels.\\nUpon her half-sister\\'s death in 1558, Elizabeth succeeded to the throne and set out to rule by good counsel. She depended heavily on a group of trusted advisers led by William Cecil, whom she created Baron Burghley. One of her first actions as queen was the establishment of an English Protestant church, of which she became the supreme governor. This era, later named the Elizabethan Religious Settlement, would evolve into the Church of England. It was expected that Elizabeth would marry and produce an heir; however, despite numerous courtships, she never did, and because of this she is sometimes referred to as the \"Virgin Queen\". She was eventually succeeded by her first cousin twice removed, James VI of Scotland, the son of Mary, Queen of Scots.\\nIn government, Elizabeth was more moderate than her father and siblings had been. One of her mottoes was video et taceo (\"I see and keep silent\"). In religion, she was relatively tolerant and avoided systematic persecution. After the pope declared her illegitimate in 1570, which in theory released English Catholics from allegiance to her, several conspiracies threatened her life, all of which were defeated with the help of her ministers\\' secret service, run by Sir Francis Walsingham. Elizabeth was cautious in foreign affairs, manoeuvring between the major powers of France and Spain. She half-heartedly supported a number of ineffective, poorly resourced military campaigns in the Netherlands, France, and Ireland. By the mid-1580s, England could no longer avoid war with Spain.\\nAs she grew older, Elizabeth became celebrated for her virginity. A cult of personality grew around her which was celebrated in the portraits, pageants, and literature of the day. Elizabeth\\'s reign became known as the Elizabethan era. The period is famous for the flourishing of English drama, led by playwrights such as William Shakespeare and Christopher Marlowe, the prowess of English maritime adventurers, such as Francis Drake and Walter Raleigh, and for the defeat of the Spanish Armada. Some historians depict Elizabeth as a short-tempered, sometimes indecisive ruler, who enjoyed more than her fair share of luck. Towards the end of her reign, a series of economic and military problems weakened her popularity. Elizabeth is acknowledged as a charismatic performer (\"Gloriana\") and a dogged survivor (\"Good Queen Bess\") in an era when government was ramshackle and limited, and when monarchs in neighbouring countries faced internal problems that jeopardised their thrones. After the short, disastrous reigns of her half-siblings, her 44 years on the throne provided welcome stability for the kingdom and helped to forge a sense of national identity.\\n\\n\\n== Early life ==\\n\\nElizabeth was born at Greenwich Palace on 7 September 1533 and was named after her grandmothers, Elizabeth of York and Lady Elizabeth Howard. She was the second child of Henry VIII of England born in wedlock to survive infancy. Her mother was Henry\\'s second wife, Anne Bol', metadata={'title': 'Elizabeth I', 'summary': 'Elizabeth I (7 September 1533 – 24 March 1603) was Queen of England and Ireland from 17 November 1558 until her death in 1603. She was the last monarch of the House of Tudor.\\nElizabeth was the only surviving child of Henry VIII and Anne Boleyn, his second wife, who was executed when Elizabeth was two years old. Anne\\'s marriage to Henry was annulled, and Elizabeth was declared illegitimate. Henry restored her to the line of succession when she was 10, via the Third Succession Act 1543. After Henry\\'s death in 1547, Elizabeth\\'s younger half-brother Edward VI ruled until his own death in 1553, bequeathing the crown to a Protestant cousin, Lady Jane Grey, and ignoring the claims of his two half-sisters, the Catholic Mary and the younger Elizabeth, in spite of statutes to the contrary. Edward\\'s will was set aside within weeks of his death and Mary became queen, deposing and executing Jane. During Mary\\'s reign, Elizabeth was imprisoned for nearly a year on suspicion of supporting Protestant rebels.\\nUpon her half-sister\\'s death in 1558, Elizabeth succeeded to the throne and set out to rule by good counsel. She depended heavily on a group of trusted advisers led by William Cecil, whom she created Baron Burghley. One of her first actions as queen was the establishment of an English Protestant church, of which she became the supreme governor. This era, later named the Elizabethan Religious Settlement, would evolve into the Church of England. It was expected that Elizabeth would marry and produce an heir; however, despite numerous courtships, she never did, and because of this she is sometimes referred to as the \"Virgin Queen\". She was eventually succeeded by her first cousin twice removed, James VI of Scotland, the son of Mary, Queen of Scots.\\nIn government, Elizabeth was more moderate than her father and siblings had been. One of her mottoes was video et taceo (\"I see and keep silent\"). In religion, she was relatively tolerant and avoided systematic persecution. After the pope declared her illegitimate in 1570, which in theory released English Catholics from allegiance to her, several conspiracies threatened her life, all of which were defeated with the help of her ministers\\' secret service, run by Sir Francis Walsingham. Elizabeth was cautious in foreign affairs, manoeuvring between the major powers of France and Spain. She half-heartedly supported a number of ineffective, poorly resourced military campaigns in the Netherlands, France, and Ireland. By the mid-1580s, England could no longer avoid war with Spain.\\nAs she grew older, Elizabeth became celebrated for her virginity. A cult of personality grew around her which was celebrated in the portraits, pageants, and literature of the day. Elizabeth\\'s reign became known as the Elizabethan era. The period is famous for the flourishing of English drama, led by playwrights such as William Shakespeare and Christopher Marlowe, the prowess of English maritime adventurers, such as Francis Drake and Walter Raleigh, and for the defeat of the Spanish Armada. Some historians depict Elizabeth as a short-tempered, sometimes indecisive ruler, who enjoyed more than her fair share of luck. Towards the end of her reign, a series of economic and military problems weakened her popularity. Elizabeth is acknowledged as a charismatic performer (\"Gloriana\") and a dogged survivor (\"Good Queen Bess\") in an era when government was ramshackle and limited, and when monarchs in neighbouring countries faced internal problems that jeopardised their thrones. After the short, disastrous reigns of her half-siblings, her 44 years on the throne provided welcome stability for the kingdom and helped to forge a sense of national identity.\\n\\n', 'source': 'https://en.wikipedia.org/wiki/Elizabeth_I'}),\n",
              " Document(page_content='Elizabeth or Elizaveta Petrovna (Russian: Елизаве́та Петро́вна; 29 December [O.S. 18 December] 1709 – 5 January [O.S. 25 December] 1762) was Empress of Russia from 1741 until her death in 1762. She remains one of the most popular Russian monarchs because of her decision not to execute a single person during her reign, her numerous construction projects, and her strong opposition to Prussian policies.\\nThe second-eldest daughter of Tsar Peter the Great (r.\\u20091682–1725), Elizabeth lived through the confused successions of her father\\'s descendants following her half-brother Alexei\\'s death in 1718. The throne first passed to her mother Catherine I of Russia (r.\\u20091725–1727), then to her nephew Peter II, who died in 1730 and was succeeded by Elizabeth\\'s first cousin Anna (r.\\u20091730–1740). After the brief rule of Anna\\'s infant great-nephew, Ivan VI, Elizabeth seized the throne with the military\\'s support and declared her own nephew, the future Peter III, her heir.\\nDuring her reign Elizabeth continued the policies of her father and brought about a remarkable Age of Enlightenment in Russia. Her domestic policies allowed the nobles to gain dominance in local government while shortening their terms of service to the state. She encouraged Mikhail Lomonosov\\'s foundation of the University of Moscow, the highest-ranking Russian educational institution. Her court became one of the most splendid in all Europe, especially regarding architecture: she modernised Russia\\'s roads, encouraged Ivan Shuvalov\\'s foundation of the Imperial Academy of Arts, and financed grandiose Baroque projects of her favourite architect, Bartolomeo Rastrelli, particularly in Peterhof Palace. The Winter Palace and the Smolny Cathedral in Saint Petersburg are among the chief monuments of her reign.\\nElizabeth led the Russian Empire during the two major European conflicts of her time: the War of Austrian Succession (1740–1748) and the Seven Years\\' War (1756–1763). She and diplomat Aleksey Bestuzhev-Ryumin solved the first event by forming an alliance with Austria and France, but indirectly caused the second. Russian troops enjoyed several victories against Prussia and briefly occupied Berlin, but when Frederick the Great was finally considering surrender in January 1762, the Russian Empress died. She was the last agnatic member of the House of Romanov to reign over the Russian Empire.\\n\\n\\n== Early life ==\\n\\n\\n=== Childhood and teenage years ===\\n\\nElizabeth was born at Kolomenskoye, near Moscow, Russia, on 18 December 1709 (O.S.). Her parents were Peter the Great, Tsar of Russia and Catherine. Catherine was the daughter of Samuel Skowroński, a subject of Grand Duchy of Lithuania. Although no documentary record exists, her parents were said to have married secretly at the Cathedral of the Holy Trinity in Saint Petersburg at some point between 23 October and 1 December 1707. Their official marriage was at Saint Isaac\\'s Cathedral in Saint Petersburg on 9 February 1712. On this day, the two children previously born to the couple (Anna and Elizabeth) were legitimised by their father and given the title of Tsarevna (\"princess\") on 6 March 1711. Of the twelve children born to Peter and Catherine (five sons and seven daughters), only the sisters survived to adulthood. They had one older surviving sibling, crown prince Alexei Petrovich, who was Peter\\'s son by his first wife, noblewoman Eudoxia Lopukhina.\\nAs a child, Elizabeth was the favourite of her father, whom she resembled both physically and temperamentally. Even though he adored his daughter, Peter did not devote time or attention to her education; having both a son and grandson from his first marriage to a noblewoman, he did not anticipate that a daughter born to his former maid might one day inherit the Russian throne, which had until that point never been occupied by a woman; as such, it was left to Catherine to raise the girls, a task met with considerable difficulty due to her own lack of education. Despite this, Elizabeth was still ', metadata={'title': 'Elizabeth of Russia', 'summary': \"Elizabeth or Elizaveta Petrovna (Russian: Елизаве́та Петро́вна; 29 December [O.S. 18 December] 1709 – 5 January [O.S. 25 December] 1762) was Empress of Russia from 1741 until her death in 1762. She remains one of the most popular Russian monarchs because of her decision not to execute a single person during her reign, her numerous construction projects, and her strong opposition to Prussian policies.\\nThe second-eldest daughter of Tsar Peter the Great (r.\\u20091682–1725), Elizabeth lived through the confused successions of her father's descendants following her half-brother Alexei's death in 1718. The throne first passed to her mother Catherine I of Russia (r.\\u20091725–1727), then to her nephew Peter II, who died in 1730 and was succeeded by Elizabeth's first cousin Anna (r.\\u20091730–1740). After the brief rule of Anna's infant great-nephew, Ivan VI, Elizabeth seized the throne with the military's support and declared her own nephew, the future Peter III, her heir.\\nDuring her reign Elizabeth continued the policies of her father and brought about a remarkable Age of Enlightenment in Russia. Her domestic policies allowed the nobles to gain dominance in local government while shortening their terms of service to the state. She encouraged Mikhail Lomonosov's foundation of the University of Moscow, the highest-ranking Russian educational institution. Her court became one of the most splendid in all Europe, especially regarding architecture: she modernised Russia's roads, encouraged Ivan Shuvalov's foundation of the Imperial Academy of Arts, and financed grandiose Baroque projects of her favourite architect, Bartolomeo Rastrelli, particularly in Peterhof Palace. The Winter Palace and the Smolny Cathedral in Saint Petersburg are among the chief monuments of her reign.\\nElizabeth led the Russian Empire during the two major European conflicts of her time: the War of Austrian Succession (1740–1748) and the Seven Years' War (1756–1763). She and diplomat Aleksey Bestuzhev-Ryumin solved the first event by forming an alliance with Austria and France, but indirectly caused the second. Russian troops enjoyed several victories against Prussia and briefly occupied Berlin, but when Frederick the Great was finally considering surrender in January 1762, the Russian Empress died. She was the last agnatic member of the House of Romanov to reign over the Russian Empire.\", 'source': 'https://en.wikipedia.org/wiki/Elizabeth_of_Russia'}),\n",
              " Document(page_content='The succession to the childless Elizabeth I was an open question from her accession in 1558 to her death in 1603, when the crown passed to James VI of Scotland. While the accession of James went smoothly, the succession had been the subject of much debate for decades. In some scholarly views, it was a major political factor of the entire reign, even if not so voiced. Separate aspects have acquired their own nomenclature: the \"Norfolk conspiracy\", Patrick Collinson\\'s \"Elizabethan exclusion crisis\", and the \"Secret Correspondence\".\\nThe topics of debate remained obscured by uncertainty.\\nElizabeth I avoided establishing the order of succession in any form, presumably because she feared for her own life once a successor was named.  She was also concerned with England forming a productive relationship with Scotland, whose Catholic and Presbyterian strongholds were resistant to female leadership. Catholic women who would be submissive to the Pope and not to English constitutional law were rejected.\\nHenry VIII\\'s will had named one male and seven females living at his death in 1547 as the line of succession: (1) his son Edward VI, (2) Mary I, (3) Elizabeth I, (4) Jane Grey, (5) Katherine Grey, (6) Mary Grey, and (7) Margaret Clifford. Elizabeth had outlived all of them.\\nA number of authorities considered that the legal position hinged on documents such as the statute De natis ultra mare of Edward III, and the will of Henry VIII. There were different opinions about the application of these documents. Political, religious and military matters came to predominate later in Elizabeth\\'s reign, in the context of the Anglo-Spanish War.\\n\\n\\n== Cognatic descent from Henry VII ==\\nDescent from the two daughters of Henry VII who reached adulthood, Margaret and Mary, was the first and main issue in the succession. \\n\\n\\n=== Lennox claim ===\\nMary I of England had died without managing to have her preferred successor and first cousin, Margaret Douglas, Countess of Lennox, nominated by parliament. Margaret Douglas was a daughter of Margaret Tudor, and lived to 1578, but became a marginal figure in discussions of the succession to Elizabeth I, who at no point clarified the dynastic issues of the Tudor line. When in 1565 Margaret Douglas\\'s elder son Henry Stuart, Lord Darnley, married Mary, Queen of Scots, the \"Lennox claim\" was generally regarded as consolidated into the \"Stuart claim\".\\n\\n\\n=== Stuart claimants ===\\nJames VI was the son of two grandchildren of Margaret Tudor. Arbella Stuart, the most serious other contender by the late 16th century, was the daughter of Margaret Douglas, Countess of Lennox\\'s younger son Charles Stuart, 1st Earl of Lennox.\\nJames VI\\'s mother, Mary, Queen of Scots, was considered a plausible successor to the English throne. At the beginning of Elizabeth\\'s reign she sent ambassadors to England when a parliament was summoned, anticipating a role for parliament in settling the succession in her favour. Mary was a Roman Catholic, and her proximity to the succession was a factor in plotting, making her position a political problem for the English government, eventually resolved by judicial means. She was executed in 1587. In that year Mary\\'s son James reached the age of twenty-one, while Arbella was only twelve.\\n\\n\\n=== Suffolk claimants ===\\nWhile the Stuart line of James and Arbella would have had political support, by 1600 the descendants of Mary Tudor were theoretically relevant, and on legal grounds could not be discounted. Frances Grey, Duchess of Suffolk, and Eleanor Clifford, Countess of Cumberland, both had children who were in the line of succession. Frances and Eleanor were Mary Tudor\\'s daughters by her second husband, Charles Brandon, 1st Duke of Suffolk. Frances married Henry Grey, 1st Duke of Suffolk, and they had three daughters, Lady Jane Grey (1537–1554), Lady Catherine Grey (1540–1568), and Lady Mary Grey (1545–1578). Of these, the two youngest lived into Queen Elizabeth\\'s reign.\\nCatherine\\'s first marriage to the youthful', metadata={'title': 'Succession to Elizabeth I', 'summary': 'The succession to the childless Elizabeth I was an open question from her accession in 1558 to her death in 1603, when the crown passed to James VI of Scotland. While the accession of James went smoothly, the succession had been the subject of much debate for decades. In some scholarly views, it was a major political factor of the entire reign, even if not so voiced. Separate aspects have acquired their own nomenclature: the \"Norfolk conspiracy\", Patrick Collinson\\'s \"Elizabethan exclusion crisis\", and the \"Secret Correspondence\".\\nThe topics of debate remained obscured by uncertainty.\\nElizabeth I avoided establishing the order of succession in any form, presumably because she feared for her own life once a successor was named.  She was also concerned with England forming a productive relationship with Scotland, whose Catholic and Presbyterian strongholds were resistant to female leadership. Catholic women who would be submissive to the Pope and not to English constitutional law were rejected.\\nHenry VIII\\'s will had named one male and seven females living at his death in 1547 as the line of succession: (1) his son Edward VI, (2) Mary I, (3) Elizabeth I, (4) Jane Grey, (5) Katherine Grey, (6) Mary Grey, and (7) Margaret Clifford. Elizabeth had outlived all of them.\\nA number of authorities considered that the legal position hinged on documents such as the statute De natis ultra mare of Edward III, and the will of Henry VIII. There were different opinions about the application of these documents. Political, religious and military matters came to predominate later in Elizabeth\\'s reign, in the context of the Anglo-Spanish War.\\n\\n', 'source': 'https://en.wikipedia.org/wiki/Succession_to_Elizabeth_I'})]"
            ]
          },
          "metadata": {},
          "execution_count": 17
        }
      ]
    },
    {
      "cell_type": "code",
      "source": [
        "raw_documents[:3]"
      ],
      "metadata": {
        "colab": {
          "base_uri": "https://localhost:8080/"
        },
        "id": "qVtFE-A3iNzE",
        "outputId": "5760bbad-b5bf-4a3b-e56c-5940a5ece372"
      },
      "execution_count": null,
      "outputs": [
        {
          "output_type": "execute_result",
          "data": {
            "text/plain": [
              "[Document(page_content='Elizabeth I (7 September 1533 – 24 March 1603) was Queen of England and Ireland from 17 November 1558 until her death in 1603. She was the last monarch of the House of Tudor.\\nElizabeth was the only surviving child of Henry VIII and Anne Boleyn, his second wife, who was executed when Elizabeth was two years old. Anne\\'s marriage to Henry was annulled, and Elizabeth was declared illegitimate. Henry restored her to the line of succession when she was 10, via the Third Succession Act 1543. After Henry\\'s death in 1547, Elizabeth\\'s younger half-brother Edward VI ruled until his own death in 1553, bequeathing the crown to a Protestant cousin, Lady Jane Grey, and ignoring the claims of his two half-sisters, the Catholic Mary and the younger Elizabeth, in spite of statutes to the contrary. Edward\\'s will was set aside within weeks of his death and Mary became queen, deposing and executing Jane. During Mary\\'s reign, Elizabeth was imprisoned for nearly a year on suspicion of supporting Protestant rebels.\\nUpon her half-sister\\'s death in 1558, Elizabeth succeeded to the throne and set out to rule by good counsel. She depended heavily on a group of trusted advisers led by William Cecil, whom she created Baron Burghley. One of her first actions as queen was the establishment of an English Protestant church, of which she became the supreme governor. This era, later named the Elizabethan Religious Settlement, would evolve into the Church of England. It was expected that Elizabeth would marry and produce an heir; however, despite numerous courtships, she never did, and because of this she is sometimes referred to as the \"Virgin Queen\". She was eventually succeeded by her first cousin twice removed, James VI of Scotland, the son of Mary, Queen of Scots.\\nIn government, Elizabeth was more moderate than her father and siblings had been. One of her mottoes was video et taceo (\"I see and keep silent\"). In religion, she was relatively tolerant and avoided systematic persecution. After the pope declared her illegitimate in 1570, which in theory released English Catholics from allegiance to her, several conspiracies threatened her life, all of which were defeated with the help of her ministers\\' secret service, run by Sir Francis Walsingham. Elizabeth was cautious in foreign affairs, manoeuvring between the major powers of France and Spain. She half-heartedly supported a number of ineffective, poorly resourced military campaigns in the Netherlands, France, and Ireland. By the mid-1580s, England could no longer avoid war with Spain.\\nAs she grew older, Elizabeth became celebrated for her virginity. A cult of personality grew around her which was celebrated in the portraits, pageants, and literature of the day. Elizabeth\\'s reign became known as the Elizabethan era. The period is famous for the flourishing of English drama, led by playwrights such as William Shakespeare and Christopher Marlowe, the prowess of English maritime adventurers, such as Francis Drake and Walter Raleigh, and for the defeat of the Spanish Armada. Some historians depict Elizabeth as a short-tempered, sometimes indecisive ruler, who enjoyed more than her fair share of luck. Towards the end of her reign, a series of economic and military problems weakened her popularity. Elizabeth is acknowledged as a charismatic performer (\"Gloriana\") and a dogged survivor (\"Good Queen Bess\") in an era when government was ramshackle and limited, and when monarchs in neighbouring countries faced internal problems that jeopardised their thrones. After the short, disastrous reigns of her half-siblings, her 44 years on the throne provided welcome stability for the kingdom and helped to forge a sense of national identity.\\n\\n\\n== Early life ==\\n\\nElizabeth was born at Greenwich Palace on 7 September 1533 and was named after her grandmothers, Elizabeth of York and Lady Elizabeth Howard. She was the second child of Henry VIII of England born in wedlock to survive infancy. Her mother was Henry\\'s second wife, Anne Bol', metadata={'title': 'Elizabeth I', 'summary': 'Elizabeth I (7 September 1533 – 24 March 1603) was Queen of England and Ireland from 17 November 1558 until her death in 1603. She was the last monarch of the House of Tudor.\\nElizabeth was the only surviving child of Henry VIII and Anne Boleyn, his second wife, who was executed when Elizabeth was two years old. Anne\\'s marriage to Henry was annulled, and Elizabeth was declared illegitimate. Henry restored her to the line of succession when she was 10, via the Third Succession Act 1543. After Henry\\'s death in 1547, Elizabeth\\'s younger half-brother Edward VI ruled until his own death in 1553, bequeathing the crown to a Protestant cousin, Lady Jane Grey, and ignoring the claims of his two half-sisters, the Catholic Mary and the younger Elizabeth, in spite of statutes to the contrary. Edward\\'s will was set aside within weeks of his death and Mary became queen, deposing and executing Jane. During Mary\\'s reign, Elizabeth was imprisoned for nearly a year on suspicion of supporting Protestant rebels.\\nUpon her half-sister\\'s death in 1558, Elizabeth succeeded to the throne and set out to rule by good counsel. She depended heavily on a group of trusted advisers led by William Cecil, whom she created Baron Burghley. One of her first actions as queen was the establishment of an English Protestant church, of which she became the supreme governor. This era, later named the Elizabethan Religious Settlement, would evolve into the Church of England. It was expected that Elizabeth would marry and produce an heir; however, despite numerous courtships, she never did, and because of this she is sometimes referred to as the \"Virgin Queen\". She was eventually succeeded by her first cousin twice removed, James VI of Scotland, the son of Mary, Queen of Scots.\\nIn government, Elizabeth was more moderate than her father and siblings had been. One of her mottoes was video et taceo (\"I see and keep silent\"). In religion, she was relatively tolerant and avoided systematic persecution. After the pope declared her illegitimate in 1570, which in theory released English Catholics from allegiance to her, several conspiracies threatened her life, all of which were defeated with the help of her ministers\\' secret service, run by Sir Francis Walsingham. Elizabeth was cautious in foreign affairs, manoeuvring between the major powers of France and Spain. She half-heartedly supported a number of ineffective, poorly resourced military campaigns in the Netherlands, France, and Ireland. By the mid-1580s, England could no longer avoid war with Spain.\\nAs she grew older, Elizabeth became celebrated for her virginity. A cult of personality grew around her which was celebrated in the portraits, pageants, and literature of the day. Elizabeth\\'s reign became known as the Elizabethan era. The period is famous for the flourishing of English drama, led by playwrights such as William Shakespeare and Christopher Marlowe, the prowess of English maritime adventurers, such as Francis Drake and Walter Raleigh, and for the defeat of the Spanish Armada. Some historians depict Elizabeth as a short-tempered, sometimes indecisive ruler, who enjoyed more than her fair share of luck. Towards the end of her reign, a series of economic and military problems weakened her popularity. Elizabeth is acknowledged as a charismatic performer (\"Gloriana\") and a dogged survivor (\"Good Queen Bess\") in an era when government was ramshackle and limited, and when monarchs in neighbouring countries faced internal problems that jeopardised their thrones. After the short, disastrous reigns of her half-siblings, her 44 years on the throne provided welcome stability for the kingdom and helped to forge a sense of national identity.\\n\\n', 'source': 'https://en.wikipedia.org/wiki/Elizabeth_I'}),\n",
              " Document(page_content='Elizabeth or Elizaveta Petrovna (Russian: Елизаве́та Петро́вна; 29 December [O.S. 18 December] 1709 – 5 January [O.S. 25 December] 1762) was Empress of Russia from 1741 until her death in 1762. She remains one of the most popular Russian monarchs because of her decision not to execute a single person during her reign, her numerous construction projects, and her strong opposition to Prussian policies.\\nThe second-eldest daughter of Tsar Peter the Great (r.\\u20091682–1725), Elizabeth lived through the confused successions of her father\\'s descendants following her half-brother Alexei\\'s death in 1718. The throne first passed to her mother Catherine I of Russia (r.\\u20091725–1727), then to her nephew Peter II, who died in 1730 and was succeeded by Elizabeth\\'s first cousin Anna (r.\\u20091730–1740). After the brief rule of Anna\\'s infant great-nephew, Ivan VI, Elizabeth seized the throne with the military\\'s support and declared her own nephew, the future Peter III, her heir.\\nDuring her reign Elizabeth continued the policies of her father and brought about a remarkable Age of Enlightenment in Russia. Her domestic policies allowed the nobles to gain dominance in local government while shortening their terms of service to the state. She encouraged Mikhail Lomonosov\\'s foundation of the University of Moscow, the highest-ranking Russian educational institution. Her court became one of the most splendid in all Europe, especially regarding architecture: she modernised Russia\\'s roads, encouraged Ivan Shuvalov\\'s foundation of the Imperial Academy of Arts, and financed grandiose Baroque projects of her favourite architect, Bartolomeo Rastrelli, particularly in Peterhof Palace. The Winter Palace and the Smolny Cathedral in Saint Petersburg are among the chief monuments of her reign.\\nElizabeth led the Russian Empire during the two major European conflicts of her time: the War of Austrian Succession (1740–1748) and the Seven Years\\' War (1756–1763). She and diplomat Aleksey Bestuzhev-Ryumin solved the first event by forming an alliance with Austria and France, but indirectly caused the second. Russian troops enjoyed several victories against Prussia and briefly occupied Berlin, but when Frederick the Great was finally considering surrender in January 1762, the Russian Empress died. She was the last agnatic member of the House of Romanov to reign over the Russian Empire.\\n\\n\\n== Early life ==\\n\\n\\n=== Childhood and teenage years ===\\n\\nElizabeth was born at Kolomenskoye, near Moscow, Russia, on 18 December 1709 (O.S.). Her parents were Peter the Great, Tsar of Russia and Catherine. Catherine was the daughter of Samuel Skowroński, a subject of Grand Duchy of Lithuania. Although no documentary record exists, her parents were said to have married secretly at the Cathedral of the Holy Trinity in Saint Petersburg at some point between 23 October and 1 December 1707. Their official marriage was at Saint Isaac\\'s Cathedral in Saint Petersburg on 9 February 1712. On this day, the two children previously born to the couple (Anna and Elizabeth) were legitimised by their father and given the title of Tsarevna (\"princess\") on 6 March 1711. Of the twelve children born to Peter and Catherine (five sons and seven daughters), only the sisters survived to adulthood. They had one older surviving sibling, crown prince Alexei Petrovich, who was Peter\\'s son by his first wife, noblewoman Eudoxia Lopukhina.\\nAs a child, Elizabeth was the favourite of her father, whom she resembled both physically and temperamentally. Even though he adored his daughter, Peter did not devote time or attention to her education; having both a son and grandson from his first marriage to a noblewoman, he did not anticipate that a daughter born to his former maid might one day inherit the Russian throne, which had until that point never been occupied by a woman; as such, it was left to Catherine to raise the girls, a task met with considerable difficulty due to her own lack of education. Despite this, Elizabeth was still ', metadata={'title': 'Elizabeth of Russia', 'summary': \"Elizabeth or Elizaveta Petrovna (Russian: Елизаве́та Петро́вна; 29 December [O.S. 18 December] 1709 – 5 January [O.S. 25 December] 1762) was Empress of Russia from 1741 until her death in 1762. She remains one of the most popular Russian monarchs because of her decision not to execute a single person during her reign, her numerous construction projects, and her strong opposition to Prussian policies.\\nThe second-eldest daughter of Tsar Peter the Great (r.\\u20091682–1725), Elizabeth lived through the confused successions of her father's descendants following her half-brother Alexei's death in 1718. The throne first passed to her mother Catherine I of Russia (r.\\u20091725–1727), then to her nephew Peter II, who died in 1730 and was succeeded by Elizabeth's first cousin Anna (r.\\u20091730–1740). After the brief rule of Anna's infant great-nephew, Ivan VI, Elizabeth seized the throne with the military's support and declared her own nephew, the future Peter III, her heir.\\nDuring her reign Elizabeth continued the policies of her father and brought about a remarkable Age of Enlightenment in Russia. Her domestic policies allowed the nobles to gain dominance in local government while shortening their terms of service to the state. She encouraged Mikhail Lomonosov's foundation of the University of Moscow, the highest-ranking Russian educational institution. Her court became one of the most splendid in all Europe, especially regarding architecture: she modernised Russia's roads, encouraged Ivan Shuvalov's foundation of the Imperial Academy of Arts, and financed grandiose Baroque projects of her favourite architect, Bartolomeo Rastrelli, particularly in Peterhof Palace. The Winter Palace and the Smolny Cathedral in Saint Petersburg are among the chief monuments of her reign.\\nElizabeth led the Russian Empire during the two major European conflicts of her time: the War of Austrian Succession (1740–1748) and the Seven Years' War (1756–1763). She and diplomat Aleksey Bestuzhev-Ryumin solved the first event by forming an alliance with Austria and France, but indirectly caused the second. Russian troops enjoyed several victories against Prussia and briefly occupied Berlin, but when Frederick the Great was finally considering surrender in January 1762, the Russian Empress died. She was the last agnatic member of the House of Romanov to reign over the Russian Empire.\", 'source': 'https://en.wikipedia.org/wiki/Elizabeth_of_Russia'}),\n",
              " Document(page_content='The succession to the childless Elizabeth I was an open question from her accession in 1558 to her death in 1603, when the crown passed to James VI of Scotland. While the accession of James went smoothly, the succession had been the subject of much debate for decades. In some scholarly views, it was a major political factor of the entire reign, even if not so voiced. Separate aspects have acquired their own nomenclature: the \"Norfolk conspiracy\", Patrick Collinson\\'s \"Elizabethan exclusion crisis\", and the \"Secret Correspondence\".\\nThe topics of debate remained obscured by uncertainty.\\nElizabeth I avoided establishing the order of succession in any form, presumably because she feared for her own life once a successor was named.  She was also concerned with England forming a productive relationship with Scotland, whose Catholic and Presbyterian strongholds were resistant to female leadership. Catholic women who would be submissive to the Pope and not to English constitutional law were rejected.\\nHenry VIII\\'s will had named one male and seven females living at his death in 1547 as the line of succession: (1) his son Edward VI, (2) Mary I, (3) Elizabeth I, (4) Jane Grey, (5) Katherine Grey, (6) Mary Grey, and (7) Margaret Clifford. Elizabeth had outlived all of them.\\nA number of authorities considered that the legal position hinged on documents such as the statute De natis ultra mare of Edward III, and the will of Henry VIII. There were different opinions about the application of these documents. Political, religious and military matters came to predominate later in Elizabeth\\'s reign, in the context of the Anglo-Spanish War.\\n\\n\\n== Cognatic descent from Henry VII ==\\nDescent from the two daughters of Henry VII who reached adulthood, Margaret and Mary, was the first and main issue in the succession. \\n\\n\\n=== Lennox claim ===\\nMary I of England had died without managing to have her preferred successor and first cousin, Margaret Douglas, Countess of Lennox, nominated by parliament. Margaret Douglas was a daughter of Margaret Tudor, and lived to 1578, but became a marginal figure in discussions of the succession to Elizabeth I, who at no point clarified the dynastic issues of the Tudor line. When in 1565 Margaret Douglas\\'s elder son Henry Stuart, Lord Darnley, married Mary, Queen of Scots, the \"Lennox claim\" was generally regarded as consolidated into the \"Stuart claim\".\\n\\n\\n=== Stuart claimants ===\\nJames VI was the son of two grandchildren of Margaret Tudor. Arbella Stuart, the most serious other contender by the late 16th century, was the daughter of Margaret Douglas, Countess of Lennox\\'s younger son Charles Stuart, 1st Earl of Lennox.\\nJames VI\\'s mother, Mary, Queen of Scots, was considered a plausible successor to the English throne. At the beginning of Elizabeth\\'s reign she sent ambassadors to England when a parliament was summoned, anticipating a role for parliament in settling the succession in her favour. Mary was a Roman Catholic, and her proximity to the succession was a factor in plotting, making her position a political problem for the English government, eventually resolved by judicial means. She was executed in 1587. In that year Mary\\'s son James reached the age of twenty-one, while Arbella was only twelve.\\n\\n\\n=== Suffolk claimants ===\\nWhile the Stuart line of James and Arbella would have had political support, by 1600 the descendants of Mary Tudor were theoretically relevant, and on legal grounds could not be discounted. Frances Grey, Duchess of Suffolk, and Eleanor Clifford, Countess of Cumberland, both had children who were in the line of succession. Frances and Eleanor were Mary Tudor\\'s daughters by her second husband, Charles Brandon, 1st Duke of Suffolk. Frances married Henry Grey, 1st Duke of Suffolk, and they had three daughters, Lady Jane Grey (1537–1554), Lady Catherine Grey (1540–1568), and Lady Mary Grey (1545–1578). Of these, the two youngest lived into Queen Elizabeth\\'s reign.\\nCatherine\\'s first marriage to the youthful', metadata={'title': 'Succession to Elizabeth I', 'summary': 'The succession to the childless Elizabeth I was an open question from her accession in 1558 to her death in 1603, when the crown passed to James VI of Scotland. While the accession of James went smoothly, the succession had been the subject of much debate for decades. In some scholarly views, it was a major political factor of the entire reign, even if not so voiced. Separate aspects have acquired their own nomenclature: the \"Norfolk conspiracy\", Patrick Collinson\\'s \"Elizabethan exclusion crisis\", and the \"Secret Correspondence\".\\nThe topics of debate remained obscured by uncertainty.\\nElizabeth I avoided establishing the order of succession in any form, presumably because she feared for her own life once a successor was named.  She was also concerned with England forming a productive relationship with Scotland, whose Catholic and Presbyterian strongholds were resistant to female leadership. Catholic women who would be submissive to the Pope and not to English constitutional law were rejected.\\nHenry VIII\\'s will had named one male and seven females living at his death in 1547 as the line of succession: (1) his son Edward VI, (2) Mary I, (3) Elizabeth I, (4) Jane Grey, (5) Katherine Grey, (6) Mary Grey, and (7) Margaret Clifford. Elizabeth had outlived all of them.\\nA number of authorities considered that the legal position hinged on documents such as the statute De natis ultra mare of Edward III, and the will of Henry VIII. There were different opinions about the application of these documents. Political, religious and military matters came to predominate later in Elizabeth\\'s reign, in the context of the Anglo-Spanish War.\\n\\n', 'source': 'https://en.wikipedia.org/wiki/Succession_to_Elizabeth_I'})]"
            ]
          },
          "metadata": {},
          "execution_count": 18
        }
      ]
    },
    {
      "cell_type": "code",
      "source": [
        "from langchain.text_splitter import TokenTextSplitter\n",
        "text_splitter = TokenTextSplitter(chunk_size=512, chunk_overlap=24)\n",
        "documents = text_splitter.split_documents(raw_documents[:3])"
      ],
      "metadata": {
        "id": "vO3vgnLMiIET"
      },
      "execution_count": null,
      "outputs": []
    },
    {
      "cell_type": "code",
      "source": [
        "from langchain_openai import ChatOpenAI\n",
        "llm=ChatOpenAI(temperature=0, model_name=\"gpt-3.5-turbo-0125\")"
      ],
      "metadata": {
        "id": "hNasTpBSiIAa"
      },
      "execution_count": null,
      "outputs": []
    },
    {
      "cell_type": "code",
      "source": [
        "from langchain_experimental.graph_transformers import LLMGraphTransformer\n",
        "llm_transformer = LLMGraphTransformer(llm=llm)"
      ],
      "metadata": {
        "id": "5NdXGmL7iH9j"
      },
      "execution_count": null,
      "outputs": []
    },
    {
      "cell_type": "code",
      "source": [
        "graph_documents = llm_transformer.convert_to_graph_documents(documents)"
      ],
      "metadata": {
        "id": "iks0L1nMjwc5"
      },
      "execution_count": null,
      "outputs": []
    },
    {
      "cell_type": "code",
      "source": [
        "graph_documents"
      ],
      "metadata": {
        "colab": {
          "base_uri": "https://localhost:8080/"
        },
        "id": "Lk0rcU1ejwaF",
        "outputId": "8a496311-2859-431f-f08e-14372decfbe2"
      },
      "execution_count": null,
      "outputs": [
        {
          "output_type": "execute_result",
          "data": {
            "text/plain": [
              "[GraphDocument(nodes=[Node(id='Elizabeth I', type='Person'), Node(id='England', type='Country'), Node(id='Ireland', type='Country'), Node(id='House Of Tudor', type='Royal family'), Node(id='Henry Viii', type='Person'), Node(id='Anne Boleyn', type='Person'), Node(id='Edward Vi', type='Person'), Node(id='Lady Jane Grey', type='Person'), Node(id='Mary', type='Person'), Node(id='William Cecil', type='Person'), Node(id='Baron Burghley', type='Person'), Node(id='James Vi Of Scotland', type='Person'), Node(id='Mary, Queen Of Scots', type='Person'), Node(id='France', type='Country'), Node(id='Spain', type='Country')], relationships=[Relationship(source=Node(id='Elizabeth I', type='Person'), target=Node(id='England', type='Country'), type='RULED'), Relationship(source=Node(id='Elizabeth I', type='Person'), target=Node(id='Ireland', type='Country'), type='RULED'), Relationship(source=Node(id='Elizabeth I', type='Person'), target=Node(id='House Of Tudor', type='Royal family'), type='BELONGS_TO'), Relationship(source=Node(id='Elizabeth I', type='Person'), target=Node(id='Henry Viii', type='Person'), type='CHILD_OF'), Relationship(source=Node(id='Elizabeth I', type='Person'), target=Node(id='Anne Boleyn', type='Person'), type='CHILD_OF'), Relationship(source=Node(id='Elizabeth I', type='Person'), target=Node(id='Edward Vi', type='Person'), type='HALF-SISTER_OF'), Relationship(source=Node(id='Elizabeth I', type='Person'), target=Node(id='Lady Jane Grey', type='Person'), type='IGNORED_CLAIMS_OF'), Relationship(source=Node(id='Elizabeth I', type='Person'), target=Node(id='Mary', type='Person'), type='HALF-SISTER_OF'), Relationship(source=Node(id='Elizabeth I', type='Person'), target=Node(id='William Cecil', type='Person'), type='DEPENDS_ON'), Relationship(source=Node(id='Elizabeth I', type='Person'), target=Node(id='Baron Burghley', type='Person'), type='CREATED'), Relationship(source=Node(id='Elizabeth I', type='Person'), target=Node(id='France', type='Country'), type='MANOEUVRING_BETWEEN'), Relationship(source=Node(id='Elizabeth I', type='Person'), target=Node(id='Spain', type='Country'), type='MANOEUVRING_BETWEEN'), Relationship(source=Node(id='Elizabeth I', type='Person'), target=Node(id='James Vi Of Scotland', type='Person'), type='SUCCEEDED_BY'), Relationship(source=Node(id='Elizabeth I', type='Person'), target=Node(id='Mary, Queen Of Scots', type='Person'), type='MOTHER_OF')], source=Document(page_content='Elizabeth I (7 September 1533 – 24 March 1603) was Queen of England and Ireland from 17 November 1558 until her death in 1603. She was the last monarch of the House of Tudor.\\nElizabeth was the only surviving child of Henry VIII and Anne Boleyn, his second wife, who was executed when Elizabeth was two years old. Anne\\'s marriage to Henry was annulled, and Elizabeth was declared illegitimate. Henry restored her to the line of succession when she was 10, via the Third Succession Act 1543. After Henry\\'s death in 1547, Elizabeth\\'s younger half-brother Edward VI ruled until his own death in 1553, bequeathing the crown to a Protestant cousin, Lady Jane Grey, and ignoring the claims of his two half-sisters, the Catholic Mary and the younger Elizabeth, in spite of statutes to the contrary. Edward\\'s will was set aside within weeks of his death and Mary became queen, deposing and executing Jane. During Mary\\'s reign, Elizabeth was imprisoned for nearly a year on suspicion of supporting Protestant rebels.\\nUpon her half-sister\\'s death in 1558, Elizabeth succeeded to the throne and set out to rule by good counsel. She depended heavily on a group of trusted advisers led by William Cecil, whom she created Baron Burghley. One of her first actions as queen was the establishment of an English Protestant church, of which she became the supreme governor. This era, later named the Elizabethan Religious Settlement, would evolve into the Church of England. It was expected that Elizabeth would marry and produce an heir; however, despite numerous courtships, she never did, and because of this she is sometimes referred to as the \"Virgin Queen\". She was eventually succeeded by her first cousin twice removed, James VI of Scotland, the son of Mary, Queen of Scots.\\nIn government, Elizabeth was more moderate than her father and siblings had been. One of her mottoes was video et taceo (\"I see and keep silent\"). In religion, she was relatively tolerant and avoided systematic persecution. After the pope declared her illegitimate in 1570, which in theory released English Catholics from allegiance to her, several conspiracies threatened her life, all of which were defeated with the help of her ministers\\' secret service, run by Sir Francis Walsingham. Elizabeth was cautious in foreign affairs, manoeuvring between the major powers of France and Spain. She half-heartedly supported a number of ineffective, poorly resourced military campaigns in the Netherlands, France,', metadata={'title': 'Elizabeth I', 'summary': 'Elizabeth I (7 September 1533 – 24 March 1603) was Queen of England and Ireland from 17 November 1558 until her death in 1603. She was the last monarch of the House of Tudor.\\nElizabeth was the only surviving child of Henry VIII and Anne Boleyn, his second wife, who was executed when Elizabeth was two years old. Anne\\'s marriage to Henry was annulled, and Elizabeth was declared illegitimate. Henry restored her to the line of succession when she was 10, via the Third Succession Act 1543. After Henry\\'s death in 1547, Elizabeth\\'s younger half-brother Edward VI ruled until his own death in 1553, bequeathing the crown to a Protestant cousin, Lady Jane Grey, and ignoring the claims of his two half-sisters, the Catholic Mary and the younger Elizabeth, in spite of statutes to the contrary. Edward\\'s will was set aside within weeks of his death and Mary became queen, deposing and executing Jane. During Mary\\'s reign, Elizabeth was imprisoned for nearly a year on suspicion of supporting Protestant rebels.\\nUpon her half-sister\\'s death in 1558, Elizabeth succeeded to the throne and set out to rule by good counsel. She depended heavily on a group of trusted advisers led by William Cecil, whom she created Baron Burghley. One of her first actions as queen was the establishment of an English Protestant church, of which she became the supreme governor. This era, later named the Elizabethan Religious Settlement, would evolve into the Church of England. It was expected that Elizabeth would marry and produce an heir; however, despite numerous courtships, she never did, and because of this she is sometimes referred to as the \"Virgin Queen\". She was eventually succeeded by her first cousin twice removed, James VI of Scotland, the son of Mary, Queen of Scots.\\nIn government, Elizabeth was more moderate than her father and siblings had been. One of her mottoes was video et taceo (\"I see and keep silent\"). In religion, she was relatively tolerant and avoided systematic persecution. After the pope declared her illegitimate in 1570, which in theory released English Catholics from allegiance to her, several conspiracies threatened her life, all of which were defeated with the help of her ministers\\' secret service, run by Sir Francis Walsingham. Elizabeth was cautious in foreign affairs, manoeuvring between the major powers of France and Spain. She half-heartedly supported a number of ineffective, poorly resourced military campaigns in the Netherlands, France, and Ireland. By the mid-1580s, England could no longer avoid war with Spain.\\nAs she grew older, Elizabeth became celebrated for her virginity. A cult of personality grew around her which was celebrated in the portraits, pageants, and literature of the day. Elizabeth\\'s reign became known as the Elizabethan era. The period is famous for the flourishing of English drama, led by playwrights such as William Shakespeare and Christopher Marlowe, the prowess of English maritime adventurers, such as Francis Drake and Walter Raleigh, and for the defeat of the Spanish Armada. Some historians depict Elizabeth as a short-tempered, sometimes indecisive ruler, who enjoyed more than her fair share of luck. Towards the end of her reign, a series of economic and military problems weakened her popularity. Elizabeth is acknowledged as a charismatic performer (\"Gloriana\") and a dogged survivor (\"Good Queen Bess\") in an era when government was ramshackle and limited, and when monarchs in neighbouring countries faced internal problems that jeopardised their thrones. After the short, disastrous reigns of her half-siblings, her 44 years on the throne provided welcome stability for the kingdom and helped to forge a sense of national identity.\\n\\n', 'source': 'https://en.wikipedia.org/wiki/Elizabeth_I'})),\n",
              " GraphDocument(nodes=[Node(id='Elizabeth', type='Person'), Node(id='Spain', type='Country'), Node(id='Netherlands', type='Country'), Node(id='France', type='Country'), Node(id='Ireland', type='Country'), Node(id='William Shakespeare', type='Playwright'), Node(id='Christopher Marlowe', type='Playwright'), Node(id='Francis Drake', type='Maritime adventurer'), Node(id='Walter Raleigh', type='Maritime adventurer'), Node(id='Spanish Armada', type='Event'), Node(id='Greenwich Palace', type='Place'), Node(id='Henry Viii Of England', type='Person'), Node(id='Anne Bol', type='Person')], relationships=[Relationship(source=Node(id='Elizabeth', type='Person'), target=Node(id='Spain', type='Country'), type='RULED_OVER'), Relationship(source=Node(id='Elizabeth', type='Person'), target=Node(id='Netherlands', type='Country'), type='SUPPORTED'), Relationship(source=Node(id='Elizabeth', type='Person'), target=Node(id='France', type='Country'), type='SUPPORTED'), Relationship(source=Node(id='Elizabeth', type='Person'), target=Node(id='Ireland', type='Country'), type='SUPPORTED'), Relationship(source=Node(id='Elizabeth', type='Person'), target=Node(id='William Shakespeare', type='Playwright'), type='SUPPORTED'), Relationship(source=Node(id='Elizabeth', type='Person'), target=Node(id='Christopher Marlowe', type='Playwright'), type='SUPPORTED'), Relationship(source=Node(id='Elizabeth', type='Person'), target=Node(id='Francis Drake', type='Maritime adventurer'), type='SUPPORTED'), Relationship(source=Node(id='Elizabeth', type='Person'), target=Node(id='Walter Raleigh', type='Maritime adventurer'), type='SUPPORTED'), Relationship(source=Node(id='Elizabeth', type='Person'), target=Node(id='Spanish Armada', type='Event'), type='DEFEATED'), Relationship(source=Node(id='Elizabeth', type='Person'), target=Node(id='Greenwich Palace', type='Place'), type='BORN_AT'), Relationship(source=Node(id='Elizabeth', type='Person'), target=Node(id='Henry Viii Of England', type='Person'), type='CHILD_OF'), Relationship(source=Node(id='Elizabeth', type='Person'), target=Node(id='Anne Bol', type='Person'), type='MOTHER_OF')], source=Document(page_content=' and Spain. She half-heartedly supported a number of ineffective, poorly resourced military campaigns in the Netherlands, France, and Ireland. By the mid-1580s, England could no longer avoid war with Spain.\\nAs she grew older, Elizabeth became celebrated for her virginity. A cult of personality grew around her which was celebrated in the portraits, pageants, and literature of the day. Elizabeth\\'s reign became known as the Elizabethan era. The period is famous for the flourishing of English drama, led by playwrights such as William Shakespeare and Christopher Marlowe, the prowess of English maritime adventurers, such as Francis Drake and Walter Raleigh, and for the defeat of the Spanish Armada. Some historians depict Elizabeth as a short-tempered, sometimes indecisive ruler, who enjoyed more than her fair share of luck. Towards the end of her reign, a series of economic and military problems weakened her popularity. Elizabeth is acknowledged as a charismatic performer (\"Gloriana\") and a dogged survivor (\"Good Queen Bess\") in an era when government was ramshackle and limited, and when monarchs in neighbouring countries faced internal problems that jeopardised their thrones. After the short, disastrous reigns of her half-siblings, her 44 years on the throne provided welcome stability for the kingdom and helped to forge a sense of national identity.\\n\\n\\n== Early life ==\\n\\nElizabeth was born at Greenwich Palace on 7 September 1533 and was named after her grandmothers, Elizabeth of York and Lady Elizabeth Howard. She was the second child of Henry VIII of England born in wedlock to survive infancy. Her mother was Henry\\'s second wife, Anne Bol', metadata={'title': 'Elizabeth I', 'summary': 'Elizabeth I (7 September 1533 – 24 March 1603) was Queen of England and Ireland from 17 November 1558 until her death in 1603. She was the last monarch of the House of Tudor.\\nElizabeth was the only surviving child of Henry VIII and Anne Boleyn, his second wife, who was executed when Elizabeth was two years old. Anne\\'s marriage to Henry was annulled, and Elizabeth was declared illegitimate. Henry restored her to the line of succession when she was 10, via the Third Succession Act 1543. After Henry\\'s death in 1547, Elizabeth\\'s younger half-brother Edward VI ruled until his own death in 1553, bequeathing the crown to a Protestant cousin, Lady Jane Grey, and ignoring the claims of his two half-sisters, the Catholic Mary and the younger Elizabeth, in spite of statutes to the contrary. Edward\\'s will was set aside within weeks of his death and Mary became queen, deposing and executing Jane. During Mary\\'s reign, Elizabeth was imprisoned for nearly a year on suspicion of supporting Protestant rebels.\\nUpon her half-sister\\'s death in 1558, Elizabeth succeeded to the throne and set out to rule by good counsel. She depended heavily on a group of trusted advisers led by William Cecil, whom she created Baron Burghley. One of her first actions as queen was the establishment of an English Protestant church, of which she became the supreme governor. This era, later named the Elizabethan Religious Settlement, would evolve into the Church of England. It was expected that Elizabeth would marry and produce an heir; however, despite numerous courtships, she never did, and because of this she is sometimes referred to as the \"Virgin Queen\". She was eventually succeeded by her first cousin twice removed, James VI of Scotland, the son of Mary, Queen of Scots.\\nIn government, Elizabeth was more moderate than her father and siblings had been. One of her mottoes was video et taceo (\"I see and keep silent\"). In religion, she was relatively tolerant and avoided systematic persecution. After the pope declared her illegitimate in 1570, which in theory released English Catholics from allegiance to her, several conspiracies threatened her life, all of which were defeated with the help of her ministers\\' secret service, run by Sir Francis Walsingham. Elizabeth was cautious in foreign affairs, manoeuvring between the major powers of France and Spain. She half-heartedly supported a number of ineffective, poorly resourced military campaigns in the Netherlands, France, and Ireland. By the mid-1580s, England could no longer avoid war with Spain.\\nAs she grew older, Elizabeth became celebrated for her virginity. A cult of personality grew around her which was celebrated in the portraits, pageants, and literature of the day. Elizabeth\\'s reign became known as the Elizabethan era. The period is famous for the flourishing of English drama, led by playwrights such as William Shakespeare and Christopher Marlowe, the prowess of English maritime adventurers, such as Francis Drake and Walter Raleigh, and for the defeat of the Spanish Armada. Some historians depict Elizabeth as a short-tempered, sometimes indecisive ruler, who enjoyed more than her fair share of luck. Towards the end of her reign, a series of economic and military problems weakened her popularity. Elizabeth is acknowledged as a charismatic performer (\"Gloriana\") and a dogged survivor (\"Good Queen Bess\") in an era when government was ramshackle and limited, and when monarchs in neighbouring countries faced internal problems that jeopardised their thrones. After the short, disastrous reigns of her half-siblings, her 44 years on the throne provided welcome stability for the kingdom and helped to forge a sense of national identity.\\n\\n', 'source': 'https://en.wikipedia.org/wiki/Elizabeth_I'})),\n",
              " GraphDocument(nodes=[Node(id='Elizabeth Petrovna', type='Person'), Node(id='Empress Of Russia', type='Title'), Node(id='Tsar Peter The Great', type='Monarch'), Node(id='Catherine I Of Russia', type='Monarch'), Node(id='Peter Ii', type='Monarch'), Node(id='Anna', type='Monarch'), Node(id='Ivan Vi', type='Monarch'), Node(id='Peter Iii', type='Monarch'), Node(id='Mikhail Lomonosov', type='Scientist'), Node(id='Ivan Shuvalov', type='Person'), Node(id='Bartolomeo Rastrelli', type='Architect'), Node(id='Aleksey Bestuzhev-Ryumin', type='Diplomat'), Node(id='Frederick The Great', type='Monarch')], relationships=[Relationship(source=Node(id='Elizabeth Petrovna', type='Person'), target=Node(id='Empress Of Russia', type='Title'), type='HELD_TITLE'), Relationship(source=Node(id='Elizabeth Petrovna', type='Person'), target=Node(id='Tsar Peter The Great', type='Monarch'), type='DAUGHTER_OF'), Relationship(source=Node(id='Elizabeth Petrovna', type='Person'), target=Node(id='Catherine I Of Russia', type='Monarch'), type='DAUGHTER_OF'), Relationship(source=Node(id='Elizabeth Petrovna', type='Person'), target=Node(id='Peter Ii', type='Monarch'), type='RELATED_TO'), Relationship(source=Node(id='Elizabeth Petrovna', type='Person'), target=Node(id='Anna', type='Monarch'), type='RELATED_TO'), Relationship(source=Node(id='Elizabeth Petrovna', type='Person'), target=Node(id='Ivan Vi', type='Monarch'), type='SEIZED_THRONE_FROM'), Relationship(source=Node(id='Elizabeth Petrovna', type='Person'), target=Node(id='Peter Iii', type='Monarch'), type='DECLARED_HEIR'), Relationship(source=Node(id='Elizabeth Petrovna', type='Person'), target=Node(id='Mikhail Lomonosov', type='Scientist'), type='ENCOURAGED_FOUNDATION_OF_UNIVERSITY'), Relationship(source=Node(id='Elizabeth Petrovna', type='Person'), target=Node(id='Ivan Shuvalov', type='Person'), type='ENCOURAGED_FOUNDATION_OF_ACADEMY'), Relationship(source=Node(id='Elizabeth Petrovna', type='Person'), target=Node(id='Bartolomeo Rastrelli', type='Architect'), type='FAVORED_ARCHITECT'), Relationship(source=Node(id='Elizabeth Petrovna', type='Person'), target=Node(id='Aleksey Bestuzhev-Ryumin', type='Diplomat'), type='SOLVED_EUROPEAN_CONFLICTS_WITH'), Relationship(source=Node(id='Elizabeth Petrovna', type='Person'), target=Node(id='Frederick The Great', type='Monarch'), type='OPPOSED_IN_WAR')], source=Document(page_content=\"Elizabeth or Elizaveta Petrovna (Russian: Елизаве́та Петро́вна; 29 December [O.S. 18 December] 1709 – 5 January [O.S. 25 December] 1762) was Empress of Russia from 1741 until her death in 1762. She remains one of the most popular Russian monarchs because of her decision not to execute a single person during her reign, her numerous construction projects, and her strong opposition to Prussian policies.\\nThe second-eldest daughter of Tsar Peter the Great (r.\\u20091682–1725), Elizabeth lived through the confused successions of her father's descendants following her half-brother Alexei's death in 1718. The throne first passed to her mother Catherine I of Russia (r.\\u20091725–1727), then to her nephew Peter II, who died in 1730 and was succeeded by Elizabeth's first cousin Anna (r.\\u20091730–1740). After the brief rule of Anna's infant great-nephew, Ivan VI, Elizabeth seized the throne with the military's support and declared her own nephew, the future Peter III, her heir.\\nDuring her reign Elizabeth continued the policies of her father and brought about a remarkable Age of Enlightenment in Russia. Her domestic policies allowed the nobles to gain dominance in local government while shortening their terms of service to the state. She encouraged Mikhail Lomonosov's foundation of the University of Moscow, the highest-ranking Russian educational institution. Her court became one of the most splendid in all Europe, especially regarding architecture: she modernised Russia's roads, encouraged Ivan Shuvalov's foundation of the Imperial Academy of Arts, and financed grandiose Baroque projects of her favourite architect, Bartolomeo Rastrelli, particularly in Peterhof Palace. The Winter Palace and the Smolny Cathedral in Saint Petersburg are among the chief monuments of her reign.\\nElizabeth led the Russian Empire during the two major European conflicts of her time: the War of Austrian Succession (1740–1748) and the Seven Years' War (1756–1763). She and diplomat Aleksey Bestuzhev-Ryumin solved the first event by forming an alliance with Austria and France, but indirectly caused the second. Russian troops enjoyed several victories against Prussia and briefly occupied Berlin, but when Frederick the Great was finally considering surrender in January\", metadata={'title': 'Elizabeth of Russia', 'summary': \"Elizabeth or Elizaveta Petrovna (Russian: Елизаве́та Петро́вна; 29 December [O.S. 18 December] 1709 – 5 January [O.S. 25 December] 1762) was Empress of Russia from 1741 until her death in 1762. She remains one of the most popular Russian monarchs because of her decision not to execute a single person during her reign, her numerous construction projects, and her strong opposition to Prussian policies.\\nThe second-eldest daughter of Tsar Peter the Great (r.\\u20091682–1725), Elizabeth lived through the confused successions of her father's descendants following her half-brother Alexei's death in 1718. The throne first passed to her mother Catherine I of Russia (r.\\u20091725–1727), then to her nephew Peter II, who died in 1730 and was succeeded by Elizabeth's first cousin Anna (r.\\u20091730–1740). After the brief rule of Anna's infant great-nephew, Ivan VI, Elizabeth seized the throne with the military's support and declared her own nephew, the future Peter III, her heir.\\nDuring her reign Elizabeth continued the policies of her father and brought about a remarkable Age of Enlightenment in Russia. Her domestic policies allowed the nobles to gain dominance in local government while shortening their terms of service to the state. She encouraged Mikhail Lomonosov's foundation of the University of Moscow, the highest-ranking Russian educational institution. Her court became one of the most splendid in all Europe, especially regarding architecture: she modernised Russia's roads, encouraged Ivan Shuvalov's foundation of the Imperial Academy of Arts, and financed grandiose Baroque projects of her favourite architect, Bartolomeo Rastrelli, particularly in Peterhof Palace. The Winter Palace and the Smolny Cathedral in Saint Petersburg are among the chief monuments of her reign.\\nElizabeth led the Russian Empire during the two major European conflicts of her time: the War of Austrian Succession (1740–1748) and the Seven Years' War (1756–1763). She and diplomat Aleksey Bestuzhev-Ryumin solved the first event by forming an alliance with Austria and France, but indirectly caused the second. Russian troops enjoyed several victories against Prussia and briefly occupied Berlin, but when Frederick the Great was finally considering surrender in January 1762, the Russian Empress died. She was the last agnatic member of the House of Romanov to reign over the Russian Empire.\", 'source': 'https://en.wikipedia.org/wiki/Elizabeth_of_Russia'})),\n",
              " GraphDocument(nodes=[Node(id='Russian Troops', type='Military'), Node(id='Prussia', type='Country'), Node(id='Berlin', type='City'), Node(id='Frederick The Great', type='Person'), Node(id='Russian Empress', type='Person'), Node(id='House Of Romanov', type='Royal family'), Node(id='Elizabeth', type='Person'), Node(id='Kolomenskoye', type='Place'), Node(id='Moscow', type='City'), Node(id='Peter The Great', type='Person'), Node(id='Catherine', type='Person'), Node(id='Samuel Skowroński', type='Person'), Node(id='Grand Duchy Of Lithuania', type='Country'), Node(id='Anna', type='Person'), Node(id='Tsarevna', type='Title'), Node(id='Saint Petersburg', type='City'), Node(id=\"Isaac'S Cathedral\", type='Building'), Node(id='Alexei Petrovich', type='Person'), Node(id='Eudoxia Lopukhina', type='Person')], relationships=[Relationship(source=Node(id='Russian Troops', type='Military'), target=Node(id='Prussia', type='Country'), type='VICTORY'), Relationship(source=Node(id='Russian Troops', type='Military'), target=Node(id='Berlin', type='City'), type='OCCUPATION'), Relationship(source=Node(id='Frederick The Great', type='Person'), target=Node(id='Prussia', type='Country'), type='CONSIDERING_SURRENDER'), Relationship(source=Node(id='Russian Empress', type='Person'), target=Node(id='Russian Empress', type='Person'), type='DEATH'), Relationship(source=Node(id='Russian Empress', type='Person'), target=Node(id='House Of Romanov', type='Royal family'), type='LAST_AGNATIC_MEMBER'), Relationship(source=Node(id='Elizabeth', type='Person'), target=Node(id='Kolomenskoye', type='Place'), type='BIRTH'), Relationship(source=Node(id='Elizabeth', type='Person'), target=Node(id='Moscow', type='City'), type='BIRTH'), Relationship(source=Node(id='Elizabeth', type='Person'), target=Node(id='Peter The Great', type='Person'), type='FATHER'), Relationship(source=Node(id='Elizabeth', type='Person'), target=Node(id='Catherine', type='Person'), type='MOTHER'), Relationship(source=Node(id='Catherine', type='Person'), target=Node(id='Samuel Skowroński', type='Person'), type='FATHER'), Relationship(source=Node(id='Catherine', type='Person'), target=Node(id='Grand Duchy Of Lithuania', type='Country'), type='NATIONALITY'), Relationship(source=Node(id='Peter The Great', type='Person'), target=Node(id='Elizabeth', type='Person'), type='FAVORITE_DAUGHTER'), Relationship(source=Node(id='Peter The Great', type='Person'), target=Node(id='Elizabeth', type='Person'), type='PHYSICAL_RESEMBLANCE'), Relationship(source=Node(id='Peter The Great', type='Person'), target=Node(id='Elizabeth', type='Person'), type='TEMPERAMENTAL_RESEMBLANCE'), Relationship(source=Node(id='Peter The Great', type='Person'), target=Node(id='Elizabeth', type='Person'), type='EDUCATION_NEGLECT'), Relationship(source=Node(id='Peter The Great', type='Person'), target=Node(id='Catherine', type='Person'), type='EDUCATION_RESPONSIBILITY'), Relationship(source=Node(id='Peter The Great', type='Person'), target=Node(id='Catherine', type='Person'), type='DIFFICULT_TASK'), Relationship(source=Node(id='Elizabeth', type='Person'), target=Node(id='Tsarevna', type='Title'), type='TITLE_GRANTED'), Relationship(source=Node(id='Peter The Great', type='Person'), target=Node(id='Anna', type='Person'), type='LEGITIMIZATION'), Relationship(source=Node(id='Peter The Great', type='Person'), target=Node(id='Elizabeth', type='Person'), type='LEGITIMIZATION'), Relationship(source=Node(id='Peter The Great', type='Person'), target=Node(id='Alexei Petrovich', type='Person'), type='SON')], source=Document(page_content=' Russian troops enjoyed several victories against Prussia and briefly occupied Berlin, but when Frederick the Great was finally considering surrender in January 1762, the Russian Empress died. She was the last agnatic member of the House of Romanov to reign over the Russian Empire.\\n\\n\\n== Early life ==\\n\\n\\n=== Childhood and teenage years ===\\n\\nElizabeth was born at Kolomenskoye, near Moscow, Russia, on 18 December 1709 (O.S.). Her parents were Peter the Great, Tsar of Russia and Catherine. Catherine was the daughter of Samuel Skowroński, a subject of Grand Duchy of Lithuania. Although no documentary record exists, her parents were said to have married secretly at the Cathedral of the Holy Trinity in Saint Petersburg at some point between 23 October and 1 December 1707. Their official marriage was at Saint Isaac\\'s Cathedral in Saint Petersburg on 9 February 1712. On this day, the two children previously born to the couple (Anna and Elizabeth) were legitimised by their father and given the title of Tsarevna (\"princess\") on 6 March 1711. Of the twelve children born to Peter and Catherine (five sons and seven daughters), only the sisters survived to adulthood. They had one older surviving sibling, crown prince Alexei Petrovich, who was Peter\\'s son by his first wife, noblewoman Eudoxia Lopukhina.\\nAs a child, Elizabeth was the favourite of her father, whom she resembled both physically and temperamentally. Even though he adored his daughter, Peter did not devote time or attention to her education; having both a son and grandson from his first marriage to a noblewoman, he did not anticipate that a daughter born to his former maid might one day inherit the Russian throne, which had until that point never been occupied by a woman; as such, it was left to Catherine to raise the girls, a task met with considerable difficulty due to her own lack of education. Despite this, Elizabeth was still ', metadata={'title': 'Elizabeth of Russia', 'summary': \"Elizabeth or Elizaveta Petrovna (Russian: Елизаве́та Петро́вна; 29 December [O.S. 18 December] 1709 – 5 January [O.S. 25 December] 1762) was Empress of Russia from 1741 until her death in 1762. She remains one of the most popular Russian monarchs because of her decision not to execute a single person during her reign, her numerous construction projects, and her strong opposition to Prussian policies.\\nThe second-eldest daughter of Tsar Peter the Great (r.\\u20091682–1725), Elizabeth lived through the confused successions of her father's descendants following her half-brother Alexei's death in 1718. The throne first passed to her mother Catherine I of Russia (r.\\u20091725–1727), then to her nephew Peter II, who died in 1730 and was succeeded by Elizabeth's first cousin Anna (r.\\u20091730–1740). After the brief rule of Anna's infant great-nephew, Ivan VI, Elizabeth seized the throne with the military's support and declared her own nephew, the future Peter III, her heir.\\nDuring her reign Elizabeth continued the policies of her father and brought about a remarkable Age of Enlightenment in Russia. Her domestic policies allowed the nobles to gain dominance in local government while shortening their terms of service to the state. She encouraged Mikhail Lomonosov's foundation of the University of Moscow, the highest-ranking Russian educational institution. Her court became one of the most splendid in all Europe, especially regarding architecture: she modernised Russia's roads, encouraged Ivan Shuvalov's foundation of the Imperial Academy of Arts, and financed grandiose Baroque projects of her favourite architect, Bartolomeo Rastrelli, particularly in Peterhof Palace. The Winter Palace and the Smolny Cathedral in Saint Petersburg are among the chief monuments of her reign.\\nElizabeth led the Russian Empire during the two major European conflicts of her time: the War of Austrian Succession (1740–1748) and the Seven Years' War (1756–1763). She and diplomat Aleksey Bestuzhev-Ryumin solved the first event by forming an alliance with Austria and France, but indirectly caused the second. Russian troops enjoyed several victories against Prussia and briefly occupied Berlin, but when Frederick the Great was finally considering surrender in January 1762, the Russian Empress died. She was the last agnatic member of the House of Romanov to reign over the Russian Empire.\", 'source': 'https://en.wikipedia.org/wiki/Elizabeth_of_Russia'})),\n",
              " GraphDocument(nodes=[Node(id='Elizabeth I', type='Person'), Node(id='James Vi Of Scotland', type='Person'), Node(id='Norfolk Conspiracy', type='Concept'), Node(id=\"Patrick Collinson'S Elizabethan Exclusion Crisis\", type='Concept'), Node(id='Secret Correspondence', type='Concept'), Node(id='Henry Viii', type='Person'), Node(id='Edward Vi', type='Person'), Node(id='Mary I', type='Person'), Node(id='Jane Grey', type='Person'), Node(id='Katherine Grey', type='Person'), Node(id='Mary Grey', type='Person'), Node(id='Margaret Clifford', type='Person'), Node(id='Margaret Douglas', type='Person'), Node(id='Henry Stuart, Lord Darnley', type='Person'), Node(id='Mary, Queen Of Scots', type='Person')], relationships=[Relationship(source=Node(id='Elizabeth I', type='Person'), target=Node(id='James Vi Of Scotland', type='Person'), type='SUCCESSOR'), Relationship(source=Node(id='Henry Viii', type='Person'), target=Node(id='Edward Vi', type='Person'), type='SUCCESSOR'), Relationship(source=Node(id='Henry Viii', type='Person'), target=Node(id='Mary I', type='Person'), type='SUCCESSOR'), Relationship(source=Node(id='Henry Viii', type='Person'), target=Node(id='Elizabeth I', type='Person'), type='SUCCESSOR'), Relationship(source=Node(id='Henry Viii', type='Person'), target=Node(id='Jane Grey', type='Person'), type='SUCCESSOR'), Relationship(source=Node(id='Henry Viii', type='Person'), target=Node(id='Katherine Grey', type='Person'), type='SUCCESSOR'), Relationship(source=Node(id='Henry Viii', type='Person'), target=Node(id='Mary Grey', type='Person'), type='SUCCESSOR'), Relationship(source=Node(id='Henry Viii', type='Person'), target=Node(id='Margaret Clifford', type='Person'), type='SUCCESSOR'), Relationship(source=Node(id='Mary I', type='Person'), target=Node(id='Margaret Douglas', type='Person'), type='PREFERRED_SUCCESSOR'), Relationship(source=Node(id='Margaret Douglas', type='Person'), target=Node(id='Henry Stuart, Lord Darnley', type='Person'), type='FAMILY_RELATION'), Relationship(source=Node(id='Henry Stuart, Lord Darnley', type='Person'), target=Node(id='Mary, Queen Of Scots', type='Person'), type='MARRIAGE')], source=Document(page_content='The succession to the childless Elizabeth I was an open question from her accession in 1558 to her death in 1603, when the crown passed to James VI of Scotland. While the accession of James went smoothly, the succession had been the subject of much debate for decades. In some scholarly views, it was a major political factor of the entire reign, even if not so voiced. Separate aspects have acquired their own nomenclature: the \"Norfolk conspiracy\", Patrick Collinson\\'s \"Elizabethan exclusion crisis\", and the \"Secret Correspondence\".\\nThe topics of debate remained obscured by uncertainty.\\nElizabeth I avoided establishing the order of succession in any form, presumably because she feared for her own life once a successor was named.  She was also concerned with England forming a productive relationship with Scotland, whose Catholic and Presbyterian strongholds were resistant to female leadership. Catholic women who would be submissive to the Pope and not to English constitutional law were rejected.\\nHenry VIII\\'s will had named one male and seven females living at his death in 1547 as the line of succession: (1) his son Edward VI, (2) Mary I, (3) Elizabeth I, (4) Jane Grey, (5) Katherine Grey, (6) Mary Grey, and (7) Margaret Clifford. Elizabeth had outlived all of them.\\nA number of authorities considered that the legal position hinged on documents such as the statute De natis ultra mare of Edward III, and the will of Henry VIII. There were different opinions about the application of these documents. Political, religious and military matters came to predominate later in Elizabeth\\'s reign, in the context of the Anglo-Spanish War.\\n\\n\\n== Cognatic descent from Henry VII ==\\nDescent from the two daughters of Henry VII who reached adulthood, Margaret and Mary, was the first and main issue in the succession. \\n\\n\\n=== Lennox claim ===\\nMary I of England had died without managing to have her preferred successor and first cousin, Margaret Douglas, Countess of Lennox, nominated by parliament. Margaret Douglas was a daughter of Margaret Tudor, and lived to 1578, but became a marginal figure in discussions of the succession to Elizabeth I, who at no point clarified the dynastic issues of the Tudor line. When in 1565 Margaret Douglas\\'s elder son Henry Stuart, Lord Darnley, married Mary, Queen of Scots, the \"Lennox claim\" was generally regarded as consolidated into the \"Stuart claim\".', metadata={'title': 'Succession to Elizabeth I', 'summary': 'The succession to the childless Elizabeth I was an open question from her accession in 1558 to her death in 1603, when the crown passed to James VI of Scotland. While the accession of James went smoothly, the succession had been the subject of much debate for decades. In some scholarly views, it was a major political factor of the entire reign, even if not so voiced. Separate aspects have acquired their own nomenclature: the \"Norfolk conspiracy\", Patrick Collinson\\'s \"Elizabethan exclusion crisis\", and the \"Secret Correspondence\".\\nThe topics of debate remained obscured by uncertainty.\\nElizabeth I avoided establishing the order of succession in any form, presumably because she feared for her own life once a successor was named.  She was also concerned with England forming a productive relationship with Scotland, whose Catholic and Presbyterian strongholds were resistant to female leadership. Catholic women who would be submissive to the Pope and not to English constitutional law were rejected.\\nHenry VIII\\'s will had named one male and seven females living at his death in 1547 as the line of succession: (1) his son Edward VI, (2) Mary I, (3) Elizabeth I, (4) Jane Grey, (5) Katherine Grey, (6) Mary Grey, and (7) Margaret Clifford. Elizabeth had outlived all of them.\\nA number of authorities considered that the legal position hinged on documents such as the statute De natis ultra mare of Edward III, and the will of Henry VIII. There were different opinions about the application of these documents. Political, religious and military matters came to predominate later in Elizabeth\\'s reign, in the context of the Anglo-Spanish War.\\n\\n', 'source': 'https://en.wikipedia.org/wiki/Succession_to_Elizabeth_I'})),\n",
              " GraphDocument(nodes=[Node(id='Margaret Tudor', type='Person'), Node(id='Arbella Stuart', type='Person'), Node(id='Margaret Douglas', type='Person'), Node(id='Charles Stuart', type='Person'), Node(id='James Vi', type='Person'), Node(id='Mary, Queen Of Scots', type='Person'), Node(id='Elizabeth', type='Person'), Node(id='Frances Grey', type='Person'), Node(id='Eleanor Clifford', type='Person'), Node(id='Mary Tudor', type='Person'), Node(id='Charles Brandon', type='Person'), Node(id='Henry Grey', type='Person'), Node(id='Lady Jane Grey', type='Person'), Node(id='Lady Catherine Grey', type='Person'), Node(id='Lady Mary Grey', type='Person')], relationships=[Relationship(source=Node(id='Margaret Tudor', type='Person'), target=Node(id='James Vi', type='Person'), type='GRANDPARENT'), Relationship(source=Node(id='Margaret Douglas', type='Person'), target=Node(id='Arbella Stuart', type='Person'), type='PARENT'), Relationship(source=Node(id='Charles Stuart', type='Person'), target=Node(id='Arbella Stuart', type='Person'), type='PARENT'), Relationship(source=Node(id='Mary, Queen Of Scots', type='Person'), target=Node(id='James Vi', type='Person'), type='PARENT'), Relationship(source=Node(id='Mary, Queen Of Scots', type='Person'), target=Node(id='Elizabeth', type='Person'), type='AMBASSADOR'), Relationship(source=Node(id='Mary, Queen Of Scots', type='Person'), target=Node(id='James Vi', type='Person'), type='MOTHER'), Relationship(source=Node(id='Mary, Queen Of Scots', type='Person'), target=Node(id='James Vi', type='Person'), type='ROMAN_CATHOLIC'), Relationship(source=Node(id='Mary, Queen Of Scots', type='Person'), target=Node(id='James Vi', type='Person'), type='EXECUTED'), Relationship(source=Node(id='James Vi', type='Person'), target=Node(id='Elizabeth', type='Person'), type='SON'), Relationship(source=Node(id='Frances Grey', type='Person'), target=Node(id='Lady Jane Grey', type='Person'), type='PARENT'), Relationship(source=Node(id='Frances Grey', type='Person'), target=Node(id='Lady Catherine Grey', type='Person'), type='PARENT'), Relationship(source=Node(id='Frances Grey', type='Person'), target=Node(id='Lady Mary Grey', type='Person'), type='PARENT'), Relationship(source=Node(id='Eleanor Clifford', type='Person'), target=Node(id='Lady Jane Grey', type='Person'), type='PARENT'), Relationship(source=Node(id='Eleanor Clifford', type='Person'), target=Node(id='Lady Catherine Grey', type='Person'), type='PARENT'), Relationship(source=Node(id='Eleanor Clifford', type='Person'), target=Node(id='Lady Mary Grey', type='Person'), type='PARENT'), Relationship(source=Node(id='Mary Tudor', type='Person'), target=Node(id='Frances Grey', type='Person'), type='PARENT'), Relationship(source=Node(id='Mary Tudor', type='Person'), target=Node(id='Eleanor Clifford', type='Person'), type='PARENT'), Relationship(source=Node(id='Charles Brandon', type='Person'), target=Node(id='Frances Grey', type='Person'), type='SPOUSE'), Relationship(source=Node(id='Charles Brandon', type='Person'), target=Node(id='Eleanor Clifford', type='Person'), type='SPOUSE'), Relationship(source=Node(id='Frances Grey', type='Person'), target=Node(id='Henry Grey', type='Person'), type='SPOUSE')], source=Document(page_content=', Queen of Scots, the \"Lennox claim\" was generally regarded as consolidated into the \"Stuart claim\".\\n\\n\\n=== Stuart claimants ===\\nJames VI was the son of two grandchildren of Margaret Tudor. Arbella Stuart, the most serious other contender by the late 16th century, was the daughter of Margaret Douglas, Countess of Lennox\\'s younger son Charles Stuart, 1st Earl of Lennox.\\nJames VI\\'s mother, Mary, Queen of Scots, was considered a plausible successor to the English throne. At the beginning of Elizabeth\\'s reign she sent ambassadors to England when a parliament was summoned, anticipating a role for parliament in settling the succession in her favour. Mary was a Roman Catholic, and her proximity to the succession was a factor in plotting, making her position a political problem for the English government, eventually resolved by judicial means. She was executed in 1587. In that year Mary\\'s son James reached the age of twenty-one, while Arbella was only twelve.\\n\\n\\n=== Suffolk claimants ===\\nWhile the Stuart line of James and Arbella would have had political support, by 1600 the descendants of Mary Tudor were theoretically relevant, and on legal grounds could not be discounted. Frances Grey, Duchess of Suffolk, and Eleanor Clifford, Countess of Cumberland, both had children who were in the line of succession. Frances and Eleanor were Mary Tudor\\'s daughters by her second husband, Charles Brandon, 1st Duke of Suffolk. Frances married Henry Grey, 1st Duke of Suffolk, and they had three daughters, Lady Jane Grey (1537–1554), Lady Catherine Grey (1540–1568), and Lady Mary Grey (1545–1578). Of these, the two youngest lived into Queen Elizabeth\\'s reign.\\nCatherine\\'s first marriage to the youthful', metadata={'title': 'Succession to Elizabeth I', 'summary': 'The succession to the childless Elizabeth I was an open question from her accession in 1558 to her death in 1603, when the crown passed to James VI of Scotland. While the accession of James went smoothly, the succession had been the subject of much debate for decades. In some scholarly views, it was a major political factor of the entire reign, even if not so voiced. Separate aspects have acquired their own nomenclature: the \"Norfolk conspiracy\", Patrick Collinson\\'s \"Elizabethan exclusion crisis\", and the \"Secret Correspondence\".\\nThe topics of debate remained obscured by uncertainty.\\nElizabeth I avoided establishing the order of succession in any form, presumably because she feared for her own life once a successor was named.  She was also concerned with England forming a productive relationship with Scotland, whose Catholic and Presbyterian strongholds were resistant to female leadership. Catholic women who would be submissive to the Pope and not to English constitutional law were rejected.\\nHenry VIII\\'s will had named one male and seven females living at his death in 1547 as the line of succession: (1) his son Edward VI, (2) Mary I, (3) Elizabeth I, (4) Jane Grey, (5) Katherine Grey, (6) Mary Grey, and (7) Margaret Clifford. Elizabeth had outlived all of them.\\nA number of authorities considered that the legal position hinged on documents such as the statute De natis ultra mare of Edward III, and the will of Henry VIII. There were different opinions about the application of these documents. Political, religious and military matters came to predominate later in Elizabeth\\'s reign, in the context of the Anglo-Spanish War.\\n\\n', 'source': 'https://en.wikipedia.org/wiki/Succession_to_Elizabeth_I'}))]"
            ]
          },
          "metadata": {},
          "execution_count": 23
        }
      ]
    },
    {
      "cell_type": "code",
      "source": [
        "graph.add_graph_documents(\n",
        "    graph_documents,\n",
        "    baseEntityLabel=True,\n",
        "    include_source=True\n",
        ")"
      ],
      "metadata": {
        "id": "ZqAZr_OjjwXk"
      },
      "execution_count": null,
      "outputs": []
    },
    {
      "cell_type": "code",
      "source": [
        "from yfiles_jupyter_graphs import GraphWidget\n",
        "from neo4j import GraphDatabase"
      ],
      "metadata": {
        "id": "I7dp9Zv3kXwM"
      },
      "execution_count": null,
      "outputs": []
    },
    {
      "cell_type": "code",
      "source": [
        "# directly show the graph resulting from the given Cypher query\n",
        "default_cypher = \"MATCH (s)-[r:!MENTIONS]->(t) RETURN s,r,t LIMIT 50\""
      ],
      "metadata": {
        "id": "mM0KYCIIkkDq"
      },
      "execution_count": null,
      "outputs": []
    },
    {
      "cell_type": "code",
      "source": [
        "def showGraph(cypher: str = default_cypher):\n",
        "    # create a neo4j session to run queries\n",
        "    driver = GraphDatabase.driver(\n",
        "        uri = os.environ[\"NEO4J_URI\"],\n",
        "        auth = (os.environ[\"NEO4J_USERNAME\"],\n",
        "                os.environ[\"NEO4J_PASSWORD\"]))\n",
        "    session = driver.session()\n",
        "    widget = GraphWidget(graph = session.run(cypher).graph())\n",
        "    widget.node_label_mapping = 'id'\n",
        "    display(widget)\n",
        "    return widget"
      ],
      "metadata": {
        "id": "dx79ay2DkaRO"
      },
      "execution_count": null,
      "outputs": []
    },
    {
      "cell_type": "code",
      "source": [
        "showGraph()"
      ],
      "metadata": {
        "colab": {
          "base_uri": "https://localhost:8080/",
          "height": 1000,
          "referenced_widgets": [
            "2a112d5af5ce489883470d9dc42fe6bf",
            "88ae565e453f4ea5bddb67854630f0bb",
            "eb192432c9b3470f86aa697402caae42"
          ]
        },
        "id": "r5j0mnPwkauC",
        "outputId": "e4af55ae-0759-4d14-e999-5279cb9fa597"
      },
      "execution_count": null,
      "outputs": [
        {
          "output_type": "display_data",
          "data": {
            "text/plain": [
              "GraphWidget(layout=Layout(height='800px', width='100%'))"
            ],
            "application/vnd.jupyter.widget-view+json": {
              "version_major": 2,
              "version_minor": 0,
              "model_id": "2a112d5af5ce489883470d9dc42fe6bf"
            }
          },
          "metadata": {
            "application/vnd.jupyter.widget-view+json": {
              "colab": {
                "custom_widget_manager": {
                  "url": "https://ssl.gstatic.com/colaboratory-static/widgets/colab-cdn-widget-manager/2b70e893a8ba7c0f/manager.min.js"
                }
              }
            }
          }
        },
        {
          "output_type": "display_data",
          "data": {
            "text/plain": [
              "GraphWidget(layout=Layout(height='800px', width='100%'))"
            ],
            "application/vnd.jupyter.widget-view+json": {
              "version_major": 2,
              "version_minor": 0,
              "model_id": "2a112d5af5ce489883470d9dc42fe6bf"
            }
          },
          "metadata": {
            "application/vnd.jupyter.widget-view+json": {
              "colab": {
                "custom_widget_manager": {
                  "url": "https://ssl.gstatic.com/colaboratory-static/widgets/colab-cdn-widget-manager/2b70e893a8ba7c0f/manager.min.js"
                }
              }
            }
          }
        }
      ]
    },
    {
      "cell_type": "code",
      "source": [
        "from typing import Tuple, List, Optional"
      ],
      "metadata": {
        "id": "OmeAJLDnkarg"
      },
      "execution_count": null,
      "outputs": []
    },
    {
      "cell_type": "code",
      "source": [
        "from langchain_community.vectorstores import Neo4jVector"
      ],
      "metadata": {
        "id": "zTaCp7kJmA34"
      },
      "execution_count": null,
      "outputs": []
    },
    {
      "cell_type": "code",
      "source": [
        "from langchain_openai import OpenAIEmbeddings\n",
        "vector_index = Neo4jVector.from_existing_graph(\n",
        "    OpenAIEmbeddings(),\n",
        "    search_type=\"hybrid\",\n",
        "    node_label=\"Document\",\n",
        "    text_node_properties=[\"text\"],\n",
        "    embedding_node_property=\"embedding\"\n",
        ")"
      ],
      "metadata": {
        "id": "GhQXOJ5ZmA1S"
      },
      "execution_count": null,
      "outputs": []
    },
    {
      "cell_type": "code",
      "source": [
        "from langchain_core.prompts import ChatPromptTemplate\n",
        "from langchain_core.prompts.prompt import PromptTemplate"
      ],
      "metadata": {
        "id": "THXRozUgmG7B"
      },
      "execution_count": null,
      "outputs": []
    },
    {
      "cell_type": "code",
      "source": [
        "prompt = ChatPromptTemplate.from_messages(\n",
        "    [\n",
        "        (\n",
        "            \"system\",\n",
        "            \"You are extracting organization and person entities from the text.\",\n",
        "        ),\n",
        "        (\n",
        "            \"human\",\n",
        "            \"Use the given format to extract information from the following \"\n",
        "            \"input: {question}\",\n",
        "        ),\n",
        "    ]\n",
        ")"
      ],
      "metadata": {
        "id": "P05t7hj1mG4U"
      },
      "execution_count": null,
      "outputs": []
    },
    {
      "cell_type": "code",
      "source": [
        "from langchain_core.pydantic_v1 import BaseModel, Field\n",
        "# Extract entities from text\n",
        "class Entities(BaseModel):\n",
        "    \"\"\"Identifying information about entities.\"\"\"\n",
        "\n",
        "    names: List[str] = Field(\n",
        "        ...,\n",
        "        description=\"All the person, organization, or business entities that \"\n",
        "        \"appear in the text\",\n",
        "    )\n"
      ],
      "metadata": {
        "id": "w5imcE43mUQ_"
      },
      "execution_count": null,
      "outputs": []
    },
    {
      "cell_type": "code",
      "source": [
        "entity_chain = prompt | llm.with_structured_output(Entities)"
      ],
      "metadata": {
        "id": "0ULq7h-OmG1J"
      },
      "execution_count": null,
      "outputs": []
    },
    {
      "cell_type": "code",
      "source": [
        "entity_chain.invoke({\"question\": \"Where was Amelia Earhart born?\"}).names"
      ],
      "metadata": {
        "colab": {
          "base_uri": "https://localhost:8080/"
        },
        "id": "-9gFDB35maWx",
        "outputId": "2dd94aa0-61c7-4c56-c2c3-625d90e5cb08"
      },
      "execution_count": null,
      "outputs": [
        {
          "output_type": "execute_result",
          "data": {
            "text/plain": [
              "['Amelia Earhart']"
            ]
          },
          "metadata": {},
          "execution_count": 37
        }
      ]
    },
    {
      "cell_type": "code",
      "source": [],
      "metadata": {
        "id": "88T8LOrGmxGE"
      },
      "execution_count": null,
      "outputs": []
    },
    {
      "cell_type": "code",
      "source": [],
      "metadata": {
        "id": "NBVNlSjJmxDM"
      },
      "execution_count": null,
      "outputs": []
    },
    {
      "cell_type": "code",
      "source": [],
      "metadata": {
        "id": "awI_g4RUmxAH"
      },
      "execution_count": null,
      "outputs": []
    },
    {
      "cell_type": "markdown",
      "source": [],
      "metadata": {
        "id": "hsv8ojK2fzrx"
      }
    }
  ]
}